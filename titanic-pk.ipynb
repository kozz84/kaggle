{
 "cells": [
  {
   "cell_type": "code",
   "execution_count": 1,
   "id": "357efb2f",
   "metadata": {
    "_cell_guid": "b1076dfc-b9ad-4769-8c92-a6c4dae69d19",
    "_uuid": "8f2839f25d086af736a60e9eeb907d3b93b6e0e5",
    "execution": {
     "iopub.execute_input": "2022-06-23T14:14:40.330671Z",
     "iopub.status.busy": "2022-06-23T14:14:40.329700Z",
     "iopub.status.idle": "2022-06-23T14:14:40.343354Z",
     "shell.execute_reply": "2022-06-23T14:14:40.342704Z"
    },
    "papermill": {
     "duration": 0.060255,
     "end_time": "2022-06-23T14:14:40.346984",
     "exception": false,
     "start_time": "2022-06-23T14:14:40.286729",
     "status": "completed"
    },
    "tags": []
   },
   "outputs": [
    {
     "name": "stdout",
     "output_type": "stream",
     "text": [
      "/kaggle/input/titanic/train.csv\n",
      "/kaggle/input/titanic/test.csv\n",
      "/kaggle/input/titanic/gender_submission.csv\n"
     ]
    }
   ],
   "source": [
    "# This Python 3 environment comes with many helpful analytics libraries installed\n",
    "# It is defined by the kaggle/python Docker image: https://github.com/kaggle/docker-python\n",
    "# For example, here's several helpful packages to load\n",
    "\n",
    "import numpy as np # linear algebra\n",
    "import pandas as pd # data processing, CSV file I/O (e.g. pd.read_csv)\n",
    "\n",
    "# Input data files are available in the read-only \"../input/\" directory\n",
    "# For example, running this (by clicking run or pressing Shift+Enter) will list all files under the input directory\n",
    "\n",
    "import os\n",
    "for dirname, _, filenames in os.walk('/kaggle/input'):\n",
    "    for filename in filenames:\n",
    "        print(os.path.join(dirname, filename))\n",
    "\n",
    "# You can write up to 20GB to the current directory (/kaggle/working/) that gets preserved as output when you create a version using \"Save & Run All\" \n",
    "# You can also write temporary files to /kaggle/temp/, but they won't be saved outside of the current session"
   ]
  },
  {
   "cell_type": "code",
   "execution_count": 2,
   "id": "396f3dff",
   "metadata": {
    "execution": {
     "iopub.execute_input": "2022-06-23T14:14:40.432378Z",
     "iopub.status.busy": "2022-06-23T14:14:40.430526Z",
     "iopub.status.idle": "2022-06-23T14:14:41.584098Z",
     "shell.execute_reply": "2022-06-23T14:14:41.583202Z"
    },
    "papermill": {
     "duration": 1.198582,
     "end_time": "2022-06-23T14:14:41.587322",
     "exception": false,
     "start_time": "2022-06-23T14:14:40.388740",
     "status": "completed"
    },
    "tags": []
   },
   "outputs": [],
   "source": [
    "import pandas as pd\n",
    "import numpy as np\n",
    "import matplotlib.pyplot as plt\n",
    "import seaborn as sns"
   ]
  },
  {
   "cell_type": "code",
   "execution_count": 3,
   "id": "0b275b4a",
   "metadata": {
    "execution": {
     "iopub.execute_input": "2022-06-23T14:14:41.677036Z",
     "iopub.status.busy": "2022-06-23T14:14:41.676009Z",
     "iopub.status.idle": "2022-06-23T14:14:41.727047Z",
     "shell.execute_reply": "2022-06-23T14:14:41.726092Z"
    },
    "papermill": {
     "duration": 0.095755,
     "end_time": "2022-06-23T14:14:41.729596",
     "exception": false,
     "start_time": "2022-06-23T14:14:41.633841",
     "status": "completed"
    },
    "tags": []
   },
   "outputs": [],
   "source": [
    "test = pd.read_csv('../input/titanic/test.csv')\n",
    "train = pd.read_csv('../input/titanic/train.csv')\n",
    "y= train['Survived']\n",
    "#sns.pairplot(train, hue='Survived')\n",
    "train = train.drop('Survived',axis=1)\n",
    "all = pd.concat([train,test],axis=0)"
   ]
  },
  {
   "cell_type": "code",
   "execution_count": 4,
   "id": "68d7e7ba",
   "metadata": {
    "execution": {
     "iopub.execute_input": "2022-06-23T14:14:41.815844Z",
     "iopub.status.busy": "2022-06-23T14:14:41.815279Z",
     "iopub.status.idle": "2022-06-23T14:14:41.850092Z",
     "shell.execute_reply": "2022-06-23T14:14:41.849446Z"
    },
    "papermill": {
     "duration": 0.082135,
     "end_time": "2022-06-23T14:14:41.854984",
     "exception": false,
     "start_time": "2022-06-23T14:14:41.772849",
     "status": "completed"
    },
    "tags": []
   },
   "outputs": [
    {
     "data": {
      "text/html": [
       "<div>\n",
       "<style scoped>\n",
       "    .dataframe tbody tr th:only-of-type {\n",
       "        vertical-align: middle;\n",
       "    }\n",
       "\n",
       "    .dataframe tbody tr th {\n",
       "        vertical-align: top;\n",
       "    }\n",
       "\n",
       "    .dataframe thead th {\n",
       "        text-align: right;\n",
       "    }\n",
       "</style>\n",
       "<table border=\"1\" class=\"dataframe\">\n",
       "  <thead>\n",
       "    <tr style=\"text-align: right;\">\n",
       "      <th></th>\n",
       "      <th>PassengerId</th>\n",
       "      <th>Pclass</th>\n",
       "      <th>Name</th>\n",
       "      <th>Sex</th>\n",
       "      <th>Age</th>\n",
       "      <th>SibSp</th>\n",
       "      <th>Parch</th>\n",
       "      <th>Ticket</th>\n",
       "      <th>Fare</th>\n",
       "      <th>Cabin</th>\n",
       "      <th>Embarked</th>\n",
       "    </tr>\n",
       "  </thead>\n",
       "  <tbody>\n",
       "    <tr>\n",
       "      <th>0</th>\n",
       "      <td>892</td>\n",
       "      <td>3</td>\n",
       "      <td>Kelly, Mr. James</td>\n",
       "      <td>male</td>\n",
       "      <td>34.5</td>\n",
       "      <td>0</td>\n",
       "      <td>0</td>\n",
       "      <td>330911</td>\n",
       "      <td>7.8292</td>\n",
       "      <td>NaN</td>\n",
       "      <td>Q</td>\n",
       "    </tr>\n",
       "    <tr>\n",
       "      <th>1</th>\n",
       "      <td>893</td>\n",
       "      <td>3</td>\n",
       "      <td>Wilkes, Mrs. James (Ellen Needs)</td>\n",
       "      <td>female</td>\n",
       "      <td>47.0</td>\n",
       "      <td>1</td>\n",
       "      <td>0</td>\n",
       "      <td>363272</td>\n",
       "      <td>7.0000</td>\n",
       "      <td>NaN</td>\n",
       "      <td>S</td>\n",
       "    </tr>\n",
       "    <tr>\n",
       "      <th>2</th>\n",
       "      <td>894</td>\n",
       "      <td>2</td>\n",
       "      <td>Myles, Mr. Thomas Francis</td>\n",
       "      <td>male</td>\n",
       "      <td>62.0</td>\n",
       "      <td>0</td>\n",
       "      <td>0</td>\n",
       "      <td>240276</td>\n",
       "      <td>9.6875</td>\n",
       "      <td>NaN</td>\n",
       "      <td>Q</td>\n",
       "    </tr>\n",
       "    <tr>\n",
       "      <th>3</th>\n",
       "      <td>895</td>\n",
       "      <td>3</td>\n",
       "      <td>Wirz, Mr. Albert</td>\n",
       "      <td>male</td>\n",
       "      <td>27.0</td>\n",
       "      <td>0</td>\n",
       "      <td>0</td>\n",
       "      <td>315154</td>\n",
       "      <td>8.6625</td>\n",
       "      <td>NaN</td>\n",
       "      <td>S</td>\n",
       "    </tr>\n",
       "    <tr>\n",
       "      <th>4</th>\n",
       "      <td>896</td>\n",
       "      <td>3</td>\n",
       "      <td>Hirvonen, Mrs. Alexander (Helga E Lindqvist)</td>\n",
       "      <td>female</td>\n",
       "      <td>22.0</td>\n",
       "      <td>1</td>\n",
       "      <td>1</td>\n",
       "      <td>3101298</td>\n",
       "      <td>12.2875</td>\n",
       "      <td>NaN</td>\n",
       "      <td>S</td>\n",
       "    </tr>\n",
       "    <tr>\n",
       "      <th>...</th>\n",
       "      <td>...</td>\n",
       "      <td>...</td>\n",
       "      <td>...</td>\n",
       "      <td>...</td>\n",
       "      <td>...</td>\n",
       "      <td>...</td>\n",
       "      <td>...</td>\n",
       "      <td>...</td>\n",
       "      <td>...</td>\n",
       "      <td>...</td>\n",
       "      <td>...</td>\n",
       "    </tr>\n",
       "    <tr>\n",
       "      <th>413</th>\n",
       "      <td>1305</td>\n",
       "      <td>3</td>\n",
       "      <td>Spector, Mr. Woolf</td>\n",
       "      <td>male</td>\n",
       "      <td>NaN</td>\n",
       "      <td>0</td>\n",
       "      <td>0</td>\n",
       "      <td>A.5. 3236</td>\n",
       "      <td>8.0500</td>\n",
       "      <td>NaN</td>\n",
       "      <td>S</td>\n",
       "    </tr>\n",
       "    <tr>\n",
       "      <th>414</th>\n",
       "      <td>1306</td>\n",
       "      <td>1</td>\n",
       "      <td>Oliva y Ocana, Dona. Fermina</td>\n",
       "      <td>female</td>\n",
       "      <td>39.0</td>\n",
       "      <td>0</td>\n",
       "      <td>0</td>\n",
       "      <td>PC 17758</td>\n",
       "      <td>108.9000</td>\n",
       "      <td>C105</td>\n",
       "      <td>C</td>\n",
       "    </tr>\n",
       "    <tr>\n",
       "      <th>415</th>\n",
       "      <td>1307</td>\n",
       "      <td>3</td>\n",
       "      <td>Saether, Mr. Simon Sivertsen</td>\n",
       "      <td>male</td>\n",
       "      <td>38.5</td>\n",
       "      <td>0</td>\n",
       "      <td>0</td>\n",
       "      <td>SOTON/O.Q. 3101262</td>\n",
       "      <td>7.2500</td>\n",
       "      <td>NaN</td>\n",
       "      <td>S</td>\n",
       "    </tr>\n",
       "    <tr>\n",
       "      <th>416</th>\n",
       "      <td>1308</td>\n",
       "      <td>3</td>\n",
       "      <td>Ware, Mr. Frederick</td>\n",
       "      <td>male</td>\n",
       "      <td>NaN</td>\n",
       "      <td>0</td>\n",
       "      <td>0</td>\n",
       "      <td>359309</td>\n",
       "      <td>8.0500</td>\n",
       "      <td>NaN</td>\n",
       "      <td>S</td>\n",
       "    </tr>\n",
       "    <tr>\n",
       "      <th>417</th>\n",
       "      <td>1309</td>\n",
       "      <td>3</td>\n",
       "      <td>Peter, Master. Michael J</td>\n",
       "      <td>male</td>\n",
       "      <td>NaN</td>\n",
       "      <td>1</td>\n",
       "      <td>1</td>\n",
       "      <td>2668</td>\n",
       "      <td>22.3583</td>\n",
       "      <td>NaN</td>\n",
       "      <td>C</td>\n",
       "    </tr>\n",
       "  </tbody>\n",
       "</table>\n",
       "<p>418 rows × 11 columns</p>\n",
       "</div>"
      ],
      "text/plain": [
       "     PassengerId  Pclass                                          Name  \\\n",
       "0            892       3                              Kelly, Mr. James   \n",
       "1            893       3              Wilkes, Mrs. James (Ellen Needs)   \n",
       "2            894       2                     Myles, Mr. Thomas Francis   \n",
       "3            895       3                              Wirz, Mr. Albert   \n",
       "4            896       3  Hirvonen, Mrs. Alexander (Helga E Lindqvist)   \n",
       "..           ...     ...                                           ...   \n",
       "413         1305       3                            Spector, Mr. Woolf   \n",
       "414         1306       1                  Oliva y Ocana, Dona. Fermina   \n",
       "415         1307       3                  Saether, Mr. Simon Sivertsen   \n",
       "416         1308       3                           Ware, Mr. Frederick   \n",
       "417         1309       3                      Peter, Master. Michael J   \n",
       "\n",
       "        Sex   Age  SibSp  Parch              Ticket      Fare Cabin Embarked  \n",
       "0      male  34.5      0      0              330911    7.8292   NaN        Q  \n",
       "1    female  47.0      1      0              363272    7.0000   NaN        S  \n",
       "2      male  62.0      0      0              240276    9.6875   NaN        Q  \n",
       "3      male  27.0      0      0              315154    8.6625   NaN        S  \n",
       "4    female  22.0      1      1             3101298   12.2875   NaN        S  \n",
       "..      ...   ...    ...    ...                 ...       ...   ...      ...  \n",
       "413    male   NaN      0      0           A.5. 3236    8.0500   NaN        S  \n",
       "414  female  39.0      0      0            PC 17758  108.9000  C105        C  \n",
       "415    male  38.5      0      0  SOTON/O.Q. 3101262    7.2500   NaN        S  \n",
       "416    male   NaN      0      0              359309    8.0500   NaN        S  \n",
       "417    male   NaN      1      1                2668   22.3583   NaN        C  \n",
       "\n",
       "[418 rows x 11 columns]"
      ]
     },
     "execution_count": 4,
     "metadata": {},
     "output_type": "execute_result"
    }
   ],
   "source": [
    "test"
   ]
  },
  {
   "cell_type": "code",
   "execution_count": 5,
   "id": "1283c53b",
   "metadata": {
    "execution": {
     "iopub.execute_input": "2022-06-23T14:14:41.949640Z",
     "iopub.status.busy": "2022-06-23T14:14:41.949073Z",
     "iopub.status.idle": "2022-06-23T14:14:41.954799Z",
     "shell.execute_reply": "2022-06-23T14:14:41.954188Z"
    },
    "papermill": {
     "duration": 0.052171,
     "end_time": "2022-06-23T14:14:41.956922",
     "exception": false,
     "start_time": "2022-06-23T14:14:41.904751",
     "status": "completed"
    },
    "tags": []
   },
   "outputs": [],
   "source": [
    "all = all.drop(['Name','Ticket','Cabin'],axis=1)"
   ]
  },
  {
   "cell_type": "code",
   "execution_count": 6,
   "id": "8d25ec31",
   "metadata": {
    "execution": {
     "iopub.execute_input": "2022-06-23T14:14:42.040342Z",
     "iopub.status.busy": "2022-06-23T14:14:42.040035Z",
     "iopub.status.idle": "2022-06-23T14:14:42.072120Z",
     "shell.execute_reply": "2022-06-23T14:14:42.071514Z"
    },
    "papermill": {
     "duration": 0.07572,
     "end_time": "2022-06-23T14:14:42.074057",
     "exception": false,
     "start_time": "2022-06-23T14:14:41.998337",
     "status": "completed"
    },
    "tags": []
   },
   "outputs": [
    {
     "data": {
      "text/plain": [
       "37"
      ]
     },
     "execution_count": 6,
     "metadata": {},
     "output_type": "execute_result"
    }
   ],
   "source": [
    "sex_age = pd.pivot_table(data=all, index='Pclass', columns='Sex',aggfunc='mean')['Age']\n",
    "int(sex_age['female'][1])"
   ]
  },
  {
   "cell_type": "code",
   "execution_count": 7,
   "id": "86b4cc1a",
   "metadata": {
    "execution": {
     "iopub.execute_input": "2022-06-23T14:14:42.160874Z",
     "iopub.status.busy": "2022-06-23T14:14:42.160264Z",
     "iopub.status.idle": "2022-06-23T14:14:42.569735Z",
     "shell.execute_reply": "2022-06-23T14:14:42.568838Z"
    },
    "papermill": {
     "duration": 0.457133,
     "end_time": "2022-06-23T14:14:42.572070",
     "exception": false,
     "start_time": "2022-06-23T14:14:42.114937",
     "status": "completed"
    },
    "tags": []
   },
   "outputs": [
    {
     "data": {
      "text/plain": [
       "<AxesSubplot:xlabel='Pclass', ylabel='Age'>"
      ]
     },
     "execution_count": 7,
     "metadata": {},
     "output_type": "execute_result"
    },
    {
     "data": {
      "image/png": "[encoded data removed]",
      "text/plain": [
       "<Figure size 432x288 with 1 Axes>"
      ]
     },
     "metadata": {
      "needs_background": "light"
     },
     "output_type": "display_data"
    }
   ],
   "source": [
    "sns.barplot(data=all, x='Pclass', y='Age', estimator=np.mean,hue='Sex')"
   ]
  },
  {
   "cell_type": "code",
   "execution_count": 8,
   "id": "e6ca1cf7",
   "metadata": {
    "execution": {
     "iopub.execute_input": "2022-06-23T14:14:42.658148Z",
     "iopub.status.busy": "2022-06-23T14:14:42.657852Z",
     "iopub.status.idle": "2022-06-23T14:14:42.662354Z",
     "shell.execute_reply": "2022-06-23T14:14:42.661418Z"
    },
    "papermill": {
     "duration": 0.049904,
     "end_time": "2022-06-23T14:14:42.664295",
     "exception": false,
     "start_time": "2022-06-23T14:14:42.614391",
     "status": "completed"
    },
    "tags": []
   },
   "outputs": [],
   "source": [
    "combo = all.copy()"
   ]
  },
  {
   "cell_type": "code",
   "execution_count": 9,
   "id": "46f3501e",
   "metadata": {
    "execution": {
     "iopub.execute_input": "2022-06-23T14:14:42.750843Z",
     "iopub.status.busy": "2022-06-23T14:14:42.750560Z",
     "iopub.status.idle": "2022-06-23T14:14:42.758431Z",
     "shell.execute_reply": "2022-06-23T14:14:42.757518Z"
    },
    "papermill": {
     "duration": 0.053507,
     "end_time": "2022-06-23T14:14:42.760364",
     "exception": false,
     "start_time": "2022-06-23T14:14:42.706857",
     "status": "completed"
    },
    "tags": []
   },
   "outputs": [
    {
     "data": {
      "text/plain": [
       "PassengerId          32\n",
       "Pclass                1\n",
       "Sex              female\n",
       "Age                 NaN\n",
       "SibSp                 1\n",
       "Parch                 0\n",
       "Fare           146.5208\n",
       "Embarked              C\n",
       "Name: 31, dtype: object"
      ]
     },
     "execution_count": 9,
     "metadata": {},
     "output_type": "execute_result"
    }
   ],
   "source": [
    "combo.iloc[31]"
   ]
  },
  {
   "cell_type": "code",
   "execution_count": 10,
   "id": "109e123c",
   "metadata": {
    "execution": {
     "iopub.execute_input": "2022-06-23T14:14:42.847552Z",
     "iopub.status.busy": "2022-06-23T14:14:42.847230Z",
     "iopub.status.idle": "2022-06-23T14:14:42.862043Z",
     "shell.execute_reply": "2022-06-23T14:14:42.861383Z"
    },
    "papermill": {
     "duration": 0.060853,
     "end_time": "2022-06-23T14:14:42.864220",
     "exception": false,
     "start_time": "2022-06-23T14:14:42.803367",
     "status": "completed"
    },
    "tags": []
   },
   "outputs": [],
   "source": [
    "for i in combo['Sex'].unique():\n",
    "    for j in combo['Pclass'].unique():\n",
    "        combo.loc[(combo['Pclass'] == j)&(combo['Sex'] == i)&(combo['Age'].isna()),'Age'] = int(sex_age[i][j])"
   ]
  },
  {
   "cell_type": "code",
   "execution_count": 11,
   "id": "8b9ad94d",
   "metadata": {
    "execution": {
     "iopub.execute_input": "2022-06-23T14:14:42.951146Z",
     "iopub.status.busy": "2022-06-23T14:14:42.950830Z",
     "iopub.status.idle": "2022-06-23T14:14:42.958941Z",
     "shell.execute_reply": "2022-06-23T14:14:42.958331Z"
    },
    "papermill": {
     "duration": 0.053275,
     "end_time": "2022-06-23T14:14:42.960830",
     "exception": false,
     "start_time": "2022-06-23T14:14:42.907555",
     "status": "completed"
    },
    "tags": []
   },
   "outputs": [
    {
     "data": {
      "text/plain": [
       "PassengerId    0\n",
       "Pclass         0\n",
       "Sex            0\n",
       "Age            0\n",
       "SibSp          0\n",
       "Parch          0\n",
       "Fare           1\n",
       "Embarked       2\n",
       "dtype: int64"
      ]
     },
     "execution_count": 11,
     "metadata": {},
     "output_type": "execute_result"
    }
   ],
   "source": [
    "combo.isna().sum()"
   ]
  },
  {
   "cell_type": "code",
   "execution_count": 12,
   "id": "055e56bd",
   "metadata": {
    "execution": {
     "iopub.execute_input": "2022-06-23T14:14:43.047948Z",
     "iopub.status.busy": "2022-06-23T14:14:43.046905Z",
     "iopub.status.idle": "2022-06-23T14:14:43.231607Z",
     "shell.execute_reply": "2022-06-23T14:14:43.230559Z"
    },
    "papermill": {
     "duration": 0.230891,
     "end_time": "2022-06-23T14:14:43.234123",
     "exception": false,
     "start_time": "2022-06-23T14:14:43.003232",
     "status": "completed"
    },
    "tags": []
   },
   "outputs": [
    {
     "data": {
      "text/plain": [
       "<AxesSubplot:>"
      ]
     },
     "execution_count": 12,
     "metadata": {},
     "output_type": "execute_result"
    },
    {
     "data": {
      "image/png": "[encoded data removed]",
      "text/plain": [
       "<Figure size 432x288 with 1 Axes>"
      ]
     },
     "metadata": {
      "needs_background": "light"
     },
     "output_type": "display_data"
    }
   ],
   "source": [
    "combo['Embarked'].hist()"
   ]
  },
  {
   "cell_type": "code",
   "execution_count": 13,
   "id": "da05999e",
   "metadata": {
    "execution": {
     "iopub.execute_input": "2022-06-23T14:14:43.325452Z",
     "iopub.status.busy": "2022-06-23T14:14:43.324922Z",
     "iopub.status.idle": "2022-06-23T14:14:43.331811Z",
     "shell.execute_reply": "2022-06-23T14:14:43.330837Z"
    },
    "papermill": {
     "duration": 0.055912,
     "end_time": "2022-06-23T14:14:43.333988",
     "exception": false,
     "start_time": "2022-06-23T14:14:43.278076",
     "status": "completed"
    },
    "tags": []
   },
   "outputs": [],
   "source": [
    "combo['Fare'].fillna(combo['Fare'].mean,inplace=True)"
   ]
  },
  {
   "cell_type": "code",
   "execution_count": 14,
   "id": "1559e172",
   "metadata": {
    "execution": {
     "iopub.execute_input": "2022-06-23T14:14:43.425257Z",
     "iopub.status.busy": "2022-06-23T14:14:43.424939Z",
     "iopub.status.idle": "2022-06-23T14:14:43.591032Z",
     "shell.execute_reply": "2022-06-23T14:14:43.590038Z"
    },
    "papermill": {
     "duration": 0.214484,
     "end_time": "2022-06-23T14:14:43.593409",
     "exception": false,
     "start_time": "2022-06-23T14:14:43.378925",
     "status": "completed"
    },
    "tags": []
   },
   "outputs": [
    {
     "data": {
      "text/plain": [
       "<AxesSubplot:>"
      ]
     },
     "execution_count": 14,
     "metadata": {},
     "output_type": "execute_result"
    },
    {
     "data": {
      "image/png": "[encoded data removed]",
      "text/plain": [
       "<Figure size 432x288 with 1 Axes>"
      ]
     },
     "metadata": {
      "needs_background": "light"
     },
     "output_type": "display_data"
    }
   ],
   "source": [
    "combo['Embarked'].hist()"
   ]
  },
  {
   "cell_type": "code",
   "execution_count": 15,
   "id": "e2733656",
   "metadata": {
    "execution": {
     "iopub.execute_input": "2022-06-23T14:14:43.685352Z",
     "iopub.status.busy": "2022-06-23T14:14:43.684998Z",
     "iopub.status.idle": "2022-06-23T14:14:43.690647Z",
     "shell.execute_reply": "2022-06-23T14:14:43.689732Z"
    },
    "papermill": {
     "duration": 0.054038,
     "end_time": "2022-06-23T14:14:43.692815",
     "exception": false,
     "start_time": "2022-06-23T14:14:43.638777",
     "status": "completed"
    },
    "tags": []
   },
   "outputs": [],
   "source": [
    "combo['Embarked'].fillna('S',inplace=True)"
   ]
  },
  {
   "cell_type": "code",
   "execution_count": 16,
   "id": "1b54b1ca",
   "metadata": {
    "execution": {
     "iopub.execute_input": "2022-06-23T14:14:43.786856Z",
     "iopub.status.busy": "2022-06-23T14:14:43.785925Z",
     "iopub.status.idle": "2022-06-23T14:14:43.792758Z",
     "shell.execute_reply": "2022-06-23T14:14:43.791877Z"
    },
    "papermill": {
     "duration": 0.056309,
     "end_time": "2022-06-23T14:14:43.795051",
     "exception": false,
     "start_time": "2022-06-23T14:14:43.738742",
     "status": "completed"
    },
    "tags": []
   },
   "outputs": [],
   "source": [
    "combo = combo.drop('PassengerId',axis=1)"
   ]
  },
  {
   "cell_type": "code",
   "execution_count": 17,
   "id": "37308074",
   "metadata": {
    "execution": {
     "iopub.execute_input": "2022-06-23T14:14:43.887798Z",
     "iopub.status.busy": "2022-06-23T14:14:43.887237Z",
     "iopub.status.idle": "2022-06-23T14:14:43.892897Z",
     "shell.execute_reply": "2022-06-23T14:14:43.892229Z"
    },
    "papermill": {
     "duration": 0.054795,
     "end_time": "2022-06-23T14:14:43.894915",
     "exception": false,
     "start_time": "2022-06-23T14:14:43.840120",
     "status": "completed"
    },
    "tags": []
   },
   "outputs": [],
   "source": [
    "combo = combo.drop('Fare',axis=1)"
   ]
  },
  {
   "cell_type": "code",
   "execution_count": 18,
   "id": "bc03cd60",
   "metadata": {
    "execution": {
     "iopub.execute_input": "2022-06-23T14:14:43.986089Z",
     "iopub.status.busy": "2022-06-23T14:14:43.985506Z",
     "iopub.status.idle": "2022-06-23T14:14:43.998582Z",
     "shell.execute_reply": "2022-06-23T14:14:43.997715Z"
    },
    "papermill": {
     "duration": 0.060988,
     "end_time": "2022-06-23T14:14:44.000737",
     "exception": false,
     "start_time": "2022-06-23T14:14:43.939749",
     "status": "completed"
    },
    "tags": []
   },
   "outputs": [
    {
     "data": {
      "text/html": [
       "<div>\n",
       "<style scoped>\n",
       "    .dataframe tbody tr th:only-of-type {\n",
       "        vertical-align: middle;\n",
       "    }\n",
       "\n",
       "    .dataframe tbody tr th {\n",
       "        vertical-align: top;\n",
       "    }\n",
       "\n",
       "    .dataframe thead th {\n",
       "        text-align: right;\n",
       "    }\n",
       "</style>\n",
       "<table border=\"1\" class=\"dataframe\">\n",
       "  <thead>\n",
       "    <tr style=\"text-align: right;\">\n",
       "      <th></th>\n",
       "      <th>Sex</th>\n",
       "      <th>Embarked</th>\n",
       "    </tr>\n",
       "  </thead>\n",
       "  <tbody>\n",
       "    <tr>\n",
       "      <th>0</th>\n",
       "      <td>male</td>\n",
       "      <td>S</td>\n",
       "    </tr>\n",
       "    <tr>\n",
       "      <th>1</th>\n",
       "      <td>female</td>\n",
       "      <td>C</td>\n",
       "    </tr>\n",
       "    <tr>\n",
       "      <th>2</th>\n",
       "      <td>female</td>\n",
       "      <td>S</td>\n",
       "    </tr>\n",
       "    <tr>\n",
       "      <th>3</th>\n",
       "      <td>female</td>\n",
       "      <td>S</td>\n",
       "    </tr>\n",
       "    <tr>\n",
       "      <th>4</th>\n",
       "      <td>male</td>\n",
       "      <td>S</td>\n",
       "    </tr>\n",
       "    <tr>\n",
       "      <th>...</th>\n",
       "      <td>...</td>\n",
       "      <td>...</td>\n",
       "    </tr>\n",
       "    <tr>\n",
       "      <th>413</th>\n",
       "      <td>male</td>\n",
       "      <td>S</td>\n",
       "    </tr>\n",
       "    <tr>\n",
       "      <th>414</th>\n",
       "      <td>female</td>\n",
       "      <td>C</td>\n",
       "    </tr>\n",
       "    <tr>\n",
       "      <th>415</th>\n",
       "      <td>male</td>\n",
       "      <td>S</td>\n",
       "    </tr>\n",
       "    <tr>\n",
       "      <th>416</th>\n",
       "      <td>male</td>\n",
       "      <td>S</td>\n",
       "    </tr>\n",
       "    <tr>\n",
       "      <th>417</th>\n",
       "      <td>male</td>\n",
       "      <td>C</td>\n",
       "    </tr>\n",
       "  </tbody>\n",
       "</table>\n",
       "<p>1309 rows × 2 columns</p>\n",
       "</div>"
      ],
      "text/plain": [
       "        Sex Embarked\n",
       "0      male        S\n",
       "1    female        C\n",
       "2    female        S\n",
       "3    female        S\n",
       "4      male        S\n",
       "..      ...      ...\n",
       "413    male        S\n",
       "414  female        C\n",
       "415    male        S\n",
       "416    male        S\n",
       "417    male        C\n",
       "\n",
       "[1309 rows x 2 columns]"
      ]
     },
     "execution_count": 18,
     "metadata": {},
     "output_type": "execute_result"
    }
   ],
   "source": [
    "combo.select_dtypes('object')"
   ]
  },
  {
   "cell_type": "code",
   "execution_count": 19,
   "id": "63df9406",
   "metadata": {
    "execution": {
     "iopub.execute_input": "2022-06-23T14:14:44.093066Z",
     "iopub.status.busy": "2022-06-23T14:14:44.092771Z",
     "iopub.status.idle": "2022-06-23T14:14:44.103843Z",
     "shell.execute_reply": "2022-06-23T14:14:44.102923Z"
    },
    "papermill": {
     "duration": 0.059814,
     "end_time": "2022-06-23T14:14:44.105925",
     "exception": false,
     "start_time": "2022-06-23T14:14:44.046111",
     "status": "completed"
    },
    "tags": []
   },
   "outputs": [],
   "source": [
    "combo  = pd.get_dummies(combo)"
   ]
  },
  {
   "cell_type": "code",
   "execution_count": 20,
   "id": "aaa76a37",
   "metadata": {
    "execution": {
     "iopub.execute_input": "2022-06-23T14:14:44.197831Z",
     "iopub.status.busy": "2022-06-23T14:14:44.197517Z",
     "iopub.status.idle": "2022-06-23T14:14:44.214351Z",
     "shell.execute_reply": "2022-06-23T14:14:44.213573Z"
    },
    "papermill": {
     "duration": 0.065044,
     "end_time": "2022-06-23T14:14:44.216158",
     "exception": false,
     "start_time": "2022-06-23T14:14:44.151114",
     "status": "completed"
    },
    "tags": []
   },
   "outputs": [
    {
     "data": {
      "text/html": [
       "<div>\n",
       "<style scoped>\n",
       "    .dataframe tbody tr th:only-of-type {\n",
       "        vertical-align: middle;\n",
       "    }\n",
       "\n",
       "    .dataframe tbody tr th {\n",
       "        vertical-align: top;\n",
       "    }\n",
       "\n",
       "    .dataframe thead th {\n",
       "        text-align: right;\n",
       "    }\n",
       "</style>\n",
       "<table border=\"1\" class=\"dataframe\">\n",
       "  <thead>\n",
       "    <tr style=\"text-align: right;\">\n",
       "      <th></th>\n",
       "      <th>Pclass</th>\n",
       "      <th>Age</th>\n",
       "      <th>SibSp</th>\n",
       "      <th>Parch</th>\n",
       "      <th>Sex_female</th>\n",
       "      <th>Sex_male</th>\n",
       "      <th>Embarked_C</th>\n",
       "      <th>Embarked_Q</th>\n",
       "      <th>Embarked_S</th>\n",
       "    </tr>\n",
       "  </thead>\n",
       "  <tbody>\n",
       "    <tr>\n",
       "      <th>0</th>\n",
       "      <td>3</td>\n",
       "      <td>22.0</td>\n",
       "      <td>1</td>\n",
       "      <td>0</td>\n",
       "      <td>0</td>\n",
       "      <td>1</td>\n",
       "      <td>0</td>\n",
       "      <td>0</td>\n",
       "      <td>1</td>\n",
       "    </tr>\n",
       "    <tr>\n",
       "      <th>1</th>\n",
       "      <td>1</td>\n",
       "      <td>38.0</td>\n",
       "      <td>1</td>\n",
       "      <td>0</td>\n",
       "      <td>1</td>\n",
       "      <td>0</td>\n",
       "      <td>1</td>\n",
       "      <td>0</td>\n",
       "      <td>0</td>\n",
       "    </tr>\n",
       "    <tr>\n",
       "      <th>2</th>\n",
       "      <td>3</td>\n",
       "      <td>26.0</td>\n",
       "      <td>0</td>\n",
       "      <td>0</td>\n",
       "      <td>1</td>\n",
       "      <td>0</td>\n",
       "      <td>0</td>\n",
       "      <td>0</td>\n",
       "      <td>1</td>\n",
       "    </tr>\n",
       "    <tr>\n",
       "      <th>3</th>\n",
       "      <td>1</td>\n",
       "      <td>35.0</td>\n",
       "      <td>1</td>\n",
       "      <td>0</td>\n",
       "      <td>1</td>\n",
       "      <td>0</td>\n",
       "      <td>0</td>\n",
       "      <td>0</td>\n",
       "      <td>1</td>\n",
       "    </tr>\n",
       "    <tr>\n",
       "      <th>4</th>\n",
       "      <td>3</td>\n",
       "      <td>35.0</td>\n",
       "      <td>0</td>\n",
       "      <td>0</td>\n",
       "      <td>0</td>\n",
       "      <td>1</td>\n",
       "      <td>0</td>\n",
       "      <td>0</td>\n",
       "      <td>1</td>\n",
       "    </tr>\n",
       "    <tr>\n",
       "      <th>...</th>\n",
       "      <td>...</td>\n",
       "      <td>...</td>\n",
       "      <td>...</td>\n",
       "      <td>...</td>\n",
       "      <td>...</td>\n",
       "      <td>...</td>\n",
       "      <td>...</td>\n",
       "      <td>...</td>\n",
       "      <td>...</td>\n",
       "    </tr>\n",
       "    <tr>\n",
       "      <th>413</th>\n",
       "      <td>3</td>\n",
       "      <td>25.0</td>\n",
       "      <td>0</td>\n",
       "      <td>0</td>\n",
       "      <td>0</td>\n",
       "      <td>1</td>\n",
       "      <td>0</td>\n",
       "      <td>0</td>\n",
       "      <td>1</td>\n",
       "    </tr>\n",
       "    <tr>\n",
       "      <th>414</th>\n",
       "      <td>1</td>\n",
       "      <td>39.0</td>\n",
       "      <td>0</td>\n",
       "      <td>0</td>\n",
       "      <td>1</td>\n",
       "      <td>0</td>\n",
       "      <td>1</td>\n",
       "      <td>0</td>\n",
       "      <td>0</td>\n",
       "    </tr>\n",
       "    <tr>\n",
       "      <th>415</th>\n",
       "      <td>3</td>\n",
       "      <td>38.5</td>\n",
       "      <td>0</td>\n",
       "      <td>0</td>\n",
       "      <td>0</td>\n",
       "      <td>1</td>\n",
       "      <td>0</td>\n",
       "      <td>0</td>\n",
       "      <td>1</td>\n",
       "    </tr>\n",
       "    <tr>\n",
       "      <th>416</th>\n",
       "      <td>3</td>\n",
       "      <td>25.0</td>\n",
       "      <td>0</td>\n",
       "      <td>0</td>\n",
       "      <td>0</td>\n",
       "      <td>1</td>\n",
       "      <td>0</td>\n",
       "      <td>0</td>\n",
       "      <td>1</td>\n",
       "    </tr>\n",
       "    <tr>\n",
       "      <th>417</th>\n",
       "      <td>3</td>\n",
       "      <td>25.0</td>\n",
       "      <td>1</td>\n",
       "      <td>1</td>\n",
       "      <td>0</td>\n",
       "      <td>1</td>\n",
       "      <td>1</td>\n",
       "      <td>0</td>\n",
       "      <td>0</td>\n",
       "    </tr>\n",
       "  </tbody>\n",
       "</table>\n",
       "<p>1309 rows × 9 columns</p>\n",
       "</div>"
      ],
      "text/plain": [
       "     Pclass   Age  SibSp  Parch  Sex_female  Sex_male  Embarked_C  Embarked_Q  \\\n",
       "0         3  22.0      1      0           0         1           0           0   \n",
       "1         1  38.0      1      0           1         0           1           0   \n",
       "2         3  26.0      0      0           1         0           0           0   \n",
       "3         1  35.0      1      0           1         0           0           0   \n",
       "4         3  35.0      0      0           0         1           0           0   \n",
       "..      ...   ...    ...    ...         ...       ...         ...         ...   \n",
       "413       3  25.0      0      0           0         1           0           0   \n",
       "414       1  39.0      0      0           1         0           1           0   \n",
       "415       3  38.5      0      0           0         1           0           0   \n",
       "416       3  25.0      0      0           0         1           0           0   \n",
       "417       3  25.0      1      1           0         1           1           0   \n",
       "\n",
       "     Embarked_S  \n",
       "0             1  \n",
       "1             0  \n",
       "2             1  \n",
       "3             1  \n",
       "4             1  \n",
       "..          ...  \n",
       "413           1  \n",
       "414           0  \n",
       "415           1  \n",
       "416           1  \n",
       "417           0  \n",
       "\n",
       "[1309 rows x 9 columns]"
      ]
     },
     "execution_count": 20,
     "metadata": {},
     "output_type": "execute_result"
    }
   ],
   "source": [
    "combo"
   ]
  },
  {
   "cell_type": "code",
   "execution_count": 21,
   "id": "4c04db3a",
   "metadata": {
    "execution": {
     "iopub.execute_input": "2022-06-23T14:14:44.309818Z",
     "iopub.status.busy": "2022-06-23T14:14:44.308833Z",
     "iopub.status.idle": "2022-06-23T14:14:44.313449Z",
     "shell.execute_reply": "2022-06-23T14:14:44.312732Z"
    },
    "papermill": {
     "duration": 0.053305,
     "end_time": "2022-06-23T14:14:44.315295",
     "exception": false,
     "start_time": "2022-06-23T14:14:44.261990",
     "status": "completed"
    },
    "tags": []
   },
   "outputs": [],
   "source": [
    "train = combo.iloc[0:891]\n",
    "test = combo.iloc[891:]"
   ]
  },
  {
   "cell_type": "code",
   "execution_count": 22,
   "id": "05a32d30",
   "metadata": {
    "execution": {
     "iopub.execute_input": "2022-06-23T14:14:44.408820Z",
     "iopub.status.busy": "2022-06-23T14:14:44.408351Z",
     "iopub.status.idle": "2022-06-23T14:14:44.423502Z",
     "shell.execute_reply": "2022-06-23T14:14:44.422750Z"
    },
    "papermill": {
     "duration": 0.064619,
     "end_time": "2022-06-23T14:14:44.425564",
     "exception": false,
     "start_time": "2022-06-23T14:14:44.360945",
     "status": "completed"
    },
    "tags": []
   },
   "outputs": [
    {
     "data": {
      "text/html": [
       "<div>\n",
       "<style scoped>\n",
       "    .dataframe tbody tr th:only-of-type {\n",
       "        vertical-align: middle;\n",
       "    }\n",
       "\n",
       "    .dataframe tbody tr th {\n",
       "        vertical-align: top;\n",
       "    }\n",
       "\n",
       "    .dataframe thead th {\n",
       "        text-align: right;\n",
       "    }\n",
       "</style>\n",
       "<table border=\"1\" class=\"dataframe\">\n",
       "  <thead>\n",
       "    <tr style=\"text-align: right;\">\n",
       "      <th></th>\n",
       "      <th>Pclass</th>\n",
       "      <th>Age</th>\n",
       "      <th>SibSp</th>\n",
       "      <th>Parch</th>\n",
       "      <th>Sex_female</th>\n",
       "      <th>Sex_male</th>\n",
       "      <th>Embarked_C</th>\n",
       "      <th>Embarked_Q</th>\n",
       "      <th>Embarked_S</th>\n",
       "    </tr>\n",
       "  </thead>\n",
       "  <tbody>\n",
       "    <tr>\n",
       "      <th>0</th>\n",
       "      <td>3</td>\n",
       "      <td>22.0</td>\n",
       "      <td>1</td>\n",
       "      <td>0</td>\n",
       "      <td>0</td>\n",
       "      <td>1</td>\n",
       "      <td>0</td>\n",
       "      <td>0</td>\n",
       "      <td>1</td>\n",
       "    </tr>\n",
       "    <tr>\n",
       "      <th>1</th>\n",
       "      <td>1</td>\n",
       "      <td>38.0</td>\n",
       "      <td>1</td>\n",
       "      <td>0</td>\n",
       "      <td>1</td>\n",
       "      <td>0</td>\n",
       "      <td>1</td>\n",
       "      <td>0</td>\n",
       "      <td>0</td>\n",
       "    </tr>\n",
       "    <tr>\n",
       "      <th>2</th>\n",
       "      <td>3</td>\n",
       "      <td>26.0</td>\n",
       "      <td>0</td>\n",
       "      <td>0</td>\n",
       "      <td>1</td>\n",
       "      <td>0</td>\n",
       "      <td>0</td>\n",
       "      <td>0</td>\n",
       "      <td>1</td>\n",
       "    </tr>\n",
       "    <tr>\n",
       "      <th>3</th>\n",
       "      <td>1</td>\n",
       "      <td>35.0</td>\n",
       "      <td>1</td>\n",
       "      <td>0</td>\n",
       "      <td>1</td>\n",
       "      <td>0</td>\n",
       "      <td>0</td>\n",
       "      <td>0</td>\n",
       "      <td>1</td>\n",
       "    </tr>\n",
       "    <tr>\n",
       "      <th>4</th>\n",
       "      <td>3</td>\n",
       "      <td>35.0</td>\n",
       "      <td>0</td>\n",
       "      <td>0</td>\n",
       "      <td>0</td>\n",
       "      <td>1</td>\n",
       "      <td>0</td>\n",
       "      <td>0</td>\n",
       "      <td>1</td>\n",
       "    </tr>\n",
       "    <tr>\n",
       "      <th>...</th>\n",
       "      <td>...</td>\n",
       "      <td>...</td>\n",
       "      <td>...</td>\n",
       "      <td>...</td>\n",
       "      <td>...</td>\n",
       "      <td>...</td>\n",
       "      <td>...</td>\n",
       "      <td>...</td>\n",
       "      <td>...</td>\n",
       "    </tr>\n",
       "    <tr>\n",
       "      <th>886</th>\n",
       "      <td>2</td>\n",
       "      <td>27.0</td>\n",
       "      <td>0</td>\n",
       "      <td>0</td>\n",
       "      <td>0</td>\n",
       "      <td>1</td>\n",
       "      <td>0</td>\n",
       "      <td>0</td>\n",
       "      <td>1</td>\n",
       "    </tr>\n",
       "    <tr>\n",
       "      <th>887</th>\n",
       "      <td>1</td>\n",
       "      <td>19.0</td>\n",
       "      <td>0</td>\n",
       "      <td>0</td>\n",
       "      <td>1</td>\n",
       "      <td>0</td>\n",
       "      <td>0</td>\n",
       "      <td>0</td>\n",
       "      <td>1</td>\n",
       "    </tr>\n",
       "    <tr>\n",
       "      <th>888</th>\n",
       "      <td>3</td>\n",
       "      <td>22.0</td>\n",
       "      <td>1</td>\n",
       "      <td>2</td>\n",
       "      <td>1</td>\n",
       "      <td>0</td>\n",
       "      <td>0</td>\n",
       "      <td>0</td>\n",
       "      <td>1</td>\n",
       "    </tr>\n",
       "    <tr>\n",
       "      <th>889</th>\n",
       "      <td>1</td>\n",
       "      <td>26.0</td>\n",
       "      <td>0</td>\n",
       "      <td>0</td>\n",
       "      <td>0</td>\n",
       "      <td>1</td>\n",
       "      <td>1</td>\n",
       "      <td>0</td>\n",
       "      <td>0</td>\n",
       "    </tr>\n",
       "    <tr>\n",
       "      <th>890</th>\n",
       "      <td>3</td>\n",
       "      <td>32.0</td>\n",
       "      <td>0</td>\n",
       "      <td>0</td>\n",
       "      <td>0</td>\n",
       "      <td>1</td>\n",
       "      <td>0</td>\n",
       "      <td>1</td>\n",
       "      <td>0</td>\n",
       "    </tr>\n",
       "  </tbody>\n",
       "</table>\n",
       "<p>891 rows × 9 columns</p>\n",
       "</div>"
      ],
      "text/plain": [
       "     Pclass   Age  SibSp  Parch  Sex_female  Sex_male  Embarked_C  Embarked_Q  \\\n",
       "0         3  22.0      1      0           0         1           0           0   \n",
       "1         1  38.0      1      0           1         0           1           0   \n",
       "2         3  26.0      0      0           1         0           0           0   \n",
       "3         1  35.0      1      0           1         0           0           0   \n",
       "4         3  35.0      0      0           0         1           0           0   \n",
       "..      ...   ...    ...    ...         ...       ...         ...         ...   \n",
       "886       2  27.0      0      0           0         1           0           0   \n",
       "887       1  19.0      0      0           1         0           0           0   \n",
       "888       3  22.0      1      2           1         0           0           0   \n",
       "889       1  26.0      0      0           0         1           1           0   \n",
       "890       3  32.0      0      0           0         1           0           1   \n",
       "\n",
       "     Embarked_S  \n",
       "0             1  \n",
       "1             0  \n",
       "2             1  \n",
       "3             1  \n",
       "4             1  \n",
       "..          ...  \n",
       "886           1  \n",
       "887           1  \n",
       "888           1  \n",
       "889           0  \n",
       "890           0  \n",
       "\n",
       "[891 rows x 9 columns]"
      ]
     },
     "execution_count": 22,
     "metadata": {},
     "output_type": "execute_result"
    }
   ],
   "source": [
    "train"
   ]
  },
  {
   "cell_type": "code",
   "execution_count": 23,
   "id": "ab236360",
   "metadata": {
    "execution": {
     "iopub.execute_input": "2022-06-23T14:14:44.523945Z",
     "iopub.status.busy": "2022-06-23T14:14:44.523420Z",
     "iopub.status.idle": "2022-06-23T14:14:44.538051Z",
     "shell.execute_reply": "2022-06-23T14:14:44.537448Z"
    },
    "papermill": {
     "duration": 0.064657,
     "end_time": "2022-06-23T14:14:44.540023",
     "exception": false,
     "start_time": "2022-06-23T14:14:44.475366",
     "status": "completed"
    },
    "tags": []
   },
   "outputs": [
    {
     "data": {
      "text/html": [
       "<div>\n",
       "<style scoped>\n",
       "    .dataframe tbody tr th:only-of-type {\n",
       "        vertical-align: middle;\n",
       "    }\n",
       "\n",
       "    .dataframe tbody tr th {\n",
       "        vertical-align: top;\n",
       "    }\n",
       "\n",
       "    .dataframe thead th {\n",
       "        text-align: right;\n",
       "    }\n",
       "</style>\n",
       "<table border=\"1\" class=\"dataframe\">\n",
       "  <thead>\n",
       "    <tr style=\"text-align: right;\">\n",
       "      <th></th>\n",
       "      <th>Pclass</th>\n",
       "      <th>Age</th>\n",
       "      <th>SibSp</th>\n",
       "      <th>Parch</th>\n",
       "      <th>Sex_female</th>\n",
       "      <th>Sex_male</th>\n",
       "      <th>Embarked_C</th>\n",
       "      <th>Embarked_Q</th>\n",
       "      <th>Embarked_S</th>\n",
       "    </tr>\n",
       "  </thead>\n",
       "  <tbody>\n",
       "    <tr>\n",
       "      <th>0</th>\n",
       "      <td>3</td>\n",
       "      <td>34.5</td>\n",
       "      <td>0</td>\n",
       "      <td>0</td>\n",
       "      <td>0</td>\n",
       "      <td>1</td>\n",
       "      <td>0</td>\n",
       "      <td>1</td>\n",
       "      <td>0</td>\n",
       "    </tr>\n",
       "    <tr>\n",
       "      <th>1</th>\n",
       "      <td>3</td>\n",
       "      <td>47.0</td>\n",
       "      <td>1</td>\n",
       "      <td>0</td>\n",
       "      <td>1</td>\n",
       "      <td>0</td>\n",
       "      <td>0</td>\n",
       "      <td>0</td>\n",
       "      <td>1</td>\n",
       "    </tr>\n",
       "    <tr>\n",
       "      <th>2</th>\n",
       "      <td>2</td>\n",
       "      <td>62.0</td>\n",
       "      <td>0</td>\n",
       "      <td>0</td>\n",
       "      <td>0</td>\n",
       "      <td>1</td>\n",
       "      <td>0</td>\n",
       "      <td>1</td>\n",
       "      <td>0</td>\n",
       "    </tr>\n",
       "    <tr>\n",
       "      <th>3</th>\n",
       "      <td>3</td>\n",
       "      <td>27.0</td>\n",
       "      <td>0</td>\n",
       "      <td>0</td>\n",
       "      <td>0</td>\n",
       "      <td>1</td>\n",
       "      <td>0</td>\n",
       "      <td>0</td>\n",
       "      <td>1</td>\n",
       "    </tr>\n",
       "    <tr>\n",
       "      <th>4</th>\n",
       "      <td>3</td>\n",
       "      <td>22.0</td>\n",
       "      <td>1</td>\n",
       "      <td>1</td>\n",
       "      <td>1</td>\n",
       "      <td>0</td>\n",
       "      <td>0</td>\n",
       "      <td>0</td>\n",
       "      <td>1</td>\n",
       "    </tr>\n",
       "    <tr>\n",
       "      <th>...</th>\n",
       "      <td>...</td>\n",
       "      <td>...</td>\n",
       "      <td>...</td>\n",
       "      <td>...</td>\n",
       "      <td>...</td>\n",
       "      <td>...</td>\n",
       "      <td>...</td>\n",
       "      <td>...</td>\n",
       "      <td>...</td>\n",
       "    </tr>\n",
       "    <tr>\n",
       "      <th>413</th>\n",
       "      <td>3</td>\n",
       "      <td>25.0</td>\n",
       "      <td>0</td>\n",
       "      <td>0</td>\n",
       "      <td>0</td>\n",
       "      <td>1</td>\n",
       "      <td>0</td>\n",
       "      <td>0</td>\n",
       "      <td>1</td>\n",
       "    </tr>\n",
       "    <tr>\n",
       "      <th>414</th>\n",
       "      <td>1</td>\n",
       "      <td>39.0</td>\n",
       "      <td>0</td>\n",
       "      <td>0</td>\n",
       "      <td>1</td>\n",
       "      <td>0</td>\n",
       "      <td>1</td>\n",
       "      <td>0</td>\n",
       "      <td>0</td>\n",
       "    </tr>\n",
       "    <tr>\n",
       "      <th>415</th>\n",
       "      <td>3</td>\n",
       "      <td>38.5</td>\n",
       "      <td>0</td>\n",
       "      <td>0</td>\n",
       "      <td>0</td>\n",
       "      <td>1</td>\n",
       "      <td>0</td>\n",
       "      <td>0</td>\n",
       "      <td>1</td>\n",
       "    </tr>\n",
       "    <tr>\n",
       "      <th>416</th>\n",
       "      <td>3</td>\n",
       "      <td>25.0</td>\n",
       "      <td>0</td>\n",
       "      <td>0</td>\n",
       "      <td>0</td>\n",
       "      <td>1</td>\n",
       "      <td>0</td>\n",
       "      <td>0</td>\n",
       "      <td>1</td>\n",
       "    </tr>\n",
       "    <tr>\n",
       "      <th>417</th>\n",
       "      <td>3</td>\n",
       "      <td>25.0</td>\n",
       "      <td>1</td>\n",
       "      <td>1</td>\n",
       "      <td>0</td>\n",
       "      <td>1</td>\n",
       "      <td>1</td>\n",
       "      <td>0</td>\n",
       "      <td>0</td>\n",
       "    </tr>\n",
       "  </tbody>\n",
       "</table>\n",
       "<p>418 rows × 9 columns</p>\n",
       "</div>"
      ],
      "text/plain": [
       "     Pclass   Age  SibSp  Parch  Sex_female  Sex_male  Embarked_C  Embarked_Q  \\\n",
       "0         3  34.5      0      0           0         1           0           1   \n",
       "1         3  47.0      1      0           1         0           0           0   \n",
       "2         2  62.0      0      0           0         1           0           1   \n",
       "3         3  27.0      0      0           0         1           0           0   \n",
       "4         3  22.0      1      1           1         0           0           0   \n",
       "..      ...   ...    ...    ...         ...       ...         ...         ...   \n",
       "413       3  25.0      0      0           0         1           0           0   \n",
       "414       1  39.0      0      0           1         0           1           0   \n",
       "415       3  38.5      0      0           0         1           0           0   \n",
       "416       3  25.0      0      0           0         1           0           0   \n",
       "417       3  25.0      1      1           0         1           1           0   \n",
       "\n",
       "     Embarked_S  \n",
       "0             0  \n",
       "1             1  \n",
       "2             0  \n",
       "3             1  \n",
       "4             1  \n",
       "..          ...  \n",
       "413           1  \n",
       "414           0  \n",
       "415           1  \n",
       "416           1  \n",
       "417           0  \n",
       "\n",
       "[418 rows x 9 columns]"
      ]
     },
     "execution_count": 23,
     "metadata": {},
     "output_type": "execute_result"
    }
   ],
   "source": [
    "test"
   ]
  },
  {
   "cell_type": "code",
   "execution_count": 24,
   "id": "9ae7d40d",
   "metadata": {
    "execution": {
     "iopub.execute_input": "2022-06-23T14:14:44.636514Z",
     "iopub.status.busy": "2022-06-23T14:14:44.635797Z",
     "iopub.status.idle": "2022-06-23T14:14:44.847188Z",
     "shell.execute_reply": "2022-06-23T14:14:44.846361Z"
    },
    "papermill": {
     "duration": 0.26234,
     "end_time": "2022-06-23T14:14:44.849726",
     "exception": false,
     "start_time": "2022-06-23T14:14:44.587386",
     "status": "completed"
    },
    "tags": []
   },
   "outputs": [],
   "source": [
    "from sklearn.model_selection import train_test_split\n",
    "\n",
    "X_train, X_test, y_train, y_test = train_test_split(train, y, test_size=0.1, random_state=10)"
   ]
  },
  {
   "cell_type": "code",
   "execution_count": 25,
   "id": "a4d21f92",
   "metadata": {
    "execution": {
     "iopub.execute_input": "2022-06-23T14:14:44.945972Z",
     "iopub.status.busy": "2022-06-23T14:14:44.945702Z",
     "iopub.status.idle": "2022-06-23T14:14:44.959505Z",
     "shell.execute_reply": "2022-06-23T14:14:44.958558Z"
    },
    "papermill": {
     "duration": 0.064696,
     "end_time": "2022-06-23T14:14:44.961716",
     "exception": false,
     "start_time": "2022-06-23T14:14:44.897020",
     "status": "completed"
    },
    "tags": []
   },
   "outputs": [],
   "source": [
    "from sklearn.preprocessing import StandardScaler\n",
    "scaler = StandardScaler()\n",
    "X_train = scaler.fit_transform(X_train)\n",
    "X_test = scaler.transform(X_test)\n",
    "test = scaler.transform(test)"
   ]
  },
  {
   "cell_type": "code",
   "execution_count": 26,
   "id": "7b3bc453",
   "metadata": {
    "execution": {
     "iopub.execute_input": "2022-06-23T14:14:45.060098Z",
     "iopub.status.busy": "2022-06-23T14:14:45.059798Z",
     "iopub.status.idle": "2022-06-23T14:14:45.652870Z",
     "shell.execute_reply": "2022-06-23T14:14:45.651919Z"
    },
    "papermill": {
     "duration": 0.645547,
     "end_time": "2022-06-23T14:14:45.655275",
     "exception": false,
     "start_time": "2022-06-23T14:14:45.009728",
     "status": "completed"
    },
    "tags": []
   },
   "outputs": [],
   "source": [
    "from sklearn.linear_model import LogisticRegression\n",
    "from sklearn.svm import SVC\n",
    "from sklearn.tree import DecisionTreeClassifier\n",
    "from sklearn.ensemble import RandomForestClassifier, AdaBoostClassifier\n",
    "from sklearn.naive_bayes import GaussianNB\n",
    "from sklearn.neighbors import KNeighborsClassifier\n",
    "from sklearn.metrics import confusion_matrix,accuracy_score\n",
    "from catboost import CatBoostClassifier"
   ]
  },
  {
   "cell_type": "code",
   "execution_count": 27,
   "id": "409b6120",
   "metadata": {
    "execution": {
     "iopub.execute_input": "2022-06-23T14:14:45.754437Z",
     "iopub.status.busy": "2022-06-23T14:14:45.754098Z",
     "iopub.status.idle": "2022-06-23T14:14:45.763522Z",
     "shell.execute_reply": "2022-06-23T14:14:45.762805Z"
    },
    "papermill": {
     "duration": 0.061815,
     "end_time": "2022-06-23T14:14:45.765389",
     "exception": false,
     "start_time": "2022-06-23T14:14:45.703574",
     "status": "completed"
    },
    "tags": []
   },
   "outputs": [],
   "source": [
    "models = {'KNeighborsClassifier':KNeighborsClassifier(),\n",
    "          #'LogisticRegression':LogisticRegression(),\n",
    "          'SVC': SVC(),\n",
    "          'DecisionTreeClassifier':DecisionTreeClassifier(),\n",
    "          #'RandomForestClassifier':RandomForestClassifier(),\n",
    "          'AdaBoostClassifier':AdaBoostClassifier(),\n",
    "          'GaussianNB':GaussianNB(),\n",
    "          'CatBoostClassifier':CatBoostClassifier(verbose=0)\n",
    "          \n",
    "         }"
   ]
  },
  {
   "cell_type": "code",
   "execution_count": 28,
   "id": "4e42c35b",
   "metadata": {
    "execution": {
     "iopub.execute_input": "2022-06-23T14:14:45.863406Z",
     "iopub.status.busy": "2022-06-23T14:14:45.862639Z",
     "iopub.status.idle": "2022-06-23T14:14:46.719022Z",
     "shell.execute_reply": "2022-06-23T14:14:46.717922Z"
    },
    "papermill": {
     "duration": 0.908904,
     "end_time": "2022-06-23T14:14:46.721444",
     "exception": false,
     "start_time": "2022-06-23T14:14:45.812540",
     "status": "completed"
    },
    "tags": []
   },
   "outputs": [
    {
     "data": {
      "text/html": [
       "<div>\n",
       "<style scoped>\n",
       "    .dataframe tbody tr th:only-of-type {\n",
       "        vertical-align: middle;\n",
       "    }\n",
       "\n",
       "    .dataframe tbody tr th {\n",
       "        vertical-align: top;\n",
       "    }\n",
       "\n",
       "    .dataframe thead th {\n",
       "        text-align: right;\n",
       "    }\n",
       "</style>\n",
       "<table border=\"1\" class=\"dataframe\">\n",
       "  <thead>\n",
       "    <tr style=\"text-align: right;\">\n",
       "      <th></th>\n",
       "      <th>model name</th>\n",
       "      <th>Accuracy</th>\n",
       "    </tr>\n",
       "  </thead>\n",
       "  <tbody>\n",
       "    <tr>\n",
       "      <th>1</th>\n",
       "      <td>SVC</td>\n",
       "      <td>0.844444</td>\n",
       "    </tr>\n",
       "    <tr>\n",
       "      <th>2</th>\n",
       "      <td>DecisionTreeClassifier</td>\n",
       "      <td>0.844444</td>\n",
       "    </tr>\n",
       "    <tr>\n",
       "      <th>5</th>\n",
       "      <td>CatBoostClassifier</td>\n",
       "      <td>0.844444</td>\n",
       "    </tr>\n",
       "    <tr>\n",
       "      <th>0</th>\n",
       "      <td>KNeighborsClassifier</td>\n",
       "      <td>0.822222</td>\n",
       "    </tr>\n",
       "    <tr>\n",
       "      <th>3</th>\n",
       "      <td>AdaBoostClassifier</td>\n",
       "      <td>0.822222</td>\n",
       "    </tr>\n",
       "    <tr>\n",
       "      <th>4</th>\n",
       "      <td>GaussianNB</td>\n",
       "      <td>0.800000</td>\n",
       "    </tr>\n",
       "  </tbody>\n",
       "</table>\n",
       "</div>"
      ],
      "text/plain": [
       "               model name  Accuracy\n",
       "1                     SVC  0.844444\n",
       "2  DecisionTreeClassifier  0.844444\n",
       "5      CatBoostClassifier  0.844444\n",
       "0    KNeighborsClassifier  0.822222\n",
       "3      AdaBoostClassifier  0.822222\n",
       "4              GaussianNB  0.800000"
      ]
     },
     "execution_count": 28,
     "metadata": {},
     "output_type": "execute_result"
    }
   ],
   "source": [
    "score = []\n",
    "results = pd.DataFrame(y_test)\n",
    "for name,model in models.items():\n",
    "    model.fit(X_train,y_train)\n",
    "    y_pred = model.predict(X_test)\n",
    "    score.append([name,accuracy_score(y_test,y_pred)])\n",
    "    results[name] = y_pred\n",
    "score = pd.DataFrame(score, columns=['model name', 'Accuracy'])\n",
    "score.sort_values('Accuracy',ascending=False)"
   ]
  },
  {
   "cell_type": "code",
   "execution_count": 29,
   "id": "f4f204fc",
   "metadata": {
    "execution": {
     "iopub.execute_input": "2022-06-23T14:14:46.818969Z",
     "iopub.status.busy": "2022-06-23T14:14:46.818656Z",
     "iopub.status.idle": "2022-06-23T14:14:47.443872Z",
     "shell.execute_reply": "2022-06-23T14:14:47.442847Z"
    },
    "papermill": {
     "duration": 0.67703,
     "end_time": "2022-06-23T14:14:47.446644",
     "exception": false,
     "start_time": "2022-06-23T14:14:46.769614",
     "status": "completed"
    },
    "tags": []
   },
   "outputs": [],
   "source": [
    "cat = CatBoostClassifier(verbose=0)\n",
    "cat.fit(X_train,y_train)\n",
    "cat_pred = cat.predict(test)\n",
    "# CAT0.76076 "
   ]
  },
  {
   "cell_type": "code",
   "execution_count": 30,
   "id": "08e5cac3",
   "metadata": {
    "execution": {
     "iopub.execute_input": "2022-06-23T14:14:47.546177Z",
     "iopub.status.busy": "2022-06-23T14:14:47.545867Z",
     "iopub.status.idle": "2022-06-23T14:14:47.581913Z",
     "shell.execute_reply": "2022-06-23T14:14:47.581189Z"
    },
    "papermill": {
     "duration": 0.087689,
     "end_time": "2022-06-23T14:14:47.584184",
     "exception": false,
     "start_time": "2022-06-23T14:14:47.496495",
     "status": "completed"
    },
    "tags": []
   },
   "outputs": [],
   "source": [
    "svc_param = {'C': 1, 'gamma': 0.1, 'kernel': 'rbf'}\n",
    "\n",
    "svc = SVC(**svc_param)\n",
    "svc.fit(X_train,y_train)\n",
    "svc_pred = svc.predict(test)\n",
    "#SVC = 0.78468"
   ]
  },
  {
   "cell_type": "code",
   "execution_count": 31,
   "id": "68f8dfc5",
   "metadata": {
    "execution": {
     "iopub.execute_input": "2022-06-23T14:14:47.682502Z",
     "iopub.status.busy": "2022-06-23T14:14:47.681598Z",
     "iopub.status.idle": "2022-06-23T14:14:54.766878Z",
     "shell.execute_reply": "2022-06-23T14:14:54.766220Z"
    },
    "papermill": {
     "duration": 7.136977,
     "end_time": "2022-06-23T14:14:54.769054",
     "exception": false,
     "start_time": "2022-06-23T14:14:47.632077",
     "status": "completed"
    },
    "tags": []
   },
   "outputs": [
    {
     "name": "stdout",
     "output_type": "stream",
     "text": [
      "Fitting 5 folds for each of 25 candidates, totalling 125 fits\n",
      "[CV 1/5] END ........C=0.1, gamma=1, kernel=rbf;, score=0.801 total time=   0.0s\n",
      "[CV 2/5] END ........C=0.1, gamma=1, kernel=rbf;, score=0.769 total time=   0.0s\n",
      "[CV 3/5] END ........C=0.1, gamma=1, kernel=rbf;, score=0.756 total time=   0.0s\n",
      "[CV 4/5] END ........C=0.1, gamma=1, kernel=rbf;, score=0.756 total time=   0.0s\n",
      "[CV 5/5] END ........C=0.1, gamma=1, kernel=rbf;, score=0.762 total time=   0.0s\n",
      "[CV 1/5] END ......C=0.1, gamma=0.1, kernel=rbf;, score=0.801 total time=   0.0s\n",
      "[CV 2/5] END ......C=0.1, gamma=0.1, kernel=rbf;, score=0.819 total time=   0.0s\n",
      "[CV 3/5] END ......C=0.1, gamma=0.1, kernel=rbf;, score=0.787 total time=   0.0s\n",
      "[CV 4/5] END ......C=0.1, gamma=0.1, kernel=rbf;, score=0.781 total time=   0.0s\n",
      "[CV 5/5] END ......C=0.1, gamma=0.1, kernel=rbf;, score=0.831 total time=   0.0s\n",
      "[CV 1/5] END .....C=0.1, gamma=0.01, kernel=rbf;, score=0.801 total time=   0.0s\n",
      "[CV 2/5] END .....C=0.1, gamma=0.01, kernel=rbf;, score=0.781 total time=   0.0s\n",
      "[CV 3/5] END .....C=0.1, gamma=0.01, kernel=rbf;, score=0.775 total time=   0.0s\n",
      "[CV 4/5] END .....C=0.1, gamma=0.01, kernel=rbf;, score=0.756 total time=   0.0s\n",
      "[CV 5/5] END .....C=0.1, gamma=0.01, kernel=rbf;, score=0.819 total time=   0.0s\n",
      "[CV 1/5] END ....C=0.1, gamma=0.001, kernel=rbf;, score=0.609 total time=   0.0s\n",
      "[CV 2/5] END ....C=0.1, gamma=0.001, kernel=rbf;, score=0.606 total time=   0.0s\n",
      "[CV 3/5] END ....C=0.1, gamma=0.001, kernel=rbf;, score=0.606 total time=   0.0s\n",
      "[CV 4/5] END ....C=0.1, gamma=0.001, kernel=rbf;, score=0.613 total time=   0.0s\n",
      "[CV 5/5] END ....C=0.1, gamma=0.001, kernel=rbf;, score=0.613 total time=   0.0s\n",
      "[CV 1/5] END ...C=0.1, gamma=0.0001, kernel=rbf;, score=0.609 total time=   0.0s\n",
      "[CV 2/5] END ...C=0.1, gamma=0.0001, kernel=rbf;, score=0.606 total time=   0.0s\n",
      "[CV 3/5] END ...C=0.1, gamma=0.0001, kernel=rbf;, score=0.606 total time=   0.0s\n",
      "[CV 4/5] END ...C=0.1, gamma=0.0001, kernel=rbf;, score=0.613 total time=   0.0s\n",
      "[CV 5/5] END ...C=0.1, gamma=0.0001, kernel=rbf;, score=0.613 total time=   0.0s\n",
      "[CV 1/5] END ..........C=1, gamma=1, kernel=rbf;, score=0.801 total time=   0.0s\n",
      "[CV 2/5] END ..........C=1, gamma=1, kernel=rbf;, score=0.812 total time=   0.0s\n",
      "[CV 3/5] END ..........C=1, gamma=1, kernel=rbf;, score=0.762 total time=   0.0s\n",
      "[CV 4/5] END ..........C=1, gamma=1, kernel=rbf;, score=0.787 total time=   0.0s\n",
      "[CV 5/5] END ..........C=1, gamma=1, kernel=rbf;, score=0.825 total time=   0.0s\n",
      "[CV 1/5] END ........C=1, gamma=0.1, kernel=rbf;, score=0.807 total time=   0.0s\n",
      "[CV 2/5] END ........C=1, gamma=0.1, kernel=rbf;, score=0.831 total time=   0.0s\n",
      "[CV 3/5] END ........C=1, gamma=0.1, kernel=rbf;, score=0.794 total time=   0.0s\n",
      "[CV 4/5] END ........C=1, gamma=0.1, kernel=rbf;, score=0.812 total time=   0.0s\n",
      "[CV 5/5] END ........C=1, gamma=0.1, kernel=rbf;, score=0.856 total time=   0.0s\n",
      "[CV 1/5] END .......C=1, gamma=0.01, kernel=rbf;, score=0.801 total time=   0.0s\n",
      "[CV 2/5] END .......C=1, gamma=0.01, kernel=rbf;, score=0.787 total time=   0.0s\n",
      "[CV 3/5] END .......C=1, gamma=0.01, kernel=rbf;, score=0.775 total time=   0.0s\n",
      "[CV 4/5] END .......C=1, gamma=0.01, kernel=rbf;, score=0.756 total time=   0.0s\n",
      "[CV 5/5] END .......C=1, gamma=0.01, kernel=rbf;, score=0.825 total time=   0.0s\n",
      "[CV 1/5] END ......C=1, gamma=0.001, kernel=rbf;, score=0.801 total time=   0.0s\n",
      "[CV 2/5] END ......C=1, gamma=0.001, kernel=rbf;, score=0.775 total time=   0.0s\n",
      "[CV 3/5] END ......C=1, gamma=0.001, kernel=rbf;, score=0.775 total time=   0.0s\n",
      "[CV 4/5] END ......C=1, gamma=0.001, kernel=rbf;, score=0.750 total time=   0.0s\n",
      "[CV 5/5] END ......C=1, gamma=0.001, kernel=rbf;, score=0.812 total time=   0.0s\n",
      "[CV 1/5] END .....C=1, gamma=0.0001, kernel=rbf;, score=0.609 total time=   0.0s\n",
      "[CV 2/5] END .....C=1, gamma=0.0001, kernel=rbf;, score=0.606 total time=   0.0s\n",
      "[CV 3/5] END .....C=1, gamma=0.0001, kernel=rbf;, score=0.606 total time=   0.0s\n",
      "[CV 4/5] END .....C=1, gamma=0.0001, kernel=rbf;, score=0.613 total time=   0.0s\n",
      "[CV 5/5] END .....C=1, gamma=0.0001, kernel=rbf;, score=0.613 total time=   0.0s\n",
      "[CV 1/5] END .........C=10, gamma=1, kernel=rbf;, score=0.795 total time=   0.0s\n",
      "[CV 2/5] END .........C=10, gamma=1, kernel=rbf;, score=0.794 total time=   0.0s\n",
      "[CV 3/5] END .........C=10, gamma=1, kernel=rbf;, score=0.750 total time=   0.0s\n",
      "[CV 4/5] END .........C=10, gamma=1, kernel=rbf;, score=0.781 total time=   0.0s\n",
      "[CV 5/5] END .........C=10, gamma=1, kernel=rbf;, score=0.806 total time=   0.0s\n",
      "[CV 1/5] END .......C=10, gamma=0.1, kernel=rbf;, score=0.839 total time=   0.0s\n",
      "[CV 2/5] END .......C=10, gamma=0.1, kernel=rbf;, score=0.825 total time=   0.0s\n",
      "[CV 3/5] END .......C=10, gamma=0.1, kernel=rbf;, score=0.762 total time=   0.0s\n",
      "[CV 4/5] END .......C=10, gamma=0.1, kernel=rbf;, score=0.794 total time=   0.0s\n",
      "[CV 5/5] END .......C=10, gamma=0.1, kernel=rbf;, score=0.819 total time=   0.0s\n",
      "[CV 1/5] END ......C=10, gamma=0.01, kernel=rbf;, score=0.795 total time=   0.0s\n",
      "[CV 2/5] END ......C=10, gamma=0.01, kernel=rbf;, score=0.825 total time=   0.0s\n",
      "[CV 3/5] END ......C=10, gamma=0.01, kernel=rbf;, score=0.787 total time=   0.0s\n",
      "[CV 4/5] END ......C=10, gamma=0.01, kernel=rbf;, score=0.787 total time=   0.0s\n",
      "[CV 5/5] END ......C=10, gamma=0.01, kernel=rbf;, score=0.831 total time=   0.0s\n",
      "[CV 1/5] END .....C=10, gamma=0.001, kernel=rbf;, score=0.801 total time=   0.0s\n",
      "[CV 2/5] END .....C=10, gamma=0.001, kernel=rbf;, score=0.775 total time=   0.0s\n",
      "[CV 3/5] END .....C=10, gamma=0.001, kernel=rbf;, score=0.775 total time=   0.0s\n",
      "[CV 4/5] END .....C=10, gamma=0.001, kernel=rbf;, score=0.750 total time=   0.0s\n",
      "[CV 5/5] END .....C=10, gamma=0.001, kernel=rbf;, score=0.812 total time=   0.0s\n",
      "[CV 1/5] END ....C=10, gamma=0.0001, kernel=rbf;, score=0.801 total time=   0.0s\n",
      "[CV 2/5] END ....C=10, gamma=0.0001, kernel=rbf;, score=0.775 total time=   0.0s\n",
      "[CV 3/5] END ....C=10, gamma=0.0001, kernel=rbf;, score=0.775 total time=   0.0s\n",
      "[CV 4/5] END ....C=10, gamma=0.0001, kernel=rbf;, score=0.750 total time=   0.0s\n",
      "[CV 5/5] END ....C=10, gamma=0.0001, kernel=rbf;, score=0.812 total time=   0.0s\n",
      "[CV 1/5] END ........C=100, gamma=1, kernel=rbf;, score=0.764 total time=   0.1s\n",
      "[CV 2/5] END ........C=100, gamma=1, kernel=rbf;, score=0.769 total time=   0.1s\n",
      "[CV 3/5] END ........C=100, gamma=1, kernel=rbf;, score=0.750 total time=   0.1s\n",
      "[CV 4/5] END ........C=100, gamma=1, kernel=rbf;, score=0.756 total time=   0.0s\n",
      "[CV 5/5] END ........C=100, gamma=1, kernel=rbf;, score=0.775 total time=   0.1s\n",
      "[CV 1/5] END ......C=100, gamma=0.1, kernel=rbf;, score=0.814 total time=   0.1s\n",
      "[CV 2/5] END ......C=100, gamma=0.1, kernel=rbf;, score=0.781 total time=   0.1s\n",
      "[CV 3/5] END ......C=100, gamma=0.1, kernel=rbf;, score=0.738 total time=   0.0s\n",
      "[CV 4/5] END ......C=100, gamma=0.1, kernel=rbf;, score=0.794 total time=   0.0s\n",
      "[CV 5/5] END ......C=100, gamma=0.1, kernel=rbf;, score=0.806 total time=   0.0s\n",
      "[CV 1/5] END .....C=100, gamma=0.01, kernel=rbf;, score=0.814 total time=   0.0s\n",
      "[CV 2/5] END .....C=100, gamma=0.01, kernel=rbf;, score=0.825 total time=   0.0s\n",
      "[CV 3/5] END .....C=100, gamma=0.01, kernel=rbf;, score=0.781 total time=   0.0s\n",
      "[CV 4/5] END .....C=100, gamma=0.01, kernel=rbf;, score=0.812 total time=   0.0s\n",
      "[CV 5/5] END .....C=100, gamma=0.01, kernel=rbf;, score=0.812 total time=   0.0s\n",
      "[CV 1/5] END ....C=100, gamma=0.001, kernel=rbf;, score=0.795 total time=   0.0s\n",
      "[CV 2/5] END ....C=100, gamma=0.001, kernel=rbf;, score=0.787 total time=   0.0s\n",
      "[CV 3/5] END ....C=100, gamma=0.001, kernel=rbf;, score=0.775 total time=   0.0s\n",
      "[CV 4/5] END ....C=100, gamma=0.001, kernel=rbf;, score=0.762 total time=   0.0s\n",
      "[CV 5/5] END ....C=100, gamma=0.001, kernel=rbf;, score=0.825 total time=   0.0s\n",
      "[CV 1/5] END ...C=100, gamma=0.0001, kernel=rbf;, score=0.801 total time=   0.0s\n",
      "[CV 2/5] END ...C=100, gamma=0.0001, kernel=rbf;, score=0.775 total time=   0.0s\n",
      "[CV 3/5] END ...C=100, gamma=0.0001, kernel=rbf;, score=0.775 total time=   0.0s\n",
      "[CV 4/5] END ...C=100, gamma=0.0001, kernel=rbf;, score=0.750 total time=   0.0s\n",
      "[CV 5/5] END ...C=100, gamma=0.0001, kernel=rbf;, score=0.812 total time=   0.0s\n",
      "[CV 1/5] END .......C=1000, gamma=1, kernel=rbf;, score=0.758 total time=   0.5s\n",
      "[CV 2/5] END .......C=1000, gamma=1, kernel=rbf;, score=0.787 total time=   0.3s\n",
      "[CV 3/5] END .......C=1000, gamma=1, kernel=rbf;, score=0.738 total time=   0.5s\n",
      "[CV 4/5] END .......C=1000, gamma=1, kernel=rbf;, score=0.731 total time=   0.1s\n",
      "[CV 5/5] END .......C=1000, gamma=1, kernel=rbf;, score=0.756 total time=   0.2s\n",
      "[CV 1/5] END .....C=1000, gamma=0.1, kernel=rbf;, score=0.789 total time=   0.6s\n",
      "[CV 2/5] END .....C=1000, gamma=0.1, kernel=rbf;, score=0.756 total time=   0.5s\n",
      "[CV 3/5] END .....C=1000, gamma=0.1, kernel=rbf;, score=0.725 total time=   0.3s\n",
      "[CV 4/5] END .....C=1000, gamma=0.1, kernel=rbf;, score=0.762 total time=   0.3s\n",
      "[CV 5/5] END .....C=1000, gamma=0.1, kernel=rbf;, score=0.781 total time=   0.3s\n",
      "[CV 1/5] END ....C=1000, gamma=0.01, kernel=rbf;, score=0.814 total time=   0.1s\n",
      "[CV 2/5] END ....C=1000, gamma=0.01, kernel=rbf;, score=0.844 total time=   0.1s\n",
      "[CV 3/5] END ....C=1000, gamma=0.01, kernel=rbf;, score=0.775 total time=   0.1s\n",
      "[CV 4/5] END ....C=1000, gamma=0.01, kernel=rbf;, score=0.794 total time=   0.1s\n",
      "[CV 5/5] END ....C=1000, gamma=0.01, kernel=rbf;, score=0.825 total time=   0.1s\n",
      "[CV 1/5] END ...C=1000, gamma=0.001, kernel=rbf;, score=0.795 total time=   0.0s\n",
      "[CV 2/5] END ...C=1000, gamma=0.001, kernel=rbf;, score=0.825 total time=   0.0s\n",
      "[CV 3/5] END ...C=1000, gamma=0.001, kernel=rbf;, score=0.787 total time=   0.0s\n",
      "[CV 4/5] END ...C=1000, gamma=0.001, kernel=rbf;, score=0.787 total time=   0.0s\n",
      "[CV 5/5] END ...C=1000, gamma=0.001, kernel=rbf;, score=0.831 total time=   0.0s\n",
      "[CV 1/5] END ..C=1000, gamma=0.0001, kernel=rbf;, score=0.801 total time=   0.0s\n",
      "[CV 2/5] END ..C=1000, gamma=0.0001, kernel=rbf;, score=0.775 total time=   0.0s\n",
      "[CV 3/5] END ..C=1000, gamma=0.0001, kernel=rbf;, score=0.775 total time=   0.0s\n",
      "[CV 4/5] END ..C=1000, gamma=0.0001, kernel=rbf;, score=0.750 total time=   0.0s\n",
      "[CV 5/5] END ..C=1000, gamma=0.0001, kernel=rbf;, score=0.812 total time=   0.0s\n"
     ]
    },
    {
     "data": {
      "text/plain": [
       "GridSearchCV(estimator=SVC(),\n",
       "             param_grid={'C': [0.1, 1, 10, 100, 1000],\n",
       "                         'gamma': [1, 0.1, 0.01, 0.001, 0.0001],\n",
       "                         'kernel': ['rbf']},\n",
       "             verbose=3)"
      ]
     },
     "execution_count": 31,
     "metadata": {},
     "output_type": "execute_result"
    }
   ],
   "source": [
    "from sklearn.model_selection import GridSearchCV\n",
    " \n",
    "# defining parameter range\n",
    "param_grid = {'C': [0.1, 1, 10, 100, 1000],\n",
    "              'gamma': [1, 0.1, 0.01, 0.001, 0.0001],\n",
    "              'kernel': ['rbf']}\n",
    " \n",
    "grid = GridSearchCV(SVC(), param_grid, refit = True, verbose = 3)\n",
    " \n",
    "# fitting the model for grid search\n",
    "grid.fit(X_train, y_train)"
   ]
  },
  {
   "cell_type": "code",
   "execution_count": 32,
   "id": "a7c5a3af",
   "metadata": {
    "execution": {
     "iopub.execute_input": "2022-06-23T14:14:54.888011Z",
     "iopub.status.busy": "2022-06-23T14:14:54.887220Z",
     "iopub.status.idle": "2022-06-23T14:14:54.893525Z",
     "shell.execute_reply": "2022-06-23T14:14:54.892707Z"
    },
    "papermill": {
     "duration": 0.068761,
     "end_time": "2022-06-23T14:14:54.895660",
     "exception": false,
     "start_time": "2022-06-23T14:14:54.826899",
     "status": "completed"
    },
    "tags": []
   },
   "outputs": [
    {
     "data": {
      "text/plain": [
       "{'C': 1, 'gamma': 0.1, 'kernel': 'rbf'}"
      ]
     },
     "execution_count": 32,
     "metadata": {},
     "output_type": "execute_result"
    }
   ],
   "source": [
    "grid.best_params_"
   ]
  },
  {
   "cell_type": "code",
   "execution_count": 33,
   "id": "f5e2be38",
   "metadata": {
    "execution": {
     "iopub.execute_input": "2022-06-23T14:14:55.013418Z",
     "iopub.status.busy": "2022-06-23T14:14:55.013119Z",
     "iopub.status.idle": "2022-06-23T14:14:55.024276Z",
     "shell.execute_reply": "2022-06-23T14:14:55.023625Z"
    },
    "papermill": {
     "duration": 0.072285,
     "end_time": "2022-06-23T14:14:55.026580",
     "exception": false,
     "start_time": "2022-06-23T14:14:54.954295",
     "status": "completed"
    },
    "tags": []
   },
   "outputs": [],
   "source": [
    "submission = pd.read_csv('../input/titanic/gender_submission.csv')"
   ]
  },
  {
   "cell_type": "code",
   "execution_count": 34,
   "id": "dd478323",
   "metadata": {
    "execution": {
     "iopub.execute_input": "2022-06-23T14:14:55.143891Z",
     "iopub.status.busy": "2022-06-23T14:14:55.143313Z",
     "iopub.status.idle": "2022-06-23T14:14:55.147927Z",
     "shell.execute_reply": "2022-06-23T14:14:55.147324Z"
    },
    "papermill": {
     "duration": 0.065401,
     "end_time": "2022-06-23T14:14:55.149952",
     "exception": false,
     "start_time": "2022-06-23T14:14:55.084551",
     "status": "completed"
    },
    "tags": []
   },
   "outputs": [],
   "source": [
    "testing = pd.DataFrame()"
   ]
  },
  {
   "cell_type": "code",
   "execution_count": 35,
   "id": "054f58c2",
   "metadata": {
    "execution": {
     "iopub.execute_input": "2022-06-23T14:14:55.266805Z",
     "iopub.status.busy": "2022-06-23T14:14:55.266213Z",
     "iopub.status.idle": "2022-06-23T14:14:55.272422Z",
     "shell.execute_reply": "2022-06-23T14:14:55.271724Z"
    },
    "papermill": {
     "duration": 0.067187,
     "end_time": "2022-06-23T14:14:55.274564",
     "exception": false,
     "start_time": "2022-06-23T14:14:55.207377",
     "status": "completed"
    },
    "tags": []
   },
   "outputs": [],
   "source": [
    "testing['cat'] = cat_pred\n",
    "testing['svc'] = svc_pred"
   ]
  },
  {
   "cell_type": "code",
   "execution_count": 36,
   "id": "491b9ada",
   "metadata": {
    "execution": {
     "iopub.execute_input": "2022-06-23T14:14:55.394354Z",
     "iopub.status.busy": "2022-06-23T14:14:55.393722Z",
     "iopub.status.idle": "2022-06-23T14:14:55.398795Z",
     "shell.execute_reply": "2022-06-23T14:14:55.398161Z"
    },
    "papermill": {
     "duration": 0.066803,
     "end_time": "2022-06-23T14:14:55.400907",
     "exception": false,
     "start_time": "2022-06-23T14:14:55.334104",
     "status": "completed"
    },
    "tags": []
   },
   "outputs": [],
   "source": [
    "submission['Survived'] = svc_pred"
   ]
  },
  {
   "cell_type": "code",
   "execution_count": 37,
   "id": "9ce6ab00",
   "metadata": {
    "execution": {
     "iopub.execute_input": "2022-06-23T14:14:55.522159Z",
     "iopub.status.busy": "2022-06-23T14:14:55.521600Z",
     "iopub.status.idle": "2022-06-23T14:14:55.529434Z",
     "shell.execute_reply": "2022-06-23T14:14:55.528765Z"
    },
    "papermill": {
     "duration": 0.070976,
     "end_time": "2022-06-23T14:14:55.531613",
     "exception": false,
     "start_time": "2022-06-23T14:14:55.460637",
     "status": "completed"
    },
    "tags": []
   },
   "outputs": [],
   "source": [
    "submission.to_csv(\"submission.csv\", index=False)"
   ]
  },
  {
   "cell_type": "code",
   "execution_count": 38,
   "id": "43c8c749",
   "metadata": {
    "execution": {
     "iopub.execute_input": "2022-06-23T14:14:55.649035Z",
     "iopub.status.busy": "2022-06-23T14:14:55.648480Z",
     "iopub.status.idle": "2022-06-23T14:14:55.659198Z",
     "shell.execute_reply": "2022-06-23T14:14:55.658367Z"
    },
    "papermill": {
     "duration": 0.071759,
     "end_time": "2022-06-23T14:14:55.661187",
     "exception": false,
     "start_time": "2022-06-23T14:14:55.589428",
     "status": "completed"
    },
    "tags": []
   },
   "outputs": [
    {
     "data": {
      "text/html": [
       "<div>\n",
       "<style scoped>\n",
       "    .dataframe tbody tr th:only-of-type {\n",
       "        vertical-align: middle;\n",
       "    }\n",
       "\n",
       "    .dataframe tbody tr th {\n",
       "        vertical-align: top;\n",
       "    }\n",
       "\n",
       "    .dataframe thead th {\n",
       "        text-align: right;\n",
       "    }\n",
       "</style>\n",
       "<table border=\"1\" class=\"dataframe\">\n",
       "  <thead>\n",
       "    <tr style=\"text-align: right;\">\n",
       "      <th></th>\n",
       "      <th>PassengerId</th>\n",
       "      <th>Survived</th>\n",
       "    </tr>\n",
       "  </thead>\n",
       "  <tbody>\n",
       "    <tr>\n",
       "      <th>0</th>\n",
       "      <td>892</td>\n",
       "      <td>0</td>\n",
       "    </tr>\n",
       "    <tr>\n",
       "      <th>1</th>\n",
       "      <td>893</td>\n",
       "      <td>1</td>\n",
       "    </tr>\n",
       "    <tr>\n",
       "      <th>2</th>\n",
       "      <td>894</td>\n",
       "      <td>0</td>\n",
       "    </tr>\n",
       "    <tr>\n",
       "      <th>3</th>\n",
       "      <td>895</td>\n",
       "      <td>0</td>\n",
       "    </tr>\n",
       "    <tr>\n",
       "      <th>4</th>\n",
       "      <td>896</td>\n",
       "      <td>1</td>\n",
       "    </tr>\n",
       "    <tr>\n",
       "      <th>...</th>\n",
       "      <td>...</td>\n",
       "      <td>...</td>\n",
       "    </tr>\n",
       "    <tr>\n",
       "      <th>413</th>\n",
       "      <td>1305</td>\n",
       "      <td>0</td>\n",
       "    </tr>\n",
       "    <tr>\n",
       "      <th>414</th>\n",
       "      <td>1306</td>\n",
       "      <td>1</td>\n",
       "    </tr>\n",
       "    <tr>\n",
       "      <th>415</th>\n",
       "      <td>1307</td>\n",
       "      <td>0</td>\n",
       "    </tr>\n",
       "    <tr>\n",
       "      <th>416</th>\n",
       "      <td>1308</td>\n",
       "      <td>0</td>\n",
       "    </tr>\n",
       "    <tr>\n",
       "      <th>417</th>\n",
       "      <td>1309</td>\n",
       "      <td>0</td>\n",
       "    </tr>\n",
       "  </tbody>\n",
       "</table>\n",
       "<p>418 rows × 2 columns</p>\n",
       "</div>"
      ],
      "text/plain": [
       "     PassengerId  Survived\n",
       "0            892         0\n",
       "1            893         1\n",
       "2            894         0\n",
       "3            895         0\n",
       "4            896         1\n",
       "..           ...       ...\n",
       "413         1305         0\n",
       "414         1306         1\n",
       "415         1307         0\n",
       "416         1308         0\n",
       "417         1309         0\n",
       "\n",
       "[418 rows x 2 columns]"
      ]
     },
     "execution_count": 38,
     "metadata": {},
     "output_type": "execute_result"
    }
   ],
   "source": [
    "submission"
   ]
  },
  {
   "cell_type": "code",
   "execution_count": null,
   "id": "403ed5da",
   "metadata": {
    "papermill": {
     "duration": 0.05828,
     "end_time": "2022-06-23T14:14:55.777531",
     "exception": false,
     "start_time": "2022-06-23T14:14:55.719251",
     "status": "completed"
    },
    "tags": []
   },
   "outputs": [],
   "source": []
  }
 ],
 "metadata": {
  "kernelspec": {
   "display_name": "Python 3",
   "language": "python",
   "name": "python3"
  },
  "language_info": {
   "codemirror_mode": {
    "name": "ipython",
    "version": 3
   },
   "file_extension": ".py",
   "mimetype": "text/x-python",
   "name": "python",
   "nbconvert_exporter": "python",
   "pygments_lexer": "ipython3",
   "version": "3.7.12"
  },
  "papermill": {
   "default_parameters": {},
   "duration": 26.951484,
   "end_time": "2022-06-23T14:14:56.657891",
   "environment_variables": {},
   "exception": null,
   "input_path": "__notebook__.ipynb",
   "output_path": "__notebook__.ipynb",
   "parameters": {},
   "start_time": "2022-06-23T14:14:29.706407",
   "version": "2.3.4"
  }
 },
 "nbformat": 4,
 "nbformat_minor": 5
}
