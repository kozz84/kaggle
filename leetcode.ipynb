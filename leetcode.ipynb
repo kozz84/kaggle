{
  "nbformat": 4,
  "nbformat_minor": 0,
  "metadata": {
    "colab": {
      "provenance": [],
      "authorship_tag": "ABX9TyOkukCBVUlcRRJ5CXzJiW9U",
      "include_colab_link": true
    },
    "kernelspec": {
      "name": "python3",
      "display_name": "Python 3"
    },
    "language_info": {
      "name": "python"
    }
  },
  "cells": [
    {
      "cell_type": "markdown",
      "metadata": {
        "id": "view-in-github",
        "colab_type": "text"
      },
      "source": [
        "<a href=\"https://colab.research.google.com/github/kozz84/kaggle/blob/main/leetcode.ipynb\" target=\"_parent\"><img src=\"https://colab.research.google.com/assets/colab-badge.svg\" alt=\"Open In Colab\"/></a>"
      ]
    },
    {
      "cell_type": "code",
      "execution_count": null,
      "metadata": {
        "id": "6hTSigixNoWM"
      },
      "outputs": [],
      "source": [
        "# two sums"
      ]
    },
    {
      "cell_type": "code",
      "source": [
        "nums = [3,3]\n",
        "target = 6"
      ],
      "metadata": {
        "id": "AIAxrLdCNqed"
      },
      "execution_count": 39,
      "outputs": []
    },
    {
      "cell_type": "code",
      "source": [
        "def twoSum(nums,target):\n",
        "    hashmap = {}\n",
        "    for index,i in enumerate(nums):\n",
        "        if target-i in hashmap:\n",
        "            return [hashmap[target-i],index]\n",
        "        else:\n",
        "            hashmap[i] = index"
      ],
      "metadata": {
        "id": "J5kwTkl2Nt9V"
      },
      "execution_count": 40,
      "outputs": []
    },
    {
      "cell_type": "code",
      "source": [
        "twoSum(nums,target)"
      ],
      "metadata": {
        "colab": {
          "base_uri": "https://localhost:8080/"
        },
        "id": "5y6D1-qSOF6t",
        "outputId": "032f2cc0-fe74-4326-ee84-f02e04337528"
      },
      "execution_count": 41,
      "outputs": [
        {
          "output_type": "execute_result",
          "data": {
            "text/plain": [
              "[0, 1]"
            ]
          },
          "metadata": {},
          "execution_count": 41
        }
      ]
    },
    {
      "cell_type": "code",
      "source": [
        "#two sums II"
      ],
      "metadata": {
        "id": "iYX2bYqpc50F"
      },
      "execution_count": null,
      "outputs": []
    },
    {
      "cell_type": "code",
      "source": [
        "numbers = [2,7,11,15]\n",
        "target = 9"
      ],
      "metadata": {
        "id": "didbuwNpOtkt"
      },
      "execution_count": 47,
      "outputs": []
    },
    {
      "cell_type": "code",
      "source": [
        "left = 0\n",
        "right = len(numbers)-1"
      ],
      "metadata": {
        "id": "bbRtiAewbOh_"
      },
      "execution_count": 50,
      "outputs": []
    },
    {
      "cell_type": "code",
      "source": [
        "while True:\n",
        "    lr_sum = numbers[left]+numbers[right]\n",
        "    if lr_sum==target:\n",
        "        print(numbers[left],numbers[right])\n",
        "        break\n",
        "    if lr_sum>target:\n",
        "        right-=1\n",
        "    if lr_sum<target:\n",
        "        left+=1"
      ],
      "metadata": {
        "colab": {
          "base_uri": "https://localhost:8080/"
        },
        "id": "TBv581ZNbVvm",
        "outputId": "a27cdb1d-6109-4b11-8a6d-ed3e1a64c798"
      },
      "execution_count": 52,
      "outputs": [
        {
          "output_type": "stream",
          "name": "stdout",
          "text": [
            "2 7\n"
          ]
        }
      ]
    },
    {
      "cell_type": "code",
      "source": [],
      "metadata": {
        "id": "Q1MM3at-by_Q"
      },
      "execution_count": null,
      "outputs": []
    }
  ]
}