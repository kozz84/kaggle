{
 "cells": [
  {
   "cell_type": "code",
   "execution_count": 1,
   "id": "d84cb25e",
   "metadata": {
    "_cell_guid": "b1076dfc-b9ad-4769-8c92-a6c4dae69d19",
    "_uuid": "8f2839f25d086af736a60e9eeb907d3b93b6e0e5",
    "execution": {
     "iopub.execute_input": "2022-06-30T13:37:22.285031Z",
     "iopub.status.busy": "2022-06-30T13:37:22.284514Z",
     "iopub.status.idle": "2022-06-30T13:37:22.307495Z",
     "shell.execute_reply": "2022-06-30T13:37:22.306500Z"
    },
    "papermill": {
     "duration": 0.038792,
     "end_time": "2022-06-30T13:37:22.311078",
     "exception": false,
     "start_time": "2022-06-30T13:37:22.272286",
     "status": "completed"
    },
    "tags": []
   },
   "outputs": [
    {
     "name": "stdout",
     "output_type": "stream",
     "text": [
      "/kaggle/input/housesalesprediction/kc_house_data.csv\n"
     ]
    }
   ],
   "source": [
    "# This Python 3 environment comes with many helpful analytics libraries installed\n",
    "# It is defined by the kaggle/python Docker image: https://github.com/kaggle/docker-python\n",
    "# For example, here's several helpful packages to load\n",
    "\n",
    "import numpy as np # linear algebra\n",
    "import pandas as pd # data processing, CSV file I/O (e.g. pd.read_csv)\n",
    "\n",
    "# Input data files are available in the read-only \"../input/\" directory\n",
    "# For example, running this (by clicking run or pressing Shift+Enter) will list all files under the input directory\n",
    "\n",
    "import os\n",
    "for dirname, _, filenames in os.walk('/kaggle/input'):\n",
    "    for filename in filenames:\n",
    "        print(os.path.join(dirname, filename))\n",
    "\n",
    "# You can write up to 20GB to the current directory (/kaggle/working/) that gets preserved as output when you create a version using \"Save & Run All\" \n",
    "# You can also write temporary files to /kaggle/temp/, but they won't be saved outside of the current session"
   ]
  },
  {
   "cell_type": "code",
   "execution_count": 2,
   "id": "98d7214b",
   "metadata": {
    "execution": {
     "iopub.execute_input": "2022-06-30T13:37:22.333507Z",
     "iopub.status.busy": "2022-06-30T13:37:22.333133Z",
     "iopub.status.idle": "2022-06-30T13:37:22.337768Z",
     "shell.execute_reply": "2022-06-30T13:37:22.336858Z"
    },
    "papermill": {
     "duration": 0.017988,
     "end_time": "2022-06-30T13:37:22.340340",
     "exception": false,
     "start_time": "2022-06-30T13:37:22.322352",
     "status": "completed"
    },
    "tags": []
   },
   "outputs": [],
   "source": [
    "#pytorch and tensor flow"
   ]
  },
  {
   "cell_type": "code",
   "execution_count": 3,
   "id": "3f228977",
   "metadata": {
    "execution": {
     "iopub.execute_input": "2022-06-30T13:37:22.360908Z",
     "iopub.status.busy": "2022-06-30T13:37:22.360165Z",
     "iopub.status.idle": "2022-06-30T13:37:22.365171Z",
     "shell.execute_reply": "2022-06-30T13:37:22.364227Z"
    },
    "papermill": {
     "duration": 0.017901,
     "end_time": "2022-06-30T13:37:22.367277",
     "exception": false,
     "start_time": "2022-06-30T13:37:22.349376",
     "status": "completed"
    },
    "tags": []
   },
   "outputs": [],
   "source": [
    "pd.set_option('max_columns',None)"
   ]
  },
  {
   "cell_type": "code",
   "execution_count": 4,
   "id": "1f292c3e",
   "metadata": {
    "execution": {
     "iopub.execute_input": "2022-06-30T13:37:22.387112Z",
     "iopub.status.busy": "2022-06-30T13:37:22.386296Z",
     "iopub.status.idle": "2022-06-30T13:37:25.664883Z",
     "shell.execute_reply": "2022-06-30T13:37:25.663625Z"
    },
    "papermill": {
     "duration": 3.291726,
     "end_time": "2022-06-30T13:37:25.667881",
     "exception": false,
     "start_time": "2022-06-30T13:37:22.376155",
     "status": "completed"
    },
    "tags": []
   },
   "outputs": [],
   "source": [
    "from sklearn.preprocessing import StandardScaler\n",
    "from sklearn.model_selection import train_test_split\n",
    "import torch\n",
    "import torch.nn as nn\n",
    "import torch.nn.functional as F\n",
    "import matplotlib.pyplot as plt"
   ]
  },
  {
   "cell_type": "code",
   "execution_count": 5,
   "id": "029e5116",
   "metadata": {
    "execution": {
     "iopub.execute_input": "2022-06-30T13:37:25.688621Z",
     "iopub.status.busy": "2022-06-30T13:37:25.687672Z",
     "iopub.status.idle": "2022-06-30T13:37:25.797964Z",
     "shell.execute_reply": "2022-06-30T13:37:25.796285Z"
    },
    "papermill": {
     "duration": 0.124002,
     "end_time": "2022-06-30T13:37:25.800863",
     "exception": false,
     "start_time": "2022-06-30T13:37:25.676861",
     "status": "completed"
    },
    "tags": []
   },
   "outputs": [],
   "source": [
    "data = pd.read_csv('../input/housesalesprediction/kc_house_data.csv')"
   ]
  },
  {
   "cell_type": "code",
   "execution_count": 6,
   "id": "e125a421",
   "metadata": {
    "execution": {
     "iopub.execute_input": "2022-06-30T13:37:25.821382Z",
     "iopub.status.busy": "2022-06-30T13:37:25.820959Z",
     "iopub.status.idle": "2022-06-30T13:37:25.839218Z",
     "shell.execute_reply": "2022-06-30T13:37:25.837607Z"
    },
    "papermill": {
     "duration": 0.032311,
     "end_time": "2022-06-30T13:37:25.842142",
     "exception": false,
     "start_time": "2022-06-30T13:37:25.809831",
     "status": "completed"
    },
    "tags": []
   },
   "outputs": [
    {
     "data": {
      "text/plain": [
       "70"
      ]
     },
     "execution_count": 6,
     "metadata": {},
     "output_type": "execute_result"
    }
   ],
   "source": [
    "data['zipcode'].nunique()"
   ]
  },
  {
   "cell_type": "code",
   "execution_count": 7,
   "id": "fc950a32",
   "metadata": {
    "execution": {
     "iopub.execute_input": "2022-06-30T13:37:25.863346Z",
     "iopub.status.busy": "2022-06-30T13:37:25.862633Z",
     "iopub.status.idle": "2022-06-30T13:37:25.878013Z",
     "shell.execute_reply": "2022-06-30T13:37:25.876642Z"
    },
    "papermill": {
     "duration": 0.028984,
     "end_time": "2022-06-30T13:37:25.880588",
     "exception": false,
     "start_time": "2022-06-30T13:37:25.851604",
     "status": "completed"
    },
    "tags": []
   },
   "outputs": [
    {
     "data": {
      "text/plain": [
       "0"
      ]
     },
     "execution_count": 7,
     "metadata": {},
     "output_type": "execute_result"
    }
   ],
   "source": [
    "data.isna().sum().sum()"
   ]
  },
  {
   "cell_type": "code",
   "execution_count": 8,
   "id": "ef716efe",
   "metadata": {
    "execution": {
     "iopub.execute_input": "2022-06-30T13:37:25.903134Z",
     "iopub.status.busy": "2022-06-30T13:37:25.902342Z",
     "iopub.status.idle": "2022-06-30T13:37:25.914129Z",
     "shell.execute_reply": "2022-06-30T13:37:25.912697Z"
    },
    "papermill": {
     "duration": 0.026634,
     "end_time": "2022-06-30T13:37:25.916962",
     "exception": false,
     "start_time": "2022-06-30T13:37:25.890328",
     "status": "completed"
    },
    "tags": []
   },
   "outputs": [],
   "source": [
    "def preprocessing(df):\n",
    "    df=df.copy()\n",
    "    df_dummies = pd.DataFrame\n",
    "    df_dummies = pd.get_dummies(data['zipcode'],prefix='zip')\n",
    "    df = pd.concat([df,df_dummies],axis=1)\n",
    "    df['year'] = df['date'].apply(lambda x: x[0:4])\n",
    "    df['month'] = df['date'].apply(lambda x: x[4:6])\n",
    "    df.drop(['id','date','zipcode','yr_renovated'],axis=1,inplace=True)\n",
    "    X = df.drop('price',axis=1)\n",
    "    y=df['price']\n",
    "    X_train, X_test, y_train, y_test = train_test_split(X, y, test_size=0.2, random_state=42)\n",
    "    scaler = StandardScaler()\n",
    "    X_train = pd.DataFrame(scaler.fit_transform(X_train),columns=X_train.columns)\n",
    "    X_test = pd.DataFrame(scaler.transform(X_test),columns=X_test.columns)\n",
    "    return X_train, X_test, y_train, y_test"
   ]
  },
  {
   "cell_type": "code",
   "execution_count": 9,
   "id": "af389390",
   "metadata": {
    "execution": {
     "iopub.execute_input": "2022-06-30T13:37:25.937811Z",
     "iopub.status.busy": "2022-06-30T13:37:25.937376Z",
     "iopub.status.idle": "2022-06-30T13:37:26.563408Z",
     "shell.execute_reply": "2022-06-30T13:37:26.562063Z"
    },
    "papermill": {
     "duration": 0.640562,
     "end_time": "2022-06-30T13:37:26.566700",
     "exception": false,
     "start_time": "2022-06-30T13:37:25.926138",
     "status": "completed"
    },
    "tags": []
   },
   "outputs": [],
   "source": [
    "X_train, X_test, y_train, y_test = preprocessing(data)"
   ]
  },
  {
   "cell_type": "code",
   "execution_count": 10,
   "id": "43d71027",
   "metadata": {
    "execution": {
     "iopub.execute_input": "2022-06-30T13:37:26.588390Z",
     "iopub.status.busy": "2022-06-30T13:37:26.587943Z",
     "iopub.status.idle": "2022-06-30T13:37:26.595245Z",
     "shell.execute_reply": "2022-06-30T13:37:26.594066Z"
    },
    "papermill": {
     "duration": 0.02118,
     "end_time": "2022-06-30T13:37:26.597561",
     "exception": false,
     "start_time": "2022-06-30T13:37:26.576381",
     "status": "completed"
    },
    "tags": []
   },
   "outputs": [
    {
     "data": {
      "text/plain": [
       "(17290, 88)"
      ]
     },
     "execution_count": 10,
     "metadata": {},
     "output_type": "execute_result"
    }
   ],
   "source": [
    "X_train.shape"
   ]
  },
  {
   "cell_type": "code",
   "execution_count": 11,
   "id": "822895ef",
   "metadata": {
    "execution": {
     "iopub.execute_input": "2022-06-30T13:37:26.622412Z",
     "iopub.status.busy": "2022-06-30T13:37:26.621331Z",
     "iopub.status.idle": "2022-06-30T13:37:26.627558Z",
     "shell.execute_reply": "2022-06-30T13:37:26.626168Z"
    },
    "papermill": {
     "duration": 0.021685,
     "end_time": "2022-06-30T13:37:26.630338",
     "exception": false,
     "start_time": "2022-06-30T13:37:26.608653",
     "status": "completed"
    },
    "tags": []
   },
   "outputs": [],
   "source": [
    "# TF"
   ]
  },
  {
   "cell_type": "code",
   "execution_count": 12,
   "id": "f91c252f",
   "metadata": {
    "execution": {
     "iopub.execute_input": "2022-06-30T13:37:26.652517Z",
     "iopub.status.busy": "2022-06-30T13:37:26.651760Z",
     "iopub.status.idle": "2022-06-30T13:37:38.087439Z",
     "shell.execute_reply": "2022-06-30T13:37:38.086211Z"
    },
    "papermill": {
     "duration": 11.449924,
     "end_time": "2022-06-30T13:37:38.090329",
     "exception": false,
     "start_time": "2022-06-30T13:37:26.640405",
     "status": "completed"
    },
    "tags": []
   },
   "outputs": [],
   "source": [
    "from tensorflow.keras.models import Sequential\n",
    "from tensorflow.keras.layers import Dense\n",
    "from tensorflow.keras.callbacks import EarlyStopping"
   ]
  },
  {
   "cell_type": "code",
   "execution_count": 13,
   "id": "4d60cec8",
   "metadata": {
    "execution": {
     "iopub.execute_input": "2022-06-30T13:37:38.111584Z",
     "iopub.status.busy": "2022-06-30T13:37:38.110606Z",
     "iopub.status.idle": "2022-06-30T13:37:38.221733Z",
     "shell.execute_reply": "2022-06-30T13:37:38.220378Z"
    },
    "papermill": {
     "duration": 0.124568,
     "end_time": "2022-06-30T13:37:38.224533",
     "exception": false,
     "start_time": "2022-06-30T13:37:38.099965",
     "status": "completed"
    },
    "tags": []
   },
   "outputs": [
    {
     "name": "stderr",
     "output_type": "stream",
     "text": [
      "2022-06-30 13:37:38.157091: I tensorflow/core/common_runtime/process_util.cc:146] Creating new thread pool with default inter op setting: 2. Tune using inter_op_parallelism_threads for best performance.\n"
     ]
    }
   ],
   "source": [
    "model = Sequential()\n",
    "model.add(Dense(88,activation='relu'))\n",
    "model.add(Dense(44,activation='relu'))\n",
    "model.add(Dense(22,activation='relu'))\n",
    "model.add(Dense(1,activation='linear'))\n",
    "model.compile(optimizer = 'adam',loss='mse')\n",
    "early_stop = EarlyStopping(monitor='val_loss', mode='min',verbose=1,patience=25)"
   ]
  },
  {
   "cell_type": "code",
   "execution_count": 14,
   "id": "f27be9ae",
   "metadata": {
    "execution": {
     "iopub.execute_input": "2022-06-30T13:37:38.246184Z",
     "iopub.status.busy": "2022-06-30T13:37:38.245162Z",
     "iopub.status.idle": "2022-06-30T13:37:59.527852Z",
     "shell.execute_reply": "2022-06-30T13:37:59.526538Z"
    },
    "papermill": {
     "duration": 21.29642,
     "end_time": "2022-06-30T13:37:59.530560",
     "exception": false,
     "start_time": "2022-06-30T13:37:38.234140",
     "status": "completed"
    },
    "tags": []
   },
   "outputs": [
    {
     "name": "stderr",
     "output_type": "stream",
     "text": [
      "2022-06-30 13:37:38.414853: I tensorflow/compiler/mlir/mlir_graph_optimization_pass.cc:185] None of the MLIR Optimization Passes are enabled (registered 2)\n"
     ]
    },
    {
     "data": {
      "text/plain": [
       "<keras.callbacks.History at 0x7f52ddbcd690>"
      ]
     },
     "execution_count": 14,
     "metadata": {},
     "output_type": "execute_result"
    }
   ],
   "source": [
    "model.fit(X_train,y_train,validation_data=(X_test,y_test),batch_size=32,epochs=10,callbacks=[early_stop],verbose=0)"
   ]
  },
  {
   "cell_type": "code",
   "execution_count": 15,
   "id": "eaf481f6",
   "metadata": {
    "execution": {
     "iopub.execute_input": "2022-06-30T13:37:59.552494Z",
     "iopub.status.busy": "2022-06-30T13:37:59.551419Z",
     "iopub.status.idle": "2022-06-30T13:37:59.557258Z",
     "shell.execute_reply": "2022-06-30T13:37:59.556168Z"
    },
    "papermill": {
     "duration": 0.01904,
     "end_time": "2022-06-30T13:37:59.559439",
     "exception": false,
     "start_time": "2022-06-30T13:37:59.540399",
     "status": "completed"
    },
    "tags": []
   },
   "outputs": [],
   "source": [
    "history = pd.DataFrame(model.history.history)"
   ]
  },
  {
   "cell_type": "code",
   "execution_count": 16,
   "id": "d9f5c1eb",
   "metadata": {
    "execution": {
     "iopub.execute_input": "2022-06-30T13:37:59.580330Z",
     "iopub.status.busy": "2022-06-30T13:37:59.579903Z",
     "iopub.status.idle": "2022-06-30T13:37:59.818433Z",
     "shell.execute_reply": "2022-06-30T13:37:59.817185Z"
    },
    "papermill": {
     "duration": 0.252087,
     "end_time": "2022-06-30T13:37:59.821072",
     "exception": false,
     "start_time": "2022-06-30T13:37:59.568985",
     "status": "completed"
    },
    "tags": []
   },
   "outputs": [
    {
     "data": {
      "text/plain": [
       "[<matplotlib.lines.Line2D at 0x7f52dc5ca7d0>,\n",
       " <matplotlib.lines.Line2D at 0x7f52d43a1190>]"
      ]
     },
     "execution_count": 16,
     "metadata": {},
     "output_type": "execute_result"
    },
    {
     "data": {
      "image/png": "[encoded data removed]",
      "text/plain": [
       "<Figure size 432x288 with 1 Axes>"
      ]
     },
     "metadata": {
      "needs_background": "light"
     },
     "output_type": "display_data"
    }
   ],
   "source": [
    "plt.plot(history)"
   ]
  },
  {
   "cell_type": "code",
   "execution_count": 17,
   "id": "2b3d345d",
   "metadata": {
    "execution": {
     "iopub.execute_input": "2022-06-30T13:37:59.843782Z",
     "iopub.status.busy": "2022-06-30T13:37:59.843144Z",
     "iopub.status.idle": "2022-06-30T13:38:00.244467Z",
     "shell.execute_reply": "2022-06-30T13:38:00.243011Z"
    },
    "papermill": {
     "duration": 0.416628,
     "end_time": "2022-06-30T13:38:00.247784",
     "exception": false,
     "start_time": "2022-06-30T13:37:59.831156",
     "status": "completed"
    },
    "tags": []
   },
   "outputs": [],
   "source": [
    "y_pred = model.predict(X_test)"
   ]
  },
  {
   "cell_type": "code",
   "execution_count": 18,
   "id": "fcb561e6",
   "metadata": {
    "execution": {
     "iopub.execute_input": "2022-06-30T13:38:00.270424Z",
     "iopub.status.busy": "2022-06-30T13:38:00.269525Z",
     "iopub.status.idle": "2022-06-30T13:38:00.477468Z",
     "shell.execute_reply": "2022-06-30T13:38:00.476204Z"
    },
    "papermill": {
     "duration": 0.222312,
     "end_time": "2022-06-30T13:38:00.480366",
     "exception": false,
     "start_time": "2022-06-30T13:38:00.258054",
     "status": "completed"
    },
    "tags": []
   },
   "outputs": [
    {
     "data": {
      "text/plain": [
       "[<matplotlib.lines.Line2D at 0x7f52d424f0d0>]"
      ]
     },
     "execution_count": 18,
     "metadata": {},
     "output_type": "execute_result"
    },
    {
     "data": {
      "image/png": "[encoded data removed]",
      "text/plain": [
       "<Figure size 432x288 with 1 Axes>"
      ]
     },
     "metadata": {
      "needs_background": "light"
     },
     "output_type": "display_data"
    }
   ],
   "source": [
    "plt.scatter(y_test,y_pred)\n",
    "plt.plot(y_test,y_test,color='r')"
   ]
  },
  {
   "cell_type": "code",
   "execution_count": 19,
   "id": "5ae071bd",
   "metadata": {
    "execution": {
     "iopub.execute_input": "2022-06-30T13:38:00.505484Z",
     "iopub.status.busy": "2022-06-30T13:38:00.504675Z",
     "iopub.status.idle": "2022-06-30T13:38:00.862870Z",
     "shell.execute_reply": "2022-06-30T13:38:00.861779Z"
    },
    "papermill": {
     "duration": 0.373932,
     "end_time": "2022-06-30T13:38:00.865202",
     "exception": false,
     "start_time": "2022-06-30T13:38:00.491270",
     "status": "completed"
    },
    "tags": []
   },
   "outputs": [
    {
     "name": "stdout",
     "output_type": "stream",
     "text": [
      "136/136 [==============================] - 0s 2ms/step - loss: 21853603840.0000\n"
     ]
    },
    {
     "data": {
      "text/plain": [
       "147829.644658979"
      ]
     },
     "execution_count": 19,
     "metadata": {},
     "output_type": "execute_result"
    }
   ],
   "source": [
    "np.sqrt(model.evaluate(X_test,y_test))"
   ]
  },
  {
   "cell_type": "code",
   "execution_count": 20,
   "id": "2ba168e1",
   "metadata": {
    "execution": {
     "iopub.execute_input": "2022-06-30T13:38:00.889253Z",
     "iopub.status.busy": "2022-06-30T13:38:00.888397Z",
     "iopub.status.idle": "2022-06-30T13:38:00.894554Z",
     "shell.execute_reply": "2022-06-30T13:38:00.893770Z"
    },
    "papermill": {
     "duration": 0.020522,
     "end_time": "2022-06-30T13:38:00.896667",
     "exception": false,
     "start_time": "2022-06-30T13:38:00.876145",
     "status": "completed"
    },
    "tags": []
   },
   "outputs": [
    {
     "data": {
      "text/plain": [
       "549367.443673375"
      ]
     },
     "execution_count": 20,
     "metadata": {},
     "output_type": "execute_result"
    }
   ],
   "source": [
    "y_test.mean()"
   ]
  },
  {
   "cell_type": "code",
   "execution_count": 21,
   "id": "1a4f2897",
   "metadata": {
    "execution": {
     "iopub.execute_input": "2022-06-30T13:38:00.920668Z",
     "iopub.status.busy": "2022-06-30T13:38:00.919949Z",
     "iopub.status.idle": "2022-06-30T13:38:00.924067Z",
     "shell.execute_reply": "2022-06-30T13:38:00.923067Z"
    },
    "papermill": {
     "duration": 0.018676,
     "end_time": "2022-06-30T13:38:00.926210",
     "exception": false,
     "start_time": "2022-06-30T13:38:00.907534",
     "status": "completed"
    },
    "tags": []
   },
   "outputs": [],
   "source": [
    "#Pytorch"
   ]
  },
  {
   "cell_type": "code",
   "execution_count": 22,
   "id": "109d427e",
   "metadata": {
    "execution": {
     "iopub.execute_input": "2022-06-30T13:38:00.949928Z",
     "iopub.status.busy": "2022-06-30T13:38:00.949482Z",
     "iopub.status.idle": "2022-06-30T13:38:00.964037Z",
     "shell.execute_reply": "2022-06-30T13:38:00.963078Z"
    },
    "papermill": {
     "duration": 0.029303,
     "end_time": "2022-06-30T13:38:00.966461",
     "exception": false,
     "start_time": "2022-06-30T13:38:00.937158",
     "status": "completed"
    },
    "tags": []
   },
   "outputs": [],
   "source": [
    "class Net(nn.Module):\n",
    "    \n",
    "    def __init__(self):\n",
    "        super(Net,self).__init__()\n",
    "        self.layer1 = nn.Linear(88,64)\n",
    "        self.layer2 = nn.Linear(64,64)\n",
    "        self.out = nn.Linear(64,1)\n",
    "    def forward(self,x):\n",
    "        x=F.relu(self.layer1(x))\n",
    "        x=F.relu(self.layer2(x))\n",
    "        x=self.out(x)\n",
    "        return x\n",
    "net = Net()"
   ]
  },
  {
   "cell_type": "code",
   "execution_count": 23,
   "id": "8e4d9ede",
   "metadata": {
    "execution": {
     "iopub.execute_input": "2022-06-30T13:38:00.991002Z",
     "iopub.status.busy": "2022-06-30T13:38:00.990180Z",
     "iopub.status.idle": "2022-06-30T13:38:01.004168Z",
     "shell.execute_reply": "2022-06-30T13:38:01.002767Z"
    },
    "papermill": {
     "duration": 0.029311,
     "end_time": "2022-06-30T13:38:01.006750",
     "exception": false,
     "start_time": "2022-06-30T13:38:00.977439",
     "status": "completed"
    },
    "tags": []
   },
   "outputs": [
    {
     "data": {
      "text/plain": [
       "[Parameter containing:\n",
       " tensor([[ 0.0548,  0.0073,  0.0761,  ...,  0.0524, -0.0823,  0.0317],\n",
       "         [-0.0645,  0.0471, -0.1010,  ...,  0.0959,  0.0574, -0.0604],\n",
       "         [-0.0624,  0.0608, -0.0327,  ...,  0.0699, -0.0192,  0.0485],\n",
       "         ...,\n",
       "         [ 0.0824,  0.0189, -0.0004,  ...,  0.0246,  0.0877,  0.0170],\n",
       "         [ 0.1006, -0.0058, -0.0318,  ..., -0.0667, -0.0578, -0.0168],\n",
       "         [ 0.0514, -0.0169,  0.0016,  ..., -0.1048, -0.0367, -0.0652]],\n",
       "        requires_grad=True),\n",
       " Parameter containing:\n",
       " tensor([ 0.0677,  0.0184,  0.0192,  0.0744,  0.0907, -0.0192,  0.0566,  0.0751,\n",
       "          0.0257, -0.0733,  0.0653, -0.0999,  0.0158, -0.0649,  0.0543,  0.0117,\n",
       "          0.0504, -0.0429,  0.0608,  0.0189,  0.0910, -0.0136,  0.0384, -0.1008,\n",
       "          0.0112, -0.0244,  0.0302,  0.0212,  0.0392, -0.0333, -0.0775,  0.0265,\n",
       "          0.0809,  0.0196, -0.0029,  0.0713, -0.0640,  0.0693, -0.0817,  0.0341,\n",
       "         -0.0963, -0.0469,  0.0796, -0.0563, -0.0690,  0.0432,  0.0750,  0.1049,\n",
       "         -0.0216,  0.0842, -0.0788, -0.1063,  0.0504, -0.0247, -0.0497,  0.0124,\n",
       "         -0.0945, -0.1026, -0.0790,  0.0100, -0.0093, -0.0143,  0.0743, -0.0393],\n",
       "        requires_grad=True),\n",
       " Parameter containing:\n",
       " tensor([[-0.0282,  0.1119,  0.0091,  ..., -0.0516,  0.0748,  0.0329],\n",
       "         [-0.0818,  0.0987, -0.0691,  ..., -0.0999,  0.1069, -0.0066],\n",
       "         [ 0.1023,  0.0944, -0.1167,  ...,  0.1051,  0.0493,  0.0934],\n",
       "         ...,\n",
       "         [ 0.0326, -0.0544,  0.0900,  ..., -0.0492,  0.0710, -0.0693],\n",
       "         [ 0.0620,  0.0956, -0.1163,  ..., -0.0012,  0.0581, -0.0268],\n",
       "         [-0.0303, -0.1142,  0.1222,  ...,  0.0368,  0.1081,  0.0294]],\n",
       "        requires_grad=True),\n",
       " Parameter containing:\n",
       " tensor([-0.0031,  0.0518,  0.0656, -0.0600,  0.0911,  0.0103,  0.0372, -0.1143,\n",
       "         -0.1094,  0.0152, -0.0446,  0.0859,  0.0785, -0.0534, -0.1206, -0.0197,\n",
       "         -0.0998, -0.0548, -0.0282, -0.0518,  0.0042, -0.1248,  0.0079, -0.0052,\n",
       "          0.0217,  0.0066,  0.0601,  0.1075,  0.0150, -0.0722, -0.1141,  0.0930,\n",
       "         -0.1009,  0.0383, -0.0375, -0.0234,  0.0755, -0.0602, -0.0515, -0.0074,\n",
       "          0.0139,  0.1210, -0.0192, -0.0164,  0.0083, -0.0149, -0.0143, -0.0831,\n",
       "         -0.1135, -0.0390,  0.1096, -0.0386, -0.1194, -0.0079, -0.1070,  0.0976,\n",
       "         -0.1199,  0.0841, -0.0990, -0.1021, -0.0993, -0.0847,  0.0883,  0.0943],\n",
       "        requires_grad=True),\n",
       " Parameter containing:\n",
       " tensor([[ 0.1134, -0.0763,  0.0783, -0.0351, -0.0737,  0.0655,  0.0070, -0.0418,\n",
       "           0.0403,  0.0826, -0.0105, -0.1037,  0.0564,  0.0064,  0.0153, -0.0645,\n",
       "           0.0634,  0.0178, -0.0279,  0.0187,  0.0545, -0.0076, -0.1020,  0.1114,\n",
       "           0.1168, -0.0889, -0.0906, -0.1136, -0.0717,  0.0215, -0.0937, -0.0435,\n",
       "          -0.0791, -0.0147,  0.1182,  0.0489, -0.0003,  0.1097,  0.0301, -0.0596,\n",
       "           0.0890, -0.0461,  0.0880,  0.0384,  0.0726, -0.1023,  0.1083,  0.0656,\n",
       "          -0.1024,  0.1209,  0.0599, -0.0070,  0.0887, -0.0542,  0.0064, -0.0380,\n",
       "           0.0406,  0.0709,  0.0662,  0.0898, -0.0259,  0.0930,  0.0798,  0.0934]],\n",
       "        requires_grad=True),\n",
       " Parameter containing:\n",
       " tensor([-0.0911], requires_grad=True)]"
      ]
     },
     "execution_count": 23,
     "metadata": {},
     "output_type": "execute_result"
    }
   ],
   "source": [
    "list(net.parameters())"
   ]
  },
  {
   "cell_type": "code",
   "execution_count": 24,
   "id": "fa8c6e08",
   "metadata": {
    "execution": {
     "iopub.execute_input": "2022-06-30T13:38:01.031431Z",
     "iopub.status.busy": "2022-06-30T13:38:01.030982Z",
     "iopub.status.idle": "2022-06-30T13:38:01.043190Z",
     "shell.execute_reply": "2022-06-30T13:38:01.042112Z"
    },
    "papermill": {
     "duration": 0.02787,
     "end_time": "2022-06-30T13:38:01.045846",
     "exception": false,
     "start_time": "2022-06-30T13:38:01.017976",
     "status": "completed"
    },
    "tags": []
   },
   "outputs": [],
   "source": [
    "PT_X_train = torch.tensor(X_train.values).type(torch.float32)"
   ]
  },
  {
   "cell_type": "code",
   "execution_count": 25,
   "id": "583cca84",
   "metadata": {
    "execution": {
     "iopub.execute_input": "2022-06-30T13:38:01.070730Z",
     "iopub.status.busy": "2022-06-30T13:38:01.069808Z",
     "iopub.status.idle": "2022-06-30T13:38:01.075814Z",
     "shell.execute_reply": "2022-06-30T13:38:01.074939Z"
    },
    "papermill": {
     "duration": 0.02101,
     "end_time": "2022-06-30T13:38:01.078277",
     "exception": false,
     "start_time": "2022-06-30T13:38:01.057267",
     "status": "completed"
    },
    "tags": []
   },
   "outputs": [],
   "source": [
    "PT_y_train = torch.tensor(y_train.values).type(torch.float32)"
   ]
  },
  {
   "cell_type": "code",
   "execution_count": 26,
   "id": "da33d104",
   "metadata": {
    "execution": {
     "iopub.execute_input": "2022-06-30T13:38:01.103951Z",
     "iopub.status.busy": "2022-06-30T13:38:01.102889Z",
     "iopub.status.idle": "2022-06-30T13:38:01.109016Z",
     "shell.execute_reply": "2022-06-30T13:38:01.108166Z"
    },
    "papermill": {
     "duration": 0.0216,
     "end_time": "2022-06-30T13:38:01.111413",
     "exception": false,
     "start_time": "2022-06-30T13:38:01.089813",
     "status": "completed"
    },
    "tags": []
   },
   "outputs": [],
   "source": [
    "PT_X_test = torch.tensor(X_test.values).type(torch.float32)"
   ]
  },
  {
   "cell_type": "code",
   "execution_count": 27,
   "id": "018c86f5",
   "metadata": {
    "execution": {
     "iopub.execute_input": "2022-06-30T13:38:01.135927Z",
     "iopub.status.busy": "2022-06-30T13:38:01.135021Z",
     "iopub.status.idle": "2022-06-30T13:38:01.140872Z",
     "shell.execute_reply": "2022-06-30T13:38:01.139990Z"
    },
    "papermill": {
     "duration": 0.020803,
     "end_time": "2022-06-30T13:38:01.143291",
     "exception": false,
     "start_time": "2022-06-30T13:38:01.122488",
     "status": "completed"
    },
    "tags": []
   },
   "outputs": [],
   "source": [
    "PT_y_test = torch.tensor(y_test.values).type(torch.float32)"
   ]
  },
  {
   "cell_type": "code",
   "execution_count": 28,
   "id": "0b9438f8",
   "metadata": {
    "execution": {
     "iopub.execute_input": "2022-06-30T13:38:01.168150Z",
     "iopub.status.busy": "2022-06-30T13:38:01.166841Z",
     "iopub.status.idle": "2022-06-30T13:38:01.173479Z",
     "shell.execute_reply": "2022-06-30T13:38:01.172497Z"
    },
    "papermill": {
     "duration": 0.021693,
     "end_time": "2022-06-30T13:38:01.176137",
     "exception": false,
     "start_time": "2022-06-30T13:38:01.154444",
     "status": "completed"
    },
    "tags": []
   },
   "outputs": [],
   "source": [
    "optimizer = torch.optim.Adam(net.parameters(),lr=0.01)\n",
    "criterion = nn.MSELoss()"
   ]
  },
  {
   "cell_type": "code",
   "execution_count": 29,
   "id": "8cf1c677",
   "metadata": {
    "execution": {
     "iopub.execute_input": "2022-06-30T13:38:01.201501Z",
     "iopub.status.busy": "2022-06-30T13:38:01.201103Z",
     "iopub.status.idle": "2022-06-30T13:38:16.712756Z",
     "shell.execute_reply": "2022-06-30T13:38:16.711428Z"
    },
    "papermill": {
     "duration": 15.52733,
     "end_time": "2022-06-30T13:38:16.715556",
     "exception": false,
     "start_time": "2022-06-30T13:38:01.188226",
     "status": "completed"
    },
    "tags": []
   },
   "outputs": [
    {
     "name": "stderr",
     "output_type": "stream",
     "text": [
      "/opt/conda/lib/python3.7/site-packages/torch/nn/modules/loss.py:529: UserWarning: Using a target size (torch.Size([])) that is different to the input size (torch.Size([1])). This will likely lead to incorrect results due to broadcasting. Please ensure they have the same size.\n",
      "  return F.mse_loss(input, target, reduction=self.reduction)\n"
     ]
    }
   ],
   "source": [
    "for x, target in zip(PT_X_train,PT_y_train):\n",
    "    optimizer.zero_grad()\n",
    "    output = net(x)\n",
    "    loss=criterion(output,target)\n",
    "    loss.backward()\n",
    "    optimizer.step()"
   ]
  },
  {
   "cell_type": "code",
   "execution_count": 30,
   "id": "8c168379",
   "metadata": {
    "execution": {
     "iopub.execute_input": "2022-06-30T13:38:16.740651Z",
     "iopub.status.busy": "2022-06-30T13:38:16.739981Z",
     "iopub.status.idle": "2022-06-30T13:38:17.466922Z",
     "shell.execute_reply": "2022-06-30T13:38:17.465793Z"
    },
    "papermill": {
     "duration": 0.742822,
     "end_time": "2022-06-30T13:38:17.469734",
     "exception": false,
     "start_time": "2022-06-30T13:38:16.726912",
     "status": "completed"
    },
    "tags": []
   },
   "outputs": [],
   "source": [
    "total_loss = 0\n",
    "for x, target in zip(PT_X_test,PT_y_test):\n",
    "    output = net(x)\n",
    "    loss=criterion(output,target)\n",
    "    total_loss+=loss\n",
    "avg_loss = total_loss/len(PT_X_test)"
   ]
  },
  {
   "cell_type": "code",
   "execution_count": 31,
   "id": "3934a246",
   "metadata": {
    "execution": {
     "iopub.execute_input": "2022-06-30T13:38:17.494405Z",
     "iopub.status.busy": "2022-06-30T13:38:17.493768Z",
     "iopub.status.idle": "2022-06-30T13:38:17.500327Z",
     "shell.execute_reply": "2022-06-30T13:38:17.499399Z"
    },
    "papermill": {
     "duration": 0.021562,
     "end_time": "2022-06-30T13:38:17.502370",
     "exception": false,
     "start_time": "2022-06-30T13:38:17.480808",
     "status": "completed"
    },
    "tags": []
   },
   "outputs": [
    {
     "data": {
      "text/plain": [
       "tensor(209941.0312, grad_fn=<SqrtBackward0>)"
      ]
     },
     "execution_count": 31,
     "metadata": {},
     "output_type": "execute_result"
    }
   ],
   "source": [
    "torch.sqrt(avg_loss)"
   ]
  }
 ],
 "metadata": {
  "kernelspec": {
   "display_name": "Python 3",
   "language": "python",
   "name": "python3"
  },
  "language_info": {
   "codemirror_mode": {
    "name": "ipython",
    "version": 3
   },
   "file_extension": ".py",
   "mimetype": "text/x-python",
   "name": "python",
   "nbconvert_exporter": "python",
   "pygments_lexer": "ipython3",
   "version": "3.7.12"
  },
  "papermill": {
   "default_parameters": {},
   "duration": 69.990707,
   "end_time": "2022-06-30T13:38:20.682337",
   "environment_variables": {},
   "exception": null,
   "input_path": "__notebook__.ipynb",
   "output_path": "__notebook__.ipynb",
   "parameters": {},
   "start_time": "2022-06-30T13:37:10.691630",
   "version": "2.3.4"
  }
 },
 "nbformat": 4,
 "nbformat_minor": 5
}
