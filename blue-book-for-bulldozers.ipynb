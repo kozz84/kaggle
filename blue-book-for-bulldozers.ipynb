{
 "cells": [
  {
   "cell_type": "code",
   "execution_count": 1,
   "id": "ebb798b7",
   "metadata": {
    "_cell_guid": "b1076dfc-b9ad-4769-8c92-a6c4dae69d19",
    "_uuid": "8f2839f25d086af736a60e9eeb907d3b93b6e0e5",
    "execution": {
     "iopub.execute_input": "2022-07-04T09:36:12.622479Z",
     "iopub.status.busy": "2022-07-04T09:36:12.621090Z",
     "iopub.status.idle": "2022-07-04T09:36:12.640256Z",
     "shell.execute_reply": "2022-07-04T09:36:12.639089Z"
    },
    "papermill": {
     "duration": 0.034516,
     "end_time": "2022-07-04T09:36:12.643618",
     "exception": false,
     "start_time": "2022-07-04T09:36:12.609102",
     "status": "completed"
    },
    "tags": []
   },
   "outputs": [
    {
     "name": "stdout",
     "output_type": "stream",
     "text": [
      "/kaggle/input/bluebook-for-bulldozers/Valid.7z\n",
      "/kaggle/input/bluebook-for-bulldozers/Valid.zip\n",
      "/kaggle/input/bluebook-for-bulldozers/Train.zip\n",
      "/kaggle/input/bluebook-for-bulldozers/TrainAndValid.csv\n",
      "/kaggle/input/bluebook-for-bulldozers/median_benchmark.csv\n",
      "/kaggle/input/bluebook-for-bulldozers/Valid.csv\n",
      "/kaggle/input/bluebook-for-bulldozers/Machine_Appendix.csv\n",
      "/kaggle/input/bluebook-for-bulldozers/random_forest_benchmark_test.csv\n",
      "/kaggle/input/bluebook-for-bulldozers/Data Dictionary.xlsx\n",
      "/kaggle/input/bluebook-for-bulldozers/ValidSolution.csv\n",
      "/kaggle/input/bluebook-for-bulldozers/Test.csv\n",
      "/kaggle/input/bluebook-for-bulldozers/TrainAndValid.zip\n",
      "/kaggle/input/bluebook-for-bulldozers/TrainAndValid.7z\n",
      "/kaggle/input/bluebook-for-bulldozers/Train.7z\n"
     ]
    }
   ],
   "source": [
    "# This Python 3 environment comes with many helpful analytics libraries installed\n",
    "# It is defined by the kaggle/python Docker image: https://github.com/kaggle/docker-python\n",
    "# For example, here's several helpful packages to load\n",
    "\n",
    "import numpy as np # linear algebra\n",
    "import pandas as pd # data processing, CSV file I/O (e.g. pd.read_csv)\n",
    "import matplotlib.pyplot as plt\n",
    "# Input data files are available in the read-only \"../input/\" directory\n",
    "# For example, running this (by clicking run or pressing Shift+Enter) will list all files under the input directory\n",
    "\n",
    "import os\n",
    "for dirname, _, filenames in os.walk('/kaggle/input'):\n",
    "    for filename in filenames:\n",
    "        print(os.path.join(dirname, filename))\n",
    "\n",
    "# You can write up to 20GB to the current directory (/kaggle/working/) that gets preserved as output when you create a version using \"Save & Run All\" \n",
    "# You can also write temporary files to /kaggle/temp/, but they won't be saved outside of the current session"
   ]
  },
  {
   "cell_type": "code",
   "execution_count": 2,
   "id": "5aa2c51d",
   "metadata": {
    "execution": {
     "iopub.execute_input": "2022-07-04T09:36:12.663983Z",
     "iopub.status.busy": "2022-07-04T09:36:12.663345Z",
     "iopub.status.idle": "2022-07-04T09:36:13.740060Z",
     "shell.execute_reply": "2022-07-04T09:36:13.738915Z"
    },
    "papermill": {
     "duration": 1.090023,
     "end_time": "2022-07-04T09:36:13.742828",
     "exception": false,
     "start_time": "2022-07-04T09:36:12.652805",
     "status": "completed"
    },
    "tags": []
   },
   "outputs": [],
   "source": [
    "import seaborn as sns"
   ]
  },
  {
   "cell_type": "code",
   "execution_count": 3,
   "id": "e19dfa6b",
   "metadata": {
    "execution": {
     "iopub.execute_input": "2022-07-04T09:36:13.762683Z",
     "iopub.status.busy": "2022-07-04T09:36:13.762282Z",
     "iopub.status.idle": "2022-07-04T09:36:14.578915Z",
     "shell.execute_reply": "2022-07-04T09:36:14.577783Z"
    },
    "papermill": {
     "duration": 0.82995,
     "end_time": "2022-07-04T09:36:14.581830",
     "exception": false,
     "start_time": "2022-07-04T09:36:13.751880",
     "status": "completed"
    },
    "tags": []
   },
   "outputs": [],
   "source": [
    "import zipfile\n",
    "with zipfile.ZipFile('../input/bluebook-for-bulldozers/Train.zip',\"r\") as z:\n",
    "    z.extractall()"
   ]
  },
  {
   "cell_type": "code",
   "execution_count": 4,
   "id": "d7ced572",
   "metadata": {
    "execution": {
     "iopub.execute_input": "2022-07-04T09:36:14.602248Z",
     "iopub.status.busy": "2022-07-04T09:36:14.601841Z",
     "iopub.status.idle": "2022-07-04T09:36:19.915490Z",
     "shell.execute_reply": "2022-07-04T09:36:19.914410Z"
    },
    "papermill": {
     "duration": 5.327241,
     "end_time": "2022-07-04T09:36:19.918601",
     "exception": false,
     "start_time": "2022-07-04T09:36:14.591360",
     "status": "completed"
    },
    "tags": []
   },
   "outputs": [],
   "source": [
    "df = pd.read_csv('../input/bluebook-for-bulldozers/TrainAndValid.csv',low_memory=False,parse_dates=['saledate'])"
   ]
  },
  {
   "cell_type": "code",
   "execution_count": 5,
   "id": "de0590d7",
   "metadata": {
    "execution": {
     "iopub.execute_input": "2022-07-04T09:36:19.941215Z",
     "iopub.status.busy": "2022-07-04T09:36:19.940833Z",
     "iopub.status.idle": "2022-07-04T09:36:20.145185Z",
     "shell.execute_reply": "2022-07-04T09:36:20.144061Z"
    },
    "papermill": {
     "duration": 0.218269,
     "end_time": "2022-07-04T09:36:20.148025",
     "exception": false,
     "start_time": "2022-07-04T09:36:19.929756",
     "status": "completed"
    },
    "tags": []
   },
   "outputs": [
    {
     "data": {
      "text/html": [
       "<div>\n",
       "<style scoped>\n",
       "    .dataframe tbody tr th:only-of-type {\n",
       "        vertical-align: middle;\n",
       "    }\n",
       "\n",
       "    .dataframe tbody tr th {\n",
       "        vertical-align: top;\n",
       "    }\n",
       "\n",
       "    .dataframe thead th {\n",
       "        text-align: right;\n",
       "    }\n",
       "</style>\n",
       "<table border=\"1\" class=\"dataframe\">\n",
       "  <thead>\n",
       "    <tr style=\"text-align: right;\">\n",
       "      <th></th>\n",
       "      <th>SalesID</th>\n",
       "      <th>SalePrice</th>\n",
       "      <th>MachineID</th>\n",
       "      <th>ModelID</th>\n",
       "      <th>datasource</th>\n",
       "      <th>auctioneerID</th>\n",
       "      <th>YearMade</th>\n",
       "      <th>MachineHoursCurrentMeter</th>\n",
       "      <th>UsageBand</th>\n",
       "      <th>saledate</th>\n",
       "      <th>...</th>\n",
       "      <th>Undercarriage_Pad_Width</th>\n",
       "      <th>Stick_Length</th>\n",
       "      <th>Thumb</th>\n",
       "      <th>Pattern_Changer</th>\n",
       "      <th>Grouser_Type</th>\n",
       "      <th>Backhoe_Mounting</th>\n",
       "      <th>Blade_Type</th>\n",
       "      <th>Travel_Controls</th>\n",
       "      <th>Differential_Type</th>\n",
       "      <th>Steering_Controls</th>\n",
       "    </tr>\n",
       "  </thead>\n",
       "  <tbody>\n",
       "    <tr>\n",
       "      <th>412697</th>\n",
       "      <td>6333349</td>\n",
       "      <td>13000.0</td>\n",
       "      <td>1944743</td>\n",
       "      <td>21436</td>\n",
       "      <td>149</td>\n",
       "      <td>2.0</td>\n",
       "      <td>2006</td>\n",
       "      <td>NaN</td>\n",
       "      <td>NaN</td>\n",
       "      <td>2012-01-28</td>\n",
       "      <td>...</td>\n",
       "      <td>None or Unspecified</td>\n",
       "      <td>None or Unspecified</td>\n",
       "      <td>None or Unspecified</td>\n",
       "      <td>None or Unspecified</td>\n",
       "      <td>Double</td>\n",
       "      <td>NaN</td>\n",
       "      <td>NaN</td>\n",
       "      <td>NaN</td>\n",
       "      <td>NaN</td>\n",
       "      <td>NaN</td>\n",
       "    </tr>\n",
       "    <tr>\n",
       "      <th>412696</th>\n",
       "      <td>6333348</td>\n",
       "      <td>10000.0</td>\n",
       "      <td>1794518</td>\n",
       "      <td>21435</td>\n",
       "      <td>149</td>\n",
       "      <td>2.0</td>\n",
       "      <td>2006</td>\n",
       "      <td>NaN</td>\n",
       "      <td>NaN</td>\n",
       "      <td>2012-03-07</td>\n",
       "      <td>...</td>\n",
       "      <td>None or Unspecified</td>\n",
       "      <td>None or Unspecified</td>\n",
       "      <td>None or Unspecified</td>\n",
       "      <td>None or Unspecified</td>\n",
       "      <td>Double</td>\n",
       "      <td>NaN</td>\n",
       "      <td>NaN</td>\n",
       "      <td>NaN</td>\n",
       "      <td>NaN</td>\n",
       "      <td>NaN</td>\n",
       "    </tr>\n",
       "    <tr>\n",
       "      <th>412695</th>\n",
       "      <td>6333347</td>\n",
       "      <td>12500.0</td>\n",
       "      <td>1944213</td>\n",
       "      <td>21435</td>\n",
       "      <td>149</td>\n",
       "      <td>2.0</td>\n",
       "      <td>2005</td>\n",
       "      <td>NaN</td>\n",
       "      <td>NaN</td>\n",
       "      <td>2012-01-28</td>\n",
       "      <td>...</td>\n",
       "      <td>None or Unspecified</td>\n",
       "      <td>None or Unspecified</td>\n",
       "      <td>None or Unspecified</td>\n",
       "      <td>None or Unspecified</td>\n",
       "      <td>Double</td>\n",
       "      <td>NaN</td>\n",
       "      <td>NaN</td>\n",
       "      <td>NaN</td>\n",
       "      <td>NaN</td>\n",
       "      <td>NaN</td>\n",
       "    </tr>\n",
       "    <tr>\n",
       "      <th>412694</th>\n",
       "      <td>6333345</td>\n",
       "      <td>10500.0</td>\n",
       "      <td>1882122</td>\n",
       "      <td>21436</td>\n",
       "      <td>149</td>\n",
       "      <td>2.0</td>\n",
       "      <td>2005</td>\n",
       "      <td>NaN</td>\n",
       "      <td>NaN</td>\n",
       "      <td>2012-01-28</td>\n",
       "      <td>...</td>\n",
       "      <td>None or Unspecified</td>\n",
       "      <td>None or Unspecified</td>\n",
       "      <td>None or Unspecified</td>\n",
       "      <td>None or Unspecified</td>\n",
       "      <td>Double</td>\n",
       "      <td>NaN</td>\n",
       "      <td>NaN</td>\n",
       "      <td>NaN</td>\n",
       "      <td>NaN</td>\n",
       "      <td>NaN</td>\n",
       "    </tr>\n",
       "    <tr>\n",
       "      <th>412693</th>\n",
       "      <td>6333344</td>\n",
       "      <td>10000.0</td>\n",
       "      <td>1919201</td>\n",
       "      <td>21435</td>\n",
       "      <td>149</td>\n",
       "      <td>2.0</td>\n",
       "      <td>2005</td>\n",
       "      <td>NaN</td>\n",
       "      <td>NaN</td>\n",
       "      <td>2012-03-07</td>\n",
       "      <td>...</td>\n",
       "      <td>None or Unspecified</td>\n",
       "      <td>None or Unspecified</td>\n",
       "      <td>None or Unspecified</td>\n",
       "      <td>None or Unspecified</td>\n",
       "      <td>Double</td>\n",
       "      <td>NaN</td>\n",
       "      <td>NaN</td>\n",
       "      <td>NaN</td>\n",
       "      <td>NaN</td>\n",
       "      <td>NaN</td>\n",
       "    </tr>\n",
       "    <tr>\n",
       "      <th>...</th>\n",
       "      <td>...</td>\n",
       "      <td>...</td>\n",
       "      <td>...</td>\n",
       "      <td>...</td>\n",
       "      <td>...</td>\n",
       "      <td>...</td>\n",
       "      <td>...</td>\n",
       "      <td>...</td>\n",
       "      <td>...</td>\n",
       "      <td>...</td>\n",
       "      <td>...</td>\n",
       "      <td>...</td>\n",
       "      <td>...</td>\n",
       "      <td>...</td>\n",
       "      <td>...</td>\n",
       "      <td>...</td>\n",
       "      <td>...</td>\n",
       "      <td>...</td>\n",
       "      <td>...</td>\n",
       "      <td>...</td>\n",
       "      <td>...</td>\n",
       "    </tr>\n",
       "    <tr>\n",
       "      <th>4</th>\n",
       "      <td>1139253</td>\n",
       "      <td>11000.0</td>\n",
       "      <td>1057373</td>\n",
       "      <td>17311</td>\n",
       "      <td>121</td>\n",
       "      <td>3.0</td>\n",
       "      <td>2007</td>\n",
       "      <td>722.0</td>\n",
       "      <td>Medium</td>\n",
       "      <td>2009-07-23</td>\n",
       "      <td>...</td>\n",
       "      <td>NaN</td>\n",
       "      <td>NaN</td>\n",
       "      <td>NaN</td>\n",
       "      <td>NaN</td>\n",
       "      <td>NaN</td>\n",
       "      <td>NaN</td>\n",
       "      <td>NaN</td>\n",
       "      <td>NaN</td>\n",
       "      <td>NaN</td>\n",
       "      <td>NaN</td>\n",
       "    </tr>\n",
       "    <tr>\n",
       "      <th>3</th>\n",
       "      <td>1139251</td>\n",
       "      <td>38500.0</td>\n",
       "      <td>1026470</td>\n",
       "      <td>332</td>\n",
       "      <td>121</td>\n",
       "      <td>3.0</td>\n",
       "      <td>2001</td>\n",
       "      <td>3486.0</td>\n",
       "      <td>High</td>\n",
       "      <td>2011-05-19</td>\n",
       "      <td>...</td>\n",
       "      <td>NaN</td>\n",
       "      <td>NaN</td>\n",
       "      <td>NaN</td>\n",
       "      <td>NaN</td>\n",
       "      <td>NaN</td>\n",
       "      <td>NaN</td>\n",
       "      <td>NaN</td>\n",
       "      <td>NaN</td>\n",
       "      <td>NaN</td>\n",
       "      <td>NaN</td>\n",
       "    </tr>\n",
       "    <tr>\n",
       "      <th>2</th>\n",
       "      <td>1139249</td>\n",
       "      <td>10000.0</td>\n",
       "      <td>434808</td>\n",
       "      <td>7009</td>\n",
       "      <td>121</td>\n",
       "      <td>3.0</td>\n",
       "      <td>2001</td>\n",
       "      <td>2838.0</td>\n",
       "      <td>High</td>\n",
       "      <td>2004-02-26</td>\n",
       "      <td>...</td>\n",
       "      <td>NaN</td>\n",
       "      <td>NaN</td>\n",
       "      <td>NaN</td>\n",
       "      <td>NaN</td>\n",
       "      <td>NaN</td>\n",
       "      <td>NaN</td>\n",
       "      <td>NaN</td>\n",
       "      <td>NaN</td>\n",
       "      <td>NaN</td>\n",
       "      <td>NaN</td>\n",
       "    </tr>\n",
       "    <tr>\n",
       "      <th>1</th>\n",
       "      <td>1139248</td>\n",
       "      <td>57000.0</td>\n",
       "      <td>117657</td>\n",
       "      <td>77</td>\n",
       "      <td>121</td>\n",
       "      <td>3.0</td>\n",
       "      <td>1996</td>\n",
       "      <td>4640.0</td>\n",
       "      <td>Low</td>\n",
       "      <td>2004-03-26</td>\n",
       "      <td>...</td>\n",
       "      <td>NaN</td>\n",
       "      <td>NaN</td>\n",
       "      <td>NaN</td>\n",
       "      <td>NaN</td>\n",
       "      <td>NaN</td>\n",
       "      <td>NaN</td>\n",
       "      <td>NaN</td>\n",
       "      <td>NaN</td>\n",
       "      <td>Standard</td>\n",
       "      <td>Conventional</td>\n",
       "    </tr>\n",
       "    <tr>\n",
       "      <th>0</th>\n",
       "      <td>1139246</td>\n",
       "      <td>66000.0</td>\n",
       "      <td>999089</td>\n",
       "      <td>3157</td>\n",
       "      <td>121</td>\n",
       "      <td>3.0</td>\n",
       "      <td>2004</td>\n",
       "      <td>68.0</td>\n",
       "      <td>Low</td>\n",
       "      <td>2006-11-16</td>\n",
       "      <td>...</td>\n",
       "      <td>NaN</td>\n",
       "      <td>NaN</td>\n",
       "      <td>NaN</td>\n",
       "      <td>NaN</td>\n",
       "      <td>NaN</td>\n",
       "      <td>NaN</td>\n",
       "      <td>NaN</td>\n",
       "      <td>NaN</td>\n",
       "      <td>Standard</td>\n",
       "      <td>Conventional</td>\n",
       "    </tr>\n",
       "  </tbody>\n",
       "</table>\n",
       "<p>412698 rows × 53 columns</p>\n",
       "</div>"
      ],
      "text/plain": [
       "        SalesID  SalePrice  MachineID  ModelID  datasource  auctioneerID  \\\n",
       "412697  6333349    13000.0    1944743    21436         149           2.0   \n",
       "412696  6333348    10000.0    1794518    21435         149           2.0   \n",
       "412695  6333347    12500.0    1944213    21435         149           2.0   \n",
       "412694  6333345    10500.0    1882122    21436         149           2.0   \n",
       "412693  6333344    10000.0    1919201    21435         149           2.0   \n",
       "...         ...        ...        ...      ...         ...           ...   \n",
       "4       1139253    11000.0    1057373    17311         121           3.0   \n",
       "3       1139251    38500.0    1026470      332         121           3.0   \n",
       "2       1139249    10000.0     434808     7009         121           3.0   \n",
       "1       1139248    57000.0     117657       77         121           3.0   \n",
       "0       1139246    66000.0     999089     3157         121           3.0   \n",
       "\n",
       "        YearMade  MachineHoursCurrentMeter UsageBand   saledate  ...  \\\n",
       "412697      2006                       NaN       NaN 2012-01-28  ...   \n",
       "412696      2006                       NaN       NaN 2012-03-07  ...   \n",
       "412695      2005                       NaN       NaN 2012-01-28  ...   \n",
       "412694      2005                       NaN       NaN 2012-01-28  ...   \n",
       "412693      2005                       NaN       NaN 2012-03-07  ...   \n",
       "...          ...                       ...       ...        ...  ...   \n",
       "4           2007                     722.0    Medium 2009-07-23  ...   \n",
       "3           2001                    3486.0      High 2011-05-19  ...   \n",
       "2           2001                    2838.0      High 2004-02-26  ...   \n",
       "1           1996                    4640.0       Low 2004-03-26  ...   \n",
       "0           2004                      68.0       Low 2006-11-16  ...   \n",
       "\n",
       "       Undercarriage_Pad_Width         Stick_Length                Thumb  \\\n",
       "412697     None or Unspecified  None or Unspecified  None or Unspecified   \n",
       "412696     None or Unspecified  None or Unspecified  None or Unspecified   \n",
       "412695     None or Unspecified  None or Unspecified  None or Unspecified   \n",
       "412694     None or Unspecified  None or Unspecified  None or Unspecified   \n",
       "412693     None or Unspecified  None or Unspecified  None or Unspecified   \n",
       "...                        ...                  ...                  ...   \n",
       "4                          NaN                  NaN                  NaN   \n",
       "3                          NaN                  NaN                  NaN   \n",
       "2                          NaN                  NaN                  NaN   \n",
       "1                          NaN                  NaN                  NaN   \n",
       "0                          NaN                  NaN                  NaN   \n",
       "\n",
       "            Pattern_Changer Grouser_Type Backhoe_Mounting Blade_Type  \\\n",
       "412697  None or Unspecified       Double              NaN        NaN   \n",
       "412696  None or Unspecified       Double              NaN        NaN   \n",
       "412695  None or Unspecified       Double              NaN        NaN   \n",
       "412694  None or Unspecified       Double              NaN        NaN   \n",
       "412693  None or Unspecified       Double              NaN        NaN   \n",
       "...                     ...          ...              ...        ...   \n",
       "4                       NaN          NaN              NaN        NaN   \n",
       "3                       NaN          NaN              NaN        NaN   \n",
       "2                       NaN          NaN              NaN        NaN   \n",
       "1                       NaN          NaN              NaN        NaN   \n",
       "0                       NaN          NaN              NaN        NaN   \n",
       "\n",
       "       Travel_Controls Differential_Type Steering_Controls  \n",
       "412697             NaN               NaN               NaN  \n",
       "412696             NaN               NaN               NaN  \n",
       "412695             NaN               NaN               NaN  \n",
       "412694             NaN               NaN               NaN  \n",
       "412693             NaN               NaN               NaN  \n",
       "...                ...               ...               ...  \n",
       "4                  NaN               NaN               NaN  \n",
       "3                  NaN               NaN               NaN  \n",
       "2                  NaN               NaN               NaN  \n",
       "1                  NaN          Standard      Conventional  \n",
       "0                  NaN          Standard      Conventional  \n",
       "\n",
       "[412698 rows x 53 columns]"
      ]
     },
     "execution_count": 5,
     "metadata": {},
     "output_type": "execute_result"
    }
   ],
   "source": [
    "df.loc[::-1]"
   ]
  },
  {
   "cell_type": "code",
   "execution_count": 6,
   "id": "80bed7da",
   "metadata": {
    "execution": {
     "iopub.execute_input": "2022-07-04T09:36:20.170516Z",
     "iopub.status.busy": "2022-07-04T09:36:20.169418Z",
     "iopub.status.idle": "2022-07-04T09:36:20.356025Z",
     "shell.execute_reply": "2022-07-04T09:36:20.355200Z"
    },
    "papermill": {
     "duration": 0.200284,
     "end_time": "2022-07-04T09:36:20.358324",
     "exception": false,
     "start_time": "2022-07-04T09:36:20.158040",
     "status": "completed"
    },
    "tags": []
   },
   "outputs": [
    {
     "data": {
      "text/html": [
       "<div>\n",
       "<style scoped>\n",
       "    .dataframe tbody tr th:only-of-type {\n",
       "        vertical-align: middle;\n",
       "    }\n",
       "\n",
       "    .dataframe tbody tr th {\n",
       "        vertical-align: top;\n",
       "    }\n",
       "\n",
       "    .dataframe thead th {\n",
       "        text-align: right;\n",
       "    }\n",
       "</style>\n",
       "<table border=\"1\" class=\"dataframe\">\n",
       "  <thead>\n",
       "    <tr style=\"text-align: right;\">\n",
       "      <th></th>\n",
       "      <th>SalesID</th>\n",
       "      <th>SalePrice</th>\n",
       "      <th>MachineID</th>\n",
       "      <th>ModelID</th>\n",
       "      <th>datasource</th>\n",
       "      <th>auctioneerID</th>\n",
       "      <th>YearMade</th>\n",
       "      <th>MachineHoursCurrentMeter</th>\n",
       "      <th>UsageBand</th>\n",
       "      <th>saledate</th>\n",
       "      <th>...</th>\n",
       "      <th>Undercarriage_Pad_Width</th>\n",
       "      <th>Stick_Length</th>\n",
       "      <th>Thumb</th>\n",
       "      <th>Pattern_Changer</th>\n",
       "      <th>Grouser_Type</th>\n",
       "      <th>Backhoe_Mounting</th>\n",
       "      <th>Blade_Type</th>\n",
       "      <th>Travel_Controls</th>\n",
       "      <th>Differential_Type</th>\n",
       "      <th>Steering_Controls</th>\n",
       "    </tr>\n",
       "  </thead>\n",
       "  <tbody>\n",
       "    <tr>\n",
       "      <th>0</th>\n",
       "      <td>1139246</td>\n",
       "      <td>66000.0</td>\n",
       "      <td>999089</td>\n",
       "      <td>3157</td>\n",
       "      <td>121</td>\n",
       "      <td>3.0</td>\n",
       "      <td>2004</td>\n",
       "      <td>68.0</td>\n",
       "      <td>Low</td>\n",
       "      <td>2006-11-16</td>\n",
       "      <td>...</td>\n",
       "      <td>NaN</td>\n",
       "      <td>NaN</td>\n",
       "      <td>NaN</td>\n",
       "      <td>NaN</td>\n",
       "      <td>NaN</td>\n",
       "      <td>NaN</td>\n",
       "      <td>NaN</td>\n",
       "      <td>NaN</td>\n",
       "      <td>Standard</td>\n",
       "      <td>Conventional</td>\n",
       "    </tr>\n",
       "    <tr>\n",
       "      <th>1</th>\n",
       "      <td>1139248</td>\n",
       "      <td>57000.0</td>\n",
       "      <td>117657</td>\n",
       "      <td>77</td>\n",
       "      <td>121</td>\n",
       "      <td>3.0</td>\n",
       "      <td>1996</td>\n",
       "      <td>4640.0</td>\n",
       "      <td>Low</td>\n",
       "      <td>2004-03-26</td>\n",
       "      <td>...</td>\n",
       "      <td>NaN</td>\n",
       "      <td>NaN</td>\n",
       "      <td>NaN</td>\n",
       "      <td>NaN</td>\n",
       "      <td>NaN</td>\n",
       "      <td>NaN</td>\n",
       "      <td>NaN</td>\n",
       "      <td>NaN</td>\n",
       "      <td>Standard</td>\n",
       "      <td>Conventional</td>\n",
       "    </tr>\n",
       "    <tr>\n",
       "      <th>2</th>\n",
       "      <td>1139249</td>\n",
       "      <td>10000.0</td>\n",
       "      <td>434808</td>\n",
       "      <td>7009</td>\n",
       "      <td>121</td>\n",
       "      <td>3.0</td>\n",
       "      <td>2001</td>\n",
       "      <td>2838.0</td>\n",
       "      <td>High</td>\n",
       "      <td>2004-02-26</td>\n",
       "      <td>...</td>\n",
       "      <td>NaN</td>\n",
       "      <td>NaN</td>\n",
       "      <td>NaN</td>\n",
       "      <td>NaN</td>\n",
       "      <td>NaN</td>\n",
       "      <td>NaN</td>\n",
       "      <td>NaN</td>\n",
       "      <td>NaN</td>\n",
       "      <td>NaN</td>\n",
       "      <td>NaN</td>\n",
       "    </tr>\n",
       "    <tr>\n",
       "      <th>3</th>\n",
       "      <td>1139251</td>\n",
       "      <td>38500.0</td>\n",
       "      <td>1026470</td>\n",
       "      <td>332</td>\n",
       "      <td>121</td>\n",
       "      <td>3.0</td>\n",
       "      <td>2001</td>\n",
       "      <td>3486.0</td>\n",
       "      <td>High</td>\n",
       "      <td>2011-05-19</td>\n",
       "      <td>...</td>\n",
       "      <td>NaN</td>\n",
       "      <td>NaN</td>\n",
       "      <td>NaN</td>\n",
       "      <td>NaN</td>\n",
       "      <td>NaN</td>\n",
       "      <td>NaN</td>\n",
       "      <td>NaN</td>\n",
       "      <td>NaN</td>\n",
       "      <td>NaN</td>\n",
       "      <td>NaN</td>\n",
       "    </tr>\n",
       "    <tr>\n",
       "      <th>4</th>\n",
       "      <td>1139253</td>\n",
       "      <td>11000.0</td>\n",
       "      <td>1057373</td>\n",
       "      <td>17311</td>\n",
       "      <td>121</td>\n",
       "      <td>3.0</td>\n",
       "      <td>2007</td>\n",
       "      <td>722.0</td>\n",
       "      <td>Medium</td>\n",
       "      <td>2009-07-23</td>\n",
       "      <td>...</td>\n",
       "      <td>NaN</td>\n",
       "      <td>NaN</td>\n",
       "      <td>NaN</td>\n",
       "      <td>NaN</td>\n",
       "      <td>NaN</td>\n",
       "      <td>NaN</td>\n",
       "      <td>NaN</td>\n",
       "      <td>NaN</td>\n",
       "      <td>NaN</td>\n",
       "      <td>NaN</td>\n",
       "    </tr>\n",
       "    <tr>\n",
       "      <th>...</th>\n",
       "      <td>...</td>\n",
       "      <td>...</td>\n",
       "      <td>...</td>\n",
       "      <td>...</td>\n",
       "      <td>...</td>\n",
       "      <td>...</td>\n",
       "      <td>...</td>\n",
       "      <td>...</td>\n",
       "      <td>...</td>\n",
       "      <td>...</td>\n",
       "      <td>...</td>\n",
       "      <td>...</td>\n",
       "      <td>...</td>\n",
       "      <td>...</td>\n",
       "      <td>...</td>\n",
       "      <td>...</td>\n",
       "      <td>...</td>\n",
       "      <td>...</td>\n",
       "      <td>...</td>\n",
       "      <td>...</td>\n",
       "      <td>...</td>\n",
       "    </tr>\n",
       "    <tr>\n",
       "      <th>412693</th>\n",
       "      <td>6333344</td>\n",
       "      <td>10000.0</td>\n",
       "      <td>1919201</td>\n",
       "      <td>21435</td>\n",
       "      <td>149</td>\n",
       "      <td>2.0</td>\n",
       "      <td>2005</td>\n",
       "      <td>NaN</td>\n",
       "      <td>NaN</td>\n",
       "      <td>2012-03-07</td>\n",
       "      <td>...</td>\n",
       "      <td>None or Unspecified</td>\n",
       "      <td>None or Unspecified</td>\n",
       "      <td>None or Unspecified</td>\n",
       "      <td>None or Unspecified</td>\n",
       "      <td>Double</td>\n",
       "      <td>NaN</td>\n",
       "      <td>NaN</td>\n",
       "      <td>NaN</td>\n",
       "      <td>NaN</td>\n",
       "      <td>NaN</td>\n",
       "    </tr>\n",
       "    <tr>\n",
       "      <th>412694</th>\n",
       "      <td>6333345</td>\n",
       "      <td>10500.0</td>\n",
       "      <td>1882122</td>\n",
       "      <td>21436</td>\n",
       "      <td>149</td>\n",
       "      <td>2.0</td>\n",
       "      <td>2005</td>\n",
       "      <td>NaN</td>\n",
       "      <td>NaN</td>\n",
       "      <td>2012-01-28</td>\n",
       "      <td>...</td>\n",
       "      <td>None or Unspecified</td>\n",
       "      <td>None or Unspecified</td>\n",
       "      <td>None or Unspecified</td>\n",
       "      <td>None or Unspecified</td>\n",
       "      <td>Double</td>\n",
       "      <td>NaN</td>\n",
       "      <td>NaN</td>\n",
       "      <td>NaN</td>\n",
       "      <td>NaN</td>\n",
       "      <td>NaN</td>\n",
       "    </tr>\n",
       "    <tr>\n",
       "      <th>412695</th>\n",
       "      <td>6333347</td>\n",
       "      <td>12500.0</td>\n",
       "      <td>1944213</td>\n",
       "      <td>21435</td>\n",
       "      <td>149</td>\n",
       "      <td>2.0</td>\n",
       "      <td>2005</td>\n",
       "      <td>NaN</td>\n",
       "      <td>NaN</td>\n",
       "      <td>2012-01-28</td>\n",
       "      <td>...</td>\n",
       "      <td>None or Unspecified</td>\n",
       "      <td>None or Unspecified</td>\n",
       "      <td>None or Unspecified</td>\n",
       "      <td>None or Unspecified</td>\n",
       "      <td>Double</td>\n",
       "      <td>NaN</td>\n",
       "      <td>NaN</td>\n",
       "      <td>NaN</td>\n",
       "      <td>NaN</td>\n",
       "      <td>NaN</td>\n",
       "    </tr>\n",
       "    <tr>\n",
       "      <th>412696</th>\n",
       "      <td>6333348</td>\n",
       "      <td>10000.0</td>\n",
       "      <td>1794518</td>\n",
       "      <td>21435</td>\n",
       "      <td>149</td>\n",
       "      <td>2.0</td>\n",
       "      <td>2006</td>\n",
       "      <td>NaN</td>\n",
       "      <td>NaN</td>\n",
       "      <td>2012-03-07</td>\n",
       "      <td>...</td>\n",
       "      <td>None or Unspecified</td>\n",
       "      <td>None or Unspecified</td>\n",
       "      <td>None or Unspecified</td>\n",
       "      <td>None or Unspecified</td>\n",
       "      <td>Double</td>\n",
       "      <td>NaN</td>\n",
       "      <td>NaN</td>\n",
       "      <td>NaN</td>\n",
       "      <td>NaN</td>\n",
       "      <td>NaN</td>\n",
       "    </tr>\n",
       "    <tr>\n",
       "      <th>412697</th>\n",
       "      <td>6333349</td>\n",
       "      <td>13000.0</td>\n",
       "      <td>1944743</td>\n",
       "      <td>21436</td>\n",
       "      <td>149</td>\n",
       "      <td>2.0</td>\n",
       "      <td>2006</td>\n",
       "      <td>NaN</td>\n",
       "      <td>NaN</td>\n",
       "      <td>2012-01-28</td>\n",
       "      <td>...</td>\n",
       "      <td>None or Unspecified</td>\n",
       "      <td>None or Unspecified</td>\n",
       "      <td>None or Unspecified</td>\n",
       "      <td>None or Unspecified</td>\n",
       "      <td>Double</td>\n",
       "      <td>NaN</td>\n",
       "      <td>NaN</td>\n",
       "      <td>NaN</td>\n",
       "      <td>NaN</td>\n",
       "      <td>NaN</td>\n",
       "    </tr>\n",
       "  </tbody>\n",
       "</table>\n",
       "<p>412698 rows × 53 columns</p>\n",
       "</div>"
      ],
      "text/plain": [
       "        SalesID  SalePrice  MachineID  ModelID  datasource  auctioneerID  \\\n",
       "0       1139246    66000.0     999089     3157         121           3.0   \n",
       "1       1139248    57000.0     117657       77         121           3.0   \n",
       "2       1139249    10000.0     434808     7009         121           3.0   \n",
       "3       1139251    38500.0    1026470      332         121           3.0   \n",
       "4       1139253    11000.0    1057373    17311         121           3.0   \n",
       "...         ...        ...        ...      ...         ...           ...   \n",
       "412693  6333344    10000.0    1919201    21435         149           2.0   \n",
       "412694  6333345    10500.0    1882122    21436         149           2.0   \n",
       "412695  6333347    12500.0    1944213    21435         149           2.0   \n",
       "412696  6333348    10000.0    1794518    21435         149           2.0   \n",
       "412697  6333349    13000.0    1944743    21436         149           2.0   \n",
       "\n",
       "        YearMade  MachineHoursCurrentMeter UsageBand   saledate  ...  \\\n",
       "0           2004                      68.0       Low 2006-11-16  ...   \n",
       "1           1996                    4640.0       Low 2004-03-26  ...   \n",
       "2           2001                    2838.0      High 2004-02-26  ...   \n",
       "3           2001                    3486.0      High 2011-05-19  ...   \n",
       "4           2007                     722.0    Medium 2009-07-23  ...   \n",
       "...          ...                       ...       ...        ...  ...   \n",
       "412693      2005                       NaN       NaN 2012-03-07  ...   \n",
       "412694      2005                       NaN       NaN 2012-01-28  ...   \n",
       "412695      2005                       NaN       NaN 2012-01-28  ...   \n",
       "412696      2006                       NaN       NaN 2012-03-07  ...   \n",
       "412697      2006                       NaN       NaN 2012-01-28  ...   \n",
       "\n",
       "       Undercarriage_Pad_Width         Stick_Length                Thumb  \\\n",
       "0                          NaN                  NaN                  NaN   \n",
       "1                          NaN                  NaN                  NaN   \n",
       "2                          NaN                  NaN                  NaN   \n",
       "3                          NaN                  NaN                  NaN   \n",
       "4                          NaN                  NaN                  NaN   \n",
       "...                        ...                  ...                  ...   \n",
       "412693     None or Unspecified  None or Unspecified  None or Unspecified   \n",
       "412694     None or Unspecified  None or Unspecified  None or Unspecified   \n",
       "412695     None or Unspecified  None or Unspecified  None or Unspecified   \n",
       "412696     None or Unspecified  None or Unspecified  None or Unspecified   \n",
       "412697     None or Unspecified  None or Unspecified  None or Unspecified   \n",
       "\n",
       "            Pattern_Changer Grouser_Type Backhoe_Mounting Blade_Type  \\\n",
       "0                       NaN          NaN              NaN        NaN   \n",
       "1                       NaN          NaN              NaN        NaN   \n",
       "2                       NaN          NaN              NaN        NaN   \n",
       "3                       NaN          NaN              NaN        NaN   \n",
       "4                       NaN          NaN              NaN        NaN   \n",
       "...                     ...          ...              ...        ...   \n",
       "412693  None or Unspecified       Double              NaN        NaN   \n",
       "412694  None or Unspecified       Double              NaN        NaN   \n",
       "412695  None or Unspecified       Double              NaN        NaN   \n",
       "412696  None or Unspecified       Double              NaN        NaN   \n",
       "412697  None or Unspecified       Double              NaN        NaN   \n",
       "\n",
       "       Travel_Controls Differential_Type Steering_Controls  \n",
       "0                  NaN          Standard      Conventional  \n",
       "1                  NaN          Standard      Conventional  \n",
       "2                  NaN               NaN               NaN  \n",
       "3                  NaN               NaN               NaN  \n",
       "4                  NaN               NaN               NaN  \n",
       "...                ...               ...               ...  \n",
       "412693             NaN               NaN               NaN  \n",
       "412694             NaN               NaN               NaN  \n",
       "412695             NaN               NaN               NaN  \n",
       "412696             NaN               NaN               NaN  \n",
       "412697             NaN               NaN               NaN  \n",
       "\n",
       "[412698 rows x 53 columns]"
      ]
     },
     "execution_count": 6,
     "metadata": {},
     "output_type": "execute_result"
    }
   ],
   "source": [
    "df"
   ]
  },
  {
   "cell_type": "code",
   "execution_count": 7,
   "id": "c8684c71",
   "metadata": {
    "execution": {
     "iopub.execute_input": "2022-07-04T09:36:20.381542Z",
     "iopub.status.busy": "2022-07-04T09:36:20.380852Z",
     "iopub.status.idle": "2022-07-04T09:36:20.686047Z",
     "shell.execute_reply": "2022-07-04T09:36:20.684781Z"
    },
    "papermill": {
     "duration": 0.319821,
     "end_time": "2022-07-04T09:36:20.688694",
     "exception": false,
     "start_time": "2022-07-04T09:36:20.368873",
     "status": "completed"
    },
    "tags": []
   },
   "outputs": [],
   "source": [
    "df['UsageBand'] = pd.Categorical(df['UsageBand'],categories=[\"Low\",\"Medium\",\"High\"],ordered=True)"
   ]
  },
  {
   "cell_type": "code",
   "execution_count": 8,
   "id": "71831c62",
   "metadata": {
    "execution": {
     "iopub.execute_input": "2022-07-04T09:36:20.711434Z",
     "iopub.status.busy": "2022-07-04T09:36:20.710364Z",
     "iopub.status.idle": "2022-07-04T09:36:20.716717Z",
     "shell.execute_reply": "2022-07-04T09:36:20.715823Z"
    },
    "papermill": {
     "duration": 0.020236,
     "end_time": "2022-07-04T09:36:20.719037",
     "exception": false,
     "start_time": "2022-07-04T09:36:20.698801",
     "status": "completed"
    },
    "tags": []
   },
   "outputs": [],
   "source": [
    "df['UsageBand'] =df['UsageBand'].astype('category').cat.codes"
   ]
  },
  {
   "cell_type": "code",
   "execution_count": 9,
   "id": "8493e3f4",
   "metadata": {
    "execution": {
     "iopub.execute_input": "2022-07-04T09:36:20.741548Z",
     "iopub.status.busy": "2022-07-04T09:36:20.740826Z",
     "iopub.status.idle": "2022-07-04T09:36:20.745264Z",
     "shell.execute_reply": "2022-07-04T09:36:20.744449Z"
    },
    "papermill": {
     "duration": 0.018255,
     "end_time": "2022-07-04T09:36:20.747369",
     "exception": false,
     "start_time": "2022-07-04T09:36:20.729114",
     "status": "completed"
    },
    "tags": []
   },
   "outputs": [],
   "source": [
    "pd.set_option('max_columns',None)"
   ]
  },
  {
   "cell_type": "code",
   "execution_count": 10,
   "id": "ffef18ea",
   "metadata": {
    "execution": {
     "iopub.execute_input": "2022-07-04T09:36:20.769493Z",
     "iopub.status.busy": "2022-07-04T09:36:20.768801Z",
     "iopub.status.idle": "2022-07-04T09:36:21.161806Z",
     "shell.execute_reply": "2022-07-04T09:36:21.160653Z"
    },
    "papermill": {
     "duration": 0.407317,
     "end_time": "2022-07-04T09:36:21.164793",
     "exception": false,
     "start_time": "2022-07-04T09:36:20.757476",
     "status": "completed"
    },
    "tags": []
   },
   "outputs": [],
   "source": [
    "df = df.sort_values('saledate')"
   ]
  },
  {
   "cell_type": "code",
   "execution_count": 11,
   "id": "72250ba2",
   "metadata": {
    "execution": {
     "iopub.execute_input": "2022-07-04T09:36:21.189802Z",
     "iopub.status.busy": "2022-07-04T09:36:21.189379Z",
     "iopub.status.idle": "2022-07-04T09:36:22.391223Z",
     "shell.execute_reply": "2022-07-04T09:36:22.390072Z"
    },
    "papermill": {
     "duration": 1.215852,
     "end_time": "2022-07-04T09:36:22.393630",
     "exception": false,
     "start_time": "2022-07-04T09:36:21.177778",
     "status": "completed"
    },
    "tags": []
   },
   "outputs": [
    {
     "data": {
      "text/plain": [
       "Enclosure_Type              0.937041\n",
       "Engine_Horsepower           0.937041\n",
       "Blade_Width                 0.937041\n",
       "Blade_Extension             0.937041\n",
       "Pushblock                   0.937041\n",
       "Tip_Control                 0.937041\n",
       "Scarifier                   0.937014\n",
       "Grouser_Tracks              0.891264\n",
       "Hydraulics_Flow             0.891264\n",
       "Coupler_System              0.891024\n",
       "fiModelSeries               0.857845\n",
       "Steering_Controls           0.826697\n",
       "Differential_Type           0.826595\n",
       "fiModelDescriptor           0.818715\n",
       "Backhoe_Mounting            0.804428\n",
       "Stick                       0.803498\n",
       "Turbocharged                0.803498\n",
       "Pad_Type                    0.803498\n",
       "Blade_Type                  0.801610\n",
       "Travel_Controls             0.801606\n",
       "Tire_Size                   0.763415\n",
       "Track_Type                  0.752378\n",
       "Grouser_Type                0.752378\n",
       "Pattern_Changer             0.752213\n",
       "Stick_Length                0.752213\n",
       "Thumb                       0.752041\n",
       "Undercarriage_Pad_Width     0.750626\n",
       "Ripper                      0.740864\n",
       "Drive_System                0.740520\n",
       "MachineHoursCurrentMeter    0.642586\n",
       "Ride_Control                0.629928\n",
       "Transmission                0.544444\n",
       "ProductSize                 0.524851\n",
       "Forks                       0.520921\n",
       "Coupler                     0.465277\n",
       "fiSecondaryDesc             0.340993\n",
       "Hydraulics                  0.200062\n",
       "auctioneerID                0.048791\n",
       "Enclosure                   0.000809\n",
       "ProductGroup                0.000000\n",
       "ProductGroupDesc            0.000000\n",
       "state                       0.000000\n",
       "fiProductClassDesc          0.000000\n",
       "SalePrice                   0.000000\n",
       "fiBaseModel                 0.000000\n",
       "fiModelDesc                 0.000000\n",
       "saledate                    0.000000\n",
       "UsageBand                   0.000000\n",
       "YearMade                    0.000000\n",
       "datasource                  0.000000\n",
       "ModelID                     0.000000\n",
       "MachineID                   0.000000\n",
       "SalesID                     0.000000\n",
       "dtype: float64"
      ]
     },
     "execution_count": 11,
     "metadata": {},
     "output_type": "execute_result"
    }
   ],
   "source": [
    "df.isna().sum().sort_values(ascending=False)/len(df)"
   ]
  },
  {
   "cell_type": "code",
   "execution_count": 12,
   "id": "f89ea979",
   "metadata": {
    "execution": {
     "iopub.execute_input": "2022-07-04T09:36:22.416827Z",
     "iopub.status.busy": "2022-07-04T09:36:22.416189Z",
     "iopub.status.idle": "2022-07-04T09:36:22.450677Z",
     "shell.execute_reply": "2022-07-04T09:36:22.449369Z"
    },
    "papermill": {
     "duration": 0.050487,
     "end_time": "2022-07-04T09:36:22.454417",
     "exception": false,
     "start_time": "2022-07-04T09:36:22.403930",
     "status": "completed"
    },
    "tags": []
   },
   "outputs": [
    {
     "data": {
      "text/html": [
       "<div>\n",
       "<style scoped>\n",
       "    .dataframe tbody tr th:only-of-type {\n",
       "        vertical-align: middle;\n",
       "    }\n",
       "\n",
       "    .dataframe tbody tr th {\n",
       "        vertical-align: top;\n",
       "    }\n",
       "\n",
       "    .dataframe thead th {\n",
       "        text-align: right;\n",
       "    }\n",
       "</style>\n",
       "<table border=\"1\" class=\"dataframe\">\n",
       "  <thead>\n",
       "    <tr style=\"text-align: right;\">\n",
       "      <th></th>\n",
       "      <th>SalesID</th>\n",
       "      <th>SalePrice</th>\n",
       "      <th>MachineID</th>\n",
       "      <th>ModelID</th>\n",
       "      <th>datasource</th>\n",
       "      <th>auctioneerID</th>\n",
       "      <th>YearMade</th>\n",
       "      <th>MachineHoursCurrentMeter</th>\n",
       "      <th>UsageBand</th>\n",
       "    </tr>\n",
       "  </thead>\n",
       "  <tbody>\n",
       "    <tr>\n",
       "      <th>205615</th>\n",
       "      <td>False</td>\n",
       "      <td>False</td>\n",
       "      <td>False</td>\n",
       "      <td>False</td>\n",
       "      <td>False</td>\n",
       "      <td>False</td>\n",
       "      <td>False</td>\n",
       "      <td>True</td>\n",
       "      <td>False</td>\n",
       "    </tr>\n",
       "    <tr>\n",
       "      <th>274835</th>\n",
       "      <td>False</td>\n",
       "      <td>False</td>\n",
       "      <td>False</td>\n",
       "      <td>False</td>\n",
       "      <td>False</td>\n",
       "      <td>False</td>\n",
       "      <td>False</td>\n",
       "      <td>True</td>\n",
       "      <td>False</td>\n",
       "    </tr>\n",
       "    <tr>\n",
       "      <th>141296</th>\n",
       "      <td>False</td>\n",
       "      <td>False</td>\n",
       "      <td>False</td>\n",
       "      <td>False</td>\n",
       "      <td>False</td>\n",
       "      <td>False</td>\n",
       "      <td>False</td>\n",
       "      <td>True</td>\n",
       "      <td>False</td>\n",
       "    </tr>\n",
       "    <tr>\n",
       "      <th>212552</th>\n",
       "      <td>False</td>\n",
       "      <td>False</td>\n",
       "      <td>False</td>\n",
       "      <td>False</td>\n",
       "      <td>False</td>\n",
       "      <td>False</td>\n",
       "      <td>False</td>\n",
       "      <td>True</td>\n",
       "      <td>False</td>\n",
       "    </tr>\n",
       "    <tr>\n",
       "      <th>62755</th>\n",
       "      <td>False</td>\n",
       "      <td>False</td>\n",
       "      <td>False</td>\n",
       "      <td>False</td>\n",
       "      <td>False</td>\n",
       "      <td>False</td>\n",
       "      <td>False</td>\n",
       "      <td>True</td>\n",
       "      <td>False</td>\n",
       "    </tr>\n",
       "    <tr>\n",
       "      <th>...</th>\n",
       "      <td>...</td>\n",
       "      <td>...</td>\n",
       "      <td>...</td>\n",
       "      <td>...</td>\n",
       "      <td>...</td>\n",
       "      <td>...</td>\n",
       "      <td>...</td>\n",
       "      <td>...</td>\n",
       "      <td>...</td>\n",
       "    </tr>\n",
       "    <tr>\n",
       "      <th>410879</th>\n",
       "      <td>False</td>\n",
       "      <td>False</td>\n",
       "      <td>False</td>\n",
       "      <td>False</td>\n",
       "      <td>False</td>\n",
       "      <td>False</td>\n",
       "      <td>False</td>\n",
       "      <td>True</td>\n",
       "      <td>False</td>\n",
       "    </tr>\n",
       "    <tr>\n",
       "      <th>412476</th>\n",
       "      <td>False</td>\n",
       "      <td>False</td>\n",
       "      <td>False</td>\n",
       "      <td>False</td>\n",
       "      <td>False</td>\n",
       "      <td>False</td>\n",
       "      <td>False</td>\n",
       "      <td>True</td>\n",
       "      <td>False</td>\n",
       "    </tr>\n",
       "    <tr>\n",
       "      <th>411927</th>\n",
       "      <td>False</td>\n",
       "      <td>False</td>\n",
       "      <td>False</td>\n",
       "      <td>False</td>\n",
       "      <td>False</td>\n",
       "      <td>False</td>\n",
       "      <td>False</td>\n",
       "      <td>True</td>\n",
       "      <td>False</td>\n",
       "    </tr>\n",
       "    <tr>\n",
       "      <th>407124</th>\n",
       "      <td>False</td>\n",
       "      <td>False</td>\n",
       "      <td>False</td>\n",
       "      <td>False</td>\n",
       "      <td>False</td>\n",
       "      <td>False</td>\n",
       "      <td>False</td>\n",
       "      <td>True</td>\n",
       "      <td>False</td>\n",
       "    </tr>\n",
       "    <tr>\n",
       "      <th>409203</th>\n",
       "      <td>False</td>\n",
       "      <td>False</td>\n",
       "      <td>False</td>\n",
       "      <td>False</td>\n",
       "      <td>False</td>\n",
       "      <td>False</td>\n",
       "      <td>False</td>\n",
       "      <td>True</td>\n",
       "      <td>False</td>\n",
       "    </tr>\n",
       "  </tbody>\n",
       "</table>\n",
       "<p>412698 rows × 9 columns</p>\n",
       "</div>"
      ],
      "text/plain": [
       "        SalesID  SalePrice  MachineID  ModelID  datasource  auctioneerID  \\\n",
       "205615    False      False      False    False       False         False   \n",
       "274835    False      False      False    False       False         False   \n",
       "141296    False      False      False    False       False         False   \n",
       "212552    False      False      False    False       False         False   \n",
       "62755     False      False      False    False       False         False   \n",
       "...         ...        ...        ...      ...         ...           ...   \n",
       "410879    False      False      False    False       False         False   \n",
       "412476    False      False      False    False       False         False   \n",
       "411927    False      False      False    False       False         False   \n",
       "407124    False      False      False    False       False         False   \n",
       "409203    False      False      False    False       False         False   \n",
       "\n",
       "        YearMade  MachineHoursCurrentMeter  UsageBand  \n",
       "205615     False                      True      False  \n",
       "274835     False                      True      False  \n",
       "141296     False                      True      False  \n",
       "212552     False                      True      False  \n",
       "62755      False                      True      False  \n",
       "...          ...                       ...        ...  \n",
       "410879     False                      True      False  \n",
       "412476     False                      True      False  \n",
       "411927     False                      True      False  \n",
       "407124     False                      True      False  \n",
       "409203     False                      True      False  \n",
       "\n",
       "[412698 rows x 9 columns]"
      ]
     },
     "execution_count": 12,
     "metadata": {},
     "output_type": "execute_result"
    }
   ],
   "source": [
    "df.select_dtypes(np.number).isna()"
   ]
  },
  {
   "cell_type": "code",
   "execution_count": 13,
   "id": "efe0b7db",
   "metadata": {
    "execution": {
     "iopub.execute_input": "2022-07-04T09:36:22.478332Z",
     "iopub.status.busy": "2022-07-04T09:36:22.477515Z",
     "iopub.status.idle": "2022-07-04T09:36:22.492081Z",
     "shell.execute_reply": "2022-07-04T09:36:22.491059Z"
    },
    "papermill": {
     "duration": 0.029148,
     "end_time": "2022-07-04T09:36:22.494415",
     "exception": false,
     "start_time": "2022-07-04T09:36:22.465267",
     "status": "completed"
    },
    "tags": []
   },
   "outputs": [
    {
     "data": {
      "text/plain": [
       "0.0"
      ]
     },
     "execution_count": 13,
     "metadata": {},
     "output_type": "execute_result"
    }
   ],
   "source": [
    "df['MachineHoursCurrentMeter'].median()"
   ]
  },
  {
   "cell_type": "code",
   "execution_count": 14,
   "id": "ceac5266",
   "metadata": {
    "execution": {
     "iopub.execute_input": "2022-07-04T09:36:22.518182Z",
     "iopub.status.busy": "2022-07-04T09:36:22.517404Z",
     "iopub.status.idle": "2022-07-04T09:36:22.528423Z",
     "shell.execute_reply": "2022-07-04T09:36:22.527315Z"
    },
    "papermill": {
     "duration": 0.025613,
     "end_time": "2022-07-04T09:36:22.530776",
     "exception": false,
     "start_time": "2022-07-04T09:36:22.505163",
     "status": "completed"
    },
    "tags": []
   },
   "outputs": [
    {
     "data": {
      "text/plain": [
       "340946   NaN\n",
       "327120   NaN\n",
       "349532   NaN\n",
       "330190   NaN\n",
       "312538   NaN\n",
       "          ..\n",
       "336531   NaN\n",
       "392260   NaN\n",
       "349193   NaN\n",
       "351513   NaN\n",
       "351504   NaN\n",
       "Name: auctioneerID, Length: 20136, dtype: float64"
      ]
     },
     "execution_count": 14,
     "metadata": {},
     "output_type": "execute_result"
    }
   ],
   "source": [
    "df.loc[df['auctioneerID'].isna(),'auctioneerID']"
   ]
  },
  {
   "cell_type": "code",
   "execution_count": 15,
   "id": "ed5b1961",
   "metadata": {
    "execution": {
     "iopub.execute_input": "2022-07-04T09:36:22.554612Z",
     "iopub.status.busy": "2022-07-04T09:36:22.553823Z",
     "iopub.status.idle": "2022-07-04T09:36:31.311835Z",
     "shell.execute_reply": "2022-07-04T09:36:31.310583Z"
    },
    "papermill": {
     "duration": 8.773154,
     "end_time": "2022-07-04T09:36:31.314634",
     "exception": false,
     "start_time": "2022-07-04T09:36:22.541480",
     "status": "completed"
    },
    "tags": []
   },
   "outputs": [],
   "source": [
    "def preprocessing(df):\n",
    "    df = df.copy()\n",
    "    df.sort_values('saledate', inplace=True)\n",
    "    df['sale_year']= df['saledate'].dt.year\n",
    "    df['sale_month']= df['saledate'].dt.month\n",
    "    df['sale_day_of_week']= df['saledate'].dt.dayofweek\n",
    "    df['IMPUTED_auctioneerID']=df['auctioneerID'].isna()\n",
    "    df['IMPUTED_MachineHoursCurrentMeter']=df['MachineHoursCurrentMeter'].isna()\n",
    "    df['auctioneerID'].fillna(df['auctioneerID'].median(),inplace=True)\n",
    "    df['MachineHoursCurrentMeter'].fillna(df['MachineHoursCurrentMeter'].median(),inplace=True)\n",
    "    df.drop(['saledate','SalesID'],axis=1,inplace=True)\n",
    "    for col in df.select_dtypes('object').columns:\n",
    "        df['IMPUTED_'+col]= df[col].isna()\n",
    "        df[col] = df[col].astype('category').cat.codes\n",
    "   # X = df.drop('SalePrice',axis=1)\n",
    "   # y = df['SalePrice']\n",
    "    return df\n",
    "data = preprocessing(df)"
   ]
  },
  {
   "cell_type": "code",
   "execution_count": 16,
   "id": "f5aa6e6c",
   "metadata": {
    "execution": {
     "iopub.execute_input": "2022-07-04T09:36:31.338565Z",
     "iopub.status.busy": "2022-07-04T09:36:31.338027Z",
     "iopub.status.idle": "2022-07-04T09:36:31.349089Z",
     "shell.execute_reply": "2022-07-04T09:36:31.348376Z"
    },
    "papermill": {
     "duration": 0.025745,
     "end_time": "2022-07-04T09:36:31.351355",
     "exception": false,
     "start_time": "2022-07-04T09:36:31.325610",
     "status": "completed"
    },
    "tags": []
   },
   "outputs": [
    {
     "data": {
      "text/plain": [
       "array([-1,  1,  0,  2], dtype=int8)"
      ]
     },
     "execution_count": 16,
     "metadata": {},
     "output_type": "execute_result"
    }
   ],
   "source": [
    "data['UsageBand'].unique()"
   ]
  },
  {
   "cell_type": "code",
   "execution_count": 17,
   "id": "4a285018",
   "metadata": {
    "execution": {
     "iopub.execute_input": "2022-07-04T09:36:31.375710Z",
     "iopub.status.busy": "2022-07-04T09:36:31.374973Z",
     "iopub.status.idle": "2022-07-04T09:36:31.813161Z",
     "shell.execute_reply": "2022-07-04T09:36:31.811845Z"
    },
    "papermill": {
     "duration": 0.453864,
     "end_time": "2022-07-04T09:36:31.816144",
     "exception": false,
     "start_time": "2022-07-04T09:36:31.362280",
     "status": "completed"
    },
    "tags": []
   },
   "outputs": [],
   "source": [
    "from sklearn.ensemble import RandomForestRegressor"
   ]
  },
  {
   "cell_type": "code",
   "execution_count": 18,
   "id": "7cc3cb5e",
   "metadata": {
    "execution": {
     "iopub.execute_input": "2022-07-04T09:36:31.840818Z",
     "iopub.status.busy": "2022-07-04T09:36:31.840419Z",
     "iopub.status.idle": "2022-07-04T09:36:31.845741Z",
     "shell.execute_reply": "2022-07-04T09:36:31.844468Z"
    },
    "papermill": {
     "duration": 0.02034,
     "end_time": "2022-07-04T09:36:31.848240",
     "exception": false,
     "start_time": "2022-07-04T09:36:31.827900",
     "status": "completed"
    },
    "tags": []
   },
   "outputs": [],
   "source": [
    "model = RandomForestRegressor(max_samples=20000,\n",
    "                              n_jobs=-1,\n",
    "                             random_state=43)"
   ]
  },
  {
   "cell_type": "code",
   "execution_count": 19,
   "id": "d4c4cd31",
   "metadata": {
    "execution": {
     "iopub.execute_input": "2022-07-04T09:36:31.873275Z",
     "iopub.status.busy": "2022-07-04T09:36:31.872556Z",
     "iopub.status.idle": "2022-07-04T09:36:31.993402Z",
     "shell.execute_reply": "2022-07-04T09:36:31.992406Z"
    },
    "papermill": {
     "duration": 0.136437,
     "end_time": "2022-07-04T09:36:31.996126",
     "exception": false,
     "start_time": "2022-07-04T09:36:31.859689",
     "status": "completed"
    },
    "tags": []
   },
   "outputs": [],
   "source": [
    "test = data[data['sale_year'] == 2012]\n",
    "train = data[data['sale_year'] != 2012]"
   ]
  },
  {
   "cell_type": "code",
   "execution_count": 20,
   "id": "c2dd60ec",
   "metadata": {
    "execution": {
     "iopub.execute_input": "2022-07-04T09:36:32.020652Z",
     "iopub.status.busy": "2022-07-04T09:36:32.020253Z",
     "iopub.status.idle": "2022-07-04T09:36:32.076570Z",
     "shell.execute_reply": "2022-07-04T09:36:32.075192Z"
    },
    "papermill": {
     "duration": 0.071976,
     "end_time": "2022-07-04T09:36:32.079202",
     "exception": false,
     "start_time": "2022-07-04T09:36:32.007226",
     "status": "completed"
    },
    "tags": []
   },
   "outputs": [],
   "source": [
    "X_test = test.drop('SalePrice',axis=1)\n",
    "y_test = test['SalePrice']\n",
    "X_train = train.drop('SalePrice',axis=1)\n",
    "y_train = train['SalePrice']"
   ]
  },
  {
   "cell_type": "code",
   "execution_count": 21,
   "id": "e4615b1f",
   "metadata": {
    "execution": {
     "iopub.execute_input": "2022-07-04T09:36:32.103994Z",
     "iopub.status.busy": "2022-07-04T09:36:32.102739Z",
     "iopub.status.idle": "2022-07-04T09:36:32.198260Z",
     "shell.execute_reply": "2022-07-04T09:36:32.197156Z"
    },
    "papermill": {
     "duration": 0.11143,
     "end_time": "2022-07-04T09:36:32.201716",
     "exception": false,
     "start_time": "2022-07-04T09:36:32.090286",
     "status": "completed"
    },
    "tags": []
   },
   "outputs": [
    {
     "name": "stdout",
     "output_type": "stream",
     "text": [
      "<class 'pandas.core.frame.DataFrame'>\n",
      "Int64Index: 401125 entries, 205615 to 397022\n",
      "Data columns (total 98 columns):\n",
      " #   Column                            Non-Null Count   Dtype  \n",
      "---  ------                            --------------   -----  \n",
      " 0   MachineID                         401125 non-null  int64  \n",
      " 1   ModelID                           401125 non-null  int64  \n",
      " 2   datasource                        401125 non-null  int64  \n",
      " 3   auctioneerID                      401125 non-null  float64\n",
      " 4   YearMade                          401125 non-null  int64  \n",
      " 5   MachineHoursCurrentMeter          401125 non-null  float64\n",
      " 6   UsageBand                         401125 non-null  int8   \n",
      " 7   fiModelDesc                       401125 non-null  int16  \n",
      " 8   fiBaseModel                       401125 non-null  int16  \n",
      " 9   fiSecondaryDesc                   401125 non-null  int16  \n",
      " 10  fiModelSeries                     401125 non-null  int8   \n",
      " 11  fiModelDescriptor                 401125 non-null  int16  \n",
      " 12  ProductSize                       401125 non-null  int8   \n",
      " 13  fiProductClassDesc                401125 non-null  int8   \n",
      " 14  state                             401125 non-null  int8   \n",
      " 15  ProductGroup                      401125 non-null  int8   \n",
      " 16  ProductGroupDesc                  401125 non-null  int8   \n",
      " 17  Drive_System                      401125 non-null  int8   \n",
      " 18  Enclosure                         401125 non-null  int8   \n",
      " 19  Forks                             401125 non-null  int8   \n",
      " 20  Pad_Type                          401125 non-null  int8   \n",
      " 21  Ride_Control                      401125 non-null  int8   \n",
      " 22  Stick                             401125 non-null  int8   \n",
      " 23  Transmission                      401125 non-null  int8   \n",
      " 24  Turbocharged                      401125 non-null  int8   \n",
      " 25  Blade_Extension                   401125 non-null  int8   \n",
      " 26  Blade_Width                       401125 non-null  int8   \n",
      " 27  Enclosure_Type                    401125 non-null  int8   \n",
      " 28  Engine_Horsepower                 401125 non-null  int8   \n",
      " 29  Hydraulics                        401125 non-null  int8   \n",
      " 30  Pushblock                         401125 non-null  int8   \n",
      " 31  Ripper                            401125 non-null  int8   \n",
      " 32  Scarifier                         401125 non-null  int8   \n",
      " 33  Tip_Control                       401125 non-null  int8   \n",
      " 34  Tire_Size                         401125 non-null  int8   \n",
      " 35  Coupler                           401125 non-null  int8   \n",
      " 36  Coupler_System                    401125 non-null  int8   \n",
      " 37  Grouser_Tracks                    401125 non-null  int8   \n",
      " 38  Hydraulics_Flow                   401125 non-null  int8   \n",
      " 39  Track_Type                        401125 non-null  int8   \n",
      " 40  Undercarriage_Pad_Width           401125 non-null  int8   \n",
      " 41  Stick_Length                      401125 non-null  int8   \n",
      " 42  Thumb                             401125 non-null  int8   \n",
      " 43  Pattern_Changer                   401125 non-null  int8   \n",
      " 44  Grouser_Type                      401125 non-null  int8   \n",
      " 45  Backhoe_Mounting                  401125 non-null  int8   \n",
      " 46  Blade_Type                        401125 non-null  int8   \n",
      " 47  Travel_Controls                   401125 non-null  int8   \n",
      " 48  Differential_Type                 401125 non-null  int8   \n",
      " 49  Steering_Controls                 401125 non-null  int8   \n",
      " 50  sale_year                         401125 non-null  int64  \n",
      " 51  sale_month                        401125 non-null  int64  \n",
      " 52  sale_day_of_week                  401125 non-null  int64  \n",
      " 53  IMPUTED_auctioneerID              401125 non-null  bool   \n",
      " 54  IMPUTED_MachineHoursCurrentMeter  401125 non-null  bool   \n",
      " 55  IMPUTED_fiModelDesc               401125 non-null  bool   \n",
      " 56  IMPUTED_fiBaseModel               401125 non-null  bool   \n",
      " 57  IMPUTED_fiSecondaryDesc           401125 non-null  bool   \n",
      " 58  IMPUTED_fiModelSeries             401125 non-null  bool   \n",
      " 59  IMPUTED_fiModelDescriptor         401125 non-null  bool   \n",
      " 60  IMPUTED_ProductSize               401125 non-null  bool   \n",
      " 61  IMPUTED_fiProductClassDesc        401125 non-null  bool   \n",
      " 62  IMPUTED_state                     401125 non-null  bool   \n",
      " 63  IMPUTED_ProductGroup              401125 non-null  bool   \n",
      " 64  IMPUTED_ProductGroupDesc          401125 non-null  bool   \n",
      " 65  IMPUTED_Drive_System              401125 non-null  bool   \n",
      " 66  IMPUTED_Enclosure                 401125 non-null  bool   \n",
      " 67  IMPUTED_Forks                     401125 non-null  bool   \n",
      " 68  IMPUTED_Pad_Type                  401125 non-null  bool   \n",
      " 69  IMPUTED_Ride_Control              401125 non-null  bool   \n",
      " 70  IMPUTED_Stick                     401125 non-null  bool   \n",
      " 71  IMPUTED_Transmission              401125 non-null  bool   \n",
      " 72  IMPUTED_Turbocharged              401125 non-null  bool   \n",
      " 73  IMPUTED_Blade_Extension           401125 non-null  bool   \n",
      " 74  IMPUTED_Blade_Width               401125 non-null  bool   \n",
      " 75  IMPUTED_Enclosure_Type            401125 non-null  bool   \n",
      " 76  IMPUTED_Engine_Horsepower         401125 non-null  bool   \n",
      " 77  IMPUTED_Hydraulics                401125 non-null  bool   \n",
      " 78  IMPUTED_Pushblock                 401125 non-null  bool   \n",
      " 79  IMPUTED_Ripper                    401125 non-null  bool   \n",
      " 80  IMPUTED_Scarifier                 401125 non-null  bool   \n",
      " 81  IMPUTED_Tip_Control               401125 non-null  bool   \n",
      " 82  IMPUTED_Tire_Size                 401125 non-null  bool   \n",
      " 83  IMPUTED_Coupler                   401125 non-null  bool   \n",
      " 84  IMPUTED_Coupler_System            401125 non-null  bool   \n",
      " 85  IMPUTED_Grouser_Tracks            401125 non-null  bool   \n",
      " 86  IMPUTED_Hydraulics_Flow           401125 non-null  bool   \n",
      " 87  IMPUTED_Track_Type                401125 non-null  bool   \n",
      " 88  IMPUTED_Undercarriage_Pad_Width   401125 non-null  bool   \n",
      " 89  IMPUTED_Stick_Length              401125 non-null  bool   \n",
      " 90  IMPUTED_Thumb                     401125 non-null  bool   \n",
      " 91  IMPUTED_Pattern_Changer           401125 non-null  bool   \n",
      " 92  IMPUTED_Grouser_Type              401125 non-null  bool   \n",
      " 93  IMPUTED_Backhoe_Mounting          401125 non-null  bool   \n",
      " 94  IMPUTED_Blade_Type                401125 non-null  bool   \n",
      " 95  IMPUTED_Travel_Controls           401125 non-null  bool   \n",
      " 96  IMPUTED_Differential_Type         401125 non-null  bool   \n",
      " 97  IMPUTED_Steering_Controls         401125 non-null  bool   \n",
      "dtypes: bool(45), float64(2), int16(4), int64(7), int8(40)\n",
      "memory usage: 66.2 MB\n"
     ]
    }
   ],
   "source": [
    "X_train.info()"
   ]
  },
  {
   "cell_type": "code",
   "execution_count": 22,
   "id": "1175d0e3",
   "metadata": {
    "execution": {
     "iopub.execute_input": "2022-07-04T09:36:32.227288Z",
     "iopub.status.busy": "2022-07-04T09:36:32.226194Z",
     "iopub.status.idle": "2022-07-04T09:36:32.230669Z",
     "shell.execute_reply": "2022-07-04T09:36:32.229728Z"
    },
    "papermill": {
     "duration": 0.019404,
     "end_time": "2022-07-04T09:36:32.232793",
     "exception": false,
     "start_time": "2022-07-04T09:36:32.213389",
     "status": "completed"
    },
    "tags": []
   },
   "outputs": [],
   "source": [
    "#from sklearn.model_selection import train_test_split\n",
    "#X_train, X_test, y_train, y_test = train_test_split(X, y, test_size=0.3, random_state=101)"
   ]
  },
  {
   "cell_type": "code",
   "execution_count": 23,
   "id": "a81199c3",
   "metadata": {
    "execution": {
     "iopub.execute_input": "2022-07-04T09:36:32.257328Z",
     "iopub.status.busy": "2022-07-04T09:36:32.256609Z",
     "iopub.status.idle": "2022-07-04T09:36:32.260662Z",
     "shell.execute_reply": "2022-07-04T09:36:32.259854Z"
    },
    "papermill": {
     "duration": 0.018705,
     "end_time": "2022-07-04T09:36:32.262719",
     "exception": false,
     "start_time": "2022-07-04T09:36:32.244014",
     "status": "completed"
    },
    "tags": []
   },
   "outputs": [],
   "source": [
    "from sklearn.metrics import mean_squared_log_error"
   ]
  },
  {
   "cell_type": "code",
   "execution_count": 24,
   "id": "9c5d35b6",
   "metadata": {
    "execution": {
     "iopub.execute_input": "2022-07-04T09:36:32.287563Z",
     "iopub.status.busy": "2022-07-04T09:36:32.286881Z",
     "iopub.status.idle": "2022-07-04T09:36:55.025145Z",
     "shell.execute_reply": "2022-07-04T09:36:55.023740Z"
    },
    "papermill": {
     "duration": 22.75391,
     "end_time": "2022-07-04T09:36:55.027955",
     "exception": false,
     "start_time": "2022-07-04T09:36:32.274045",
     "status": "completed"
    },
    "tags": []
   },
   "outputs": [
    {
     "name": "stdout",
     "output_type": "stream",
     "text": [
      "CPU times: user 1min 10s, sys: 889 ms, total: 1min 11s\n",
      "Wall time: 22.7 s\n"
     ]
    },
    {
     "data": {
      "text/plain": [
       "0.27232546327808504"
      ]
     },
     "execution_count": 24,
     "metadata": {},
     "output_type": "execute_result"
    }
   ],
   "source": [
    "%%time\n",
    "model.fit(X_train,y_train)\n",
    "y_pred = model.predict(X_test)\n",
    "np.sqrt(mean_squared_log_error(y_test, y_pred))"
   ]
  },
  {
   "cell_type": "code",
   "execution_count": 25,
   "id": "e37dfb1d",
   "metadata": {
    "execution": {
     "iopub.execute_input": "2022-07-04T09:36:55.053935Z",
     "iopub.status.busy": "2022-07-04T09:36:55.052844Z",
     "iopub.status.idle": "2022-07-04T09:36:55.061387Z",
     "shell.execute_reply": "2022-07-04T09:36:55.060348Z"
    },
    "papermill": {
     "duration": 0.023925,
     "end_time": "2022-07-04T09:36:55.063720",
     "exception": false,
     "start_time": "2022-07-04T09:36:55.039795",
     "status": "completed"
    },
    "tags": []
   },
   "outputs": [
    {
     "data": {
      "text/plain": [
       "Index(['MachineID', 'ModelID', 'datasource', 'auctioneerID', 'YearMade',\n",
       "       'MachineHoursCurrentMeter', 'UsageBand', 'fiModelDesc', 'fiBaseModel',\n",
       "       'fiSecondaryDesc', 'fiModelSeries', 'fiModelDescriptor', 'ProductSize',\n",
       "       'fiProductClassDesc', 'state', 'ProductGroup', 'ProductGroupDesc',\n",
       "       'Drive_System', 'Enclosure', 'Forks', 'Pad_Type', 'Ride_Control',\n",
       "       'Stick', 'Transmission', 'Turbocharged', 'Blade_Extension',\n",
       "       'Blade_Width', 'Enclosure_Type', 'Engine_Horsepower', 'Hydraulics',\n",
       "       'Pushblock', 'Ripper', 'Scarifier', 'Tip_Control', 'Tire_Size',\n",
       "       'Coupler', 'Coupler_System', 'Grouser_Tracks', 'Hydraulics_Flow',\n",
       "       'Track_Type', 'Undercarriage_Pad_Width', 'Stick_Length', 'Thumb',\n",
       "       'Pattern_Changer', 'Grouser_Type', 'Backhoe_Mounting', 'Blade_Type',\n",
       "       'Travel_Controls', 'Differential_Type', 'Steering_Controls',\n",
       "       'sale_year', 'sale_month', 'sale_day_of_week', 'IMPUTED_auctioneerID',\n",
       "       'IMPUTED_MachineHoursCurrentMeter', 'IMPUTED_fiModelDesc',\n",
       "       'IMPUTED_fiBaseModel', 'IMPUTED_fiSecondaryDesc',\n",
       "       'IMPUTED_fiModelSeries', 'IMPUTED_fiModelDescriptor',\n",
       "       'IMPUTED_ProductSize', 'IMPUTED_fiProductClassDesc', 'IMPUTED_state',\n",
       "       'IMPUTED_ProductGroup', 'IMPUTED_ProductGroupDesc',\n",
       "       'IMPUTED_Drive_System', 'IMPUTED_Enclosure', 'IMPUTED_Forks',\n",
       "       'IMPUTED_Pad_Type', 'IMPUTED_Ride_Control', 'IMPUTED_Stick',\n",
       "       'IMPUTED_Transmission', 'IMPUTED_Turbocharged',\n",
       "       'IMPUTED_Blade_Extension', 'IMPUTED_Blade_Width',\n",
       "       'IMPUTED_Enclosure_Type', 'IMPUTED_Engine_Horsepower',\n",
       "       'IMPUTED_Hydraulics', 'IMPUTED_Pushblock', 'IMPUTED_Ripper',\n",
       "       'IMPUTED_Scarifier', 'IMPUTED_Tip_Control', 'IMPUTED_Tire_Size',\n",
       "       'IMPUTED_Coupler', 'IMPUTED_Coupler_System', 'IMPUTED_Grouser_Tracks',\n",
       "       'IMPUTED_Hydraulics_Flow', 'IMPUTED_Track_Type',\n",
       "       'IMPUTED_Undercarriage_Pad_Width', 'IMPUTED_Stick_Length',\n",
       "       'IMPUTED_Thumb', 'IMPUTED_Pattern_Changer', 'IMPUTED_Grouser_Type',\n",
       "       'IMPUTED_Backhoe_Mounting', 'IMPUTED_Blade_Type',\n",
       "       'IMPUTED_Travel_Controls', 'IMPUTED_Differential_Type',\n",
       "       'IMPUTED_Steering_Controls'],\n",
       "      dtype='object')"
      ]
     },
     "execution_count": 25,
     "metadata": {},
     "output_type": "execute_result"
    }
   ],
   "source": [
    "X_train.columns"
   ]
  },
  {
   "cell_type": "code",
   "execution_count": 26,
   "id": "b5799cf9",
   "metadata": {
    "execution": {
     "iopub.execute_input": "2022-07-04T09:36:55.088924Z",
     "iopub.status.busy": "2022-07-04T09:36:55.088269Z",
     "iopub.status.idle": "2022-07-04T09:36:55.093643Z",
     "shell.execute_reply": "2022-07-04T09:36:55.092747Z"
    },
    "papermill": {
     "duration": 0.020549,
     "end_time": "2022-07-04T09:36:55.095787",
     "exception": false,
     "start_time": "2022-07-04T09:36:55.075238",
     "status": "completed"
    },
    "tags": []
   },
   "outputs": [],
   "source": [
    "features_importance_df = pd.DataFrame()"
   ]
  },
  {
   "cell_type": "code",
   "execution_count": 27,
   "id": "03d28434",
   "metadata": {
    "execution": {
     "iopub.execute_input": "2022-07-04T09:36:55.121010Z",
     "iopub.status.busy": "2022-07-04T09:36:55.120393Z",
     "iopub.status.idle": "2022-07-04T09:36:55.126493Z",
     "shell.execute_reply": "2022-07-04T09:36:55.125650Z"
    },
    "papermill": {
     "duration": 0.021289,
     "end_time": "2022-07-04T09:36:55.128609",
     "exception": false,
     "start_time": "2022-07-04T09:36:55.107320",
     "status": "completed"
    },
    "tags": []
   },
   "outputs": [],
   "source": [
    "features_importance_df['Feature'] = X_train.columns"
   ]
  },
  {
   "cell_type": "code",
   "execution_count": 28,
   "id": "c3634c0a",
   "metadata": {
    "execution": {
     "iopub.execute_input": "2022-07-04T09:36:55.153820Z",
     "iopub.status.busy": "2022-07-04T09:36:55.153164Z",
     "iopub.status.idle": "2022-07-04T09:36:55.261927Z",
     "shell.execute_reply": "2022-07-04T09:36:55.260614Z"
    },
    "papermill": {
     "duration": 0.125482,
     "end_time": "2022-07-04T09:36:55.265708",
     "exception": false,
     "start_time": "2022-07-04T09:36:55.140226",
     "status": "completed"
    },
    "tags": []
   },
   "outputs": [],
   "source": [
    "features_importance_df['Value'] = model.feature_importances_"
   ]
  },
  {
   "cell_type": "code",
   "execution_count": 29,
   "id": "0fd76425",
   "metadata": {
    "execution": {
     "iopub.execute_input": "2022-07-04T09:36:55.293871Z",
     "iopub.status.busy": "2022-07-04T09:36:55.292764Z",
     "iopub.status.idle": "2022-07-04T09:36:55.305773Z",
     "shell.execute_reply": "2022-07-04T09:36:55.304626Z"
    },
    "papermill": {
     "duration": 0.028241,
     "end_time": "2022-07-04T09:36:55.308084",
     "exception": false,
     "start_time": "2022-07-04T09:36:55.279843",
     "status": "completed"
    },
    "tags": []
   },
   "outputs": [
    {
     "data": {
      "text/html": [
       "<div>\n",
       "<style scoped>\n",
       "    .dataframe tbody tr th:only-of-type {\n",
       "        vertical-align: middle;\n",
       "    }\n",
       "\n",
       "    .dataframe tbody tr th {\n",
       "        vertical-align: top;\n",
       "    }\n",
       "\n",
       "    .dataframe thead th {\n",
       "        text-align: right;\n",
       "    }\n",
       "</style>\n",
       "<table border=\"1\" class=\"dataframe\">\n",
       "  <thead>\n",
       "    <tr style=\"text-align: right;\">\n",
       "      <th></th>\n",
       "      <th>Feature</th>\n",
       "      <th>Value</th>\n",
       "    </tr>\n",
       "  </thead>\n",
       "  <tbody>\n",
       "    <tr>\n",
       "      <th>61</th>\n",
       "      <td>IMPUTED_fiProductClassDesc</td>\n",
       "      <td>0.000000e+00</td>\n",
       "    </tr>\n",
       "    <tr>\n",
       "      <th>64</th>\n",
       "      <td>IMPUTED_ProductGroupDesc</td>\n",
       "      <td>0.000000e+00</td>\n",
       "    </tr>\n",
       "    <tr>\n",
       "      <th>55</th>\n",
       "      <td>IMPUTED_fiModelDesc</td>\n",
       "      <td>0.000000e+00</td>\n",
       "    </tr>\n",
       "    <tr>\n",
       "      <th>56</th>\n",
       "      <td>IMPUTED_fiBaseModel</td>\n",
       "      <td>0.000000e+00</td>\n",
       "    </tr>\n",
       "    <tr>\n",
       "      <th>63</th>\n",
       "      <td>IMPUTED_ProductGroup</td>\n",
       "      <td>0.000000e+00</td>\n",
       "    </tr>\n",
       "    <tr>\n",
       "      <th>62</th>\n",
       "      <td>IMPUTED_state</td>\n",
       "      <td>0.000000e+00</td>\n",
       "    </tr>\n",
       "    <tr>\n",
       "      <th>85</th>\n",
       "      <td>IMPUTED_Grouser_Tracks</td>\n",
       "      <td>1.740903e-07</td>\n",
       "    </tr>\n",
       "    <tr>\n",
       "      <th>72</th>\n",
       "      <td>IMPUTED_Turbocharged</td>\n",
       "      <td>4.611753e-06</td>\n",
       "    </tr>\n",
       "    <tr>\n",
       "      <th>66</th>\n",
       "      <td>IMPUTED_Enclosure</td>\n",
       "      <td>5.969191e-06</td>\n",
       "    </tr>\n",
       "    <tr>\n",
       "      <th>38</th>\n",
       "      <td>Hydraulics_Flow</td>\n",
       "      <td>6.287411e-06</td>\n",
       "    </tr>\n",
       "  </tbody>\n",
       "</table>\n",
       "</div>"
      ],
      "text/plain": [
       "                       Feature         Value\n",
       "61  IMPUTED_fiProductClassDesc  0.000000e+00\n",
       "64    IMPUTED_ProductGroupDesc  0.000000e+00\n",
       "55         IMPUTED_fiModelDesc  0.000000e+00\n",
       "56         IMPUTED_fiBaseModel  0.000000e+00\n",
       "63        IMPUTED_ProductGroup  0.000000e+00\n",
       "62               IMPUTED_state  0.000000e+00\n",
       "85      IMPUTED_Grouser_Tracks  1.740903e-07\n",
       "72        IMPUTED_Turbocharged  4.611753e-06\n",
       "66           IMPUTED_Enclosure  5.969191e-06\n",
       "38             Hydraulics_Flow  6.287411e-06"
      ]
     },
     "execution_count": 29,
     "metadata": {},
     "output_type": "execute_result"
    }
   ],
   "source": [
    "features_importance_df.sort_values('Value',ascending=True)[:10]"
   ]
  },
  {
   "cell_type": "code",
   "execution_count": 30,
   "id": "ec123b23",
   "metadata": {
    "execution": {
     "iopub.execute_input": "2022-07-04T09:36:55.333342Z",
     "iopub.status.busy": "2022-07-04T09:36:55.332927Z",
     "iopub.status.idle": "2022-07-04T09:36:55.702917Z",
     "shell.execute_reply": "2022-07-04T09:36:55.702017Z"
    },
    "papermill": {
     "duration": 0.385342,
     "end_time": "2022-07-04T09:36:55.705092",
     "exception": false,
     "start_time": "2022-07-04T09:36:55.319750",
     "status": "completed"
    },
    "tags": []
   },
   "outputs": [
    {
     "data": {
      "text/plain": [
       "<AxesSubplot:xlabel='Value', ylabel='Feature'>"
      ]
     },
     "execution_count": 30,
     "metadata": {},
     "output_type": "execute_result"
    },
    {
     "data": {
      "image/png": "[encoded data removed]",
      "text/plain": [
       "<Figure size 1152x720 with 1 Axes>"
      ]
     },
     "metadata": {
      "needs_background": "light"
     },
     "output_type": "display_data"
    }
   ],
   "source": [
    "plt.figure(figsize=(16,10))\n",
    "sns.barplot(data=features_importance_df.sort_values('Value',ascending=False)[:20],x='Value',y='Feature')"
   ]
  },
  {
   "cell_type": "code",
   "execution_count": 31,
   "id": "603667ab",
   "metadata": {
    "execution": {
     "iopub.execute_input": "2022-07-04T09:36:55.732365Z",
     "iopub.status.busy": "2022-07-04T09:36:55.731684Z",
     "iopub.status.idle": "2022-07-04T09:36:55.738357Z",
     "shell.execute_reply": "2022-07-04T09:36:55.737603Z"
    },
    "papermill": {
     "duration": 0.022577,
     "end_time": "2022-07-04T09:36:55.740344",
     "exception": false,
     "start_time": "2022-07-04T09:36:55.717767",
     "status": "completed"
    },
    "tags": []
   },
   "outputs": [
    {
     "data": {
      "text/html": [
       "<svg  width=\"550\" height=\"55\"><rect x=\"0\" y=\"0\" width=\"55\" height=\"55\" style=\"fill:#1f77b4;stroke-width:2;stroke:rgb(255,255,255)\"/><rect x=\"55\" y=\"0\" width=\"55\" height=\"55\" style=\"fill:#ff7f0e;stroke-width:2;stroke:rgb(255,255,255)\"/><rect x=\"110\" y=\"0\" width=\"55\" height=\"55\" style=\"fill:#2ca02c;stroke-width:2;stroke:rgb(255,255,255)\"/><rect x=\"165\" y=\"0\" width=\"55\" height=\"55\" style=\"fill:#d62728;stroke-width:2;stroke:rgb(255,255,255)\"/><rect x=\"220\" y=\"0\" width=\"55\" height=\"55\" style=\"fill:#9467bd;stroke-width:2;stroke:rgb(255,255,255)\"/><rect x=\"275\" y=\"0\" width=\"55\" height=\"55\" style=\"fill:#8c564b;stroke-width:2;stroke:rgb(255,255,255)\"/><rect x=\"330\" y=\"0\" width=\"55\" height=\"55\" style=\"fill:#e377c2;stroke-width:2;stroke:rgb(255,255,255)\"/><rect x=\"385\" y=\"0\" width=\"55\" height=\"55\" style=\"fill:#7f7f7f;stroke-width:2;stroke:rgb(255,255,255)\"/><rect x=\"440\" y=\"0\" width=\"55\" height=\"55\" style=\"fill:#bcbd22;stroke-width:2;stroke:rgb(255,255,255)\"/><rect x=\"495\" y=\"0\" width=\"55\" height=\"55\" style=\"fill:#17becf;stroke-width:2;stroke:rgb(255,255,255)\"/></svg>"
      ],
      "text/plain": [
       "[(0.12156862745098039, 0.4666666666666667, 0.7058823529411765),\n",
       " (1.0, 0.4980392156862745, 0.054901960784313725),\n",
       " (0.17254901960784313, 0.6274509803921569, 0.17254901960784313),\n",
       " (0.8392156862745098, 0.15294117647058825, 0.1568627450980392),\n",
       " (0.5803921568627451, 0.403921568627451, 0.7411764705882353),\n",
       " (0.5490196078431373, 0.33725490196078434, 0.29411764705882354),\n",
       " (0.8901960784313725, 0.4666666666666667, 0.7607843137254902),\n",
       " (0.4980392156862745, 0.4980392156862745, 0.4980392156862745),\n",
       " (0.7372549019607844, 0.7411764705882353, 0.13333333333333333),\n",
       " (0.09019607843137255, 0.7450980392156863, 0.8117647058823529)]"
      ]
     },
     "execution_count": 31,
     "metadata": {},
     "output_type": "execute_result"
    }
   ],
   "source": [
    "sns.color_palette()"
   ]
  },
  {
   "cell_type": "code",
   "execution_count": 32,
   "id": "50f482c2",
   "metadata": {
    "execution": {
     "iopub.execute_input": "2022-07-04T09:36:55.767609Z",
     "iopub.status.busy": "2022-07-04T09:36:55.766925Z",
     "iopub.status.idle": "2022-07-04T09:36:56.101117Z",
     "shell.execute_reply": "2022-07-04T09:36:56.100273Z"
    },
    "papermill": {
     "duration": 0.350343,
     "end_time": "2022-07-04T09:36:56.103250",
     "exception": false,
     "start_time": "2022-07-04T09:36:55.752907",
     "status": "completed"
    },
    "tags": []
   },
   "outputs": [
    {
     "data": {
      "text/plain": [
       "<AxesSubplot:xlabel='Value', ylabel='Feature'>"
      ]
     },
     "execution_count": 32,
     "metadata": {},
     "output_type": "execute_result"
    },
    {
     "data": {
      "image/png": "[encoded data removed]",
      "text/plain": [
       "<Figure size 1152x720 with 1 Axes>"
      ]
     },
     "metadata": {
      "needs_background": "light"
     },
     "output_type": "display_data"
    }
   ],
   "source": [
    "f, ax = plt.subplots(figsize=(16, 10))\n",
    "sns.barplot(data=features_importance_df.sort_values('Value',ascending=False)[:20],\n",
    "            x='Value',\n",
    "            y='Feature',\n",
    "            ax=ax,\n",
    "            palette='rocket')"
   ]
  }
 ],
 "metadata": {
  "kernelspec": {
   "display_name": "Python 3",
   "language": "python",
   "name": "python3"
  },
  "language_info": {
   "codemirror_mode": {
    "name": "ipython",
    "version": 3
   },
   "file_extension": ".py",
   "mimetype": "text/x-python",
   "name": "python",
   "nbconvert_exporter": "python",
   "pygments_lexer": "ipython3",
   "version": "3.7.12"
  },
  "papermill": {
   "default_parameters": {},
   "duration": 54.757198,
   "end_time": "2022-07-04T09:36:57.040178",
   "environment_variables": {},
   "exception": null,
   "input_path": "__notebook__.ipynb",
   "output_path": "__notebook__.ipynb",
   "parameters": {},
   "start_time": "2022-07-04T09:36:02.282980",
   "version": "2.3.4"
  }
 },
 "nbformat": 4,
 "nbformat_minor": 5
}
