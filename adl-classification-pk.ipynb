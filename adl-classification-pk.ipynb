{
 "cells": [
  {
   "cell_type": "code",
   "execution_count": 1,
   "id": "ae4d321f",
   "metadata": {
    "_cell_guid": "b1076dfc-b9ad-4769-8c92-a6c4dae69d19",
    "_uuid": "8f2839f25d086af736a60e9eeb907d3b93b6e0e5",
    "execution": {
     "iopub.execute_input": "2022-06-29T20:50:34.880985Z",
     "iopub.status.busy": "2022-06-29T20:50:34.879934Z",
     "iopub.status.idle": "2022-06-29T20:50:34.904980Z",
     "shell.execute_reply": "2022-06-29T20:50:34.903540Z"
    },
    "papermill": {
     "duration": 0.033925,
     "end_time": "2022-06-29T20:50:34.907563",
     "exception": false,
     "start_time": "2022-06-29T20:50:34.873638",
     "status": "completed"
    },
    "tags": []
   },
   "outputs": [
    {
     "name": "stdout",
     "output_type": "stream",
     "text": [
      "/kaggle/input/adl-classification/dataset.csv\n"
     ]
    }
   ],
   "source": [
    "# This Python 3 environment comes with many helpful analytics libraries installed\n",
    "# It is defined by the kaggle/python Docker image: https://github.com/kaggle/docker-python\n",
    "# For example, here's several helpful packages to load\n",
    "\n",
    "import numpy as np # linear algebra\n",
    "import pandas as pd # data processing, CSV file I/O (e.g. pd.read_csv)\n",
    "\n",
    "# Input data files are available in the read-only \"../input/\" directory\n",
    "# For example, running this (by clicking run or pressing Shift+Enter) will list all files under the input directory\n",
    "\n",
    "import os\n",
    "for dirname, _, filenames in os.walk('/kaggle/input'):\n",
    "    for filename in filenames:\n",
    "        print(os.path.join(dirname, filename))\n",
    "\n",
    "# You can write up to 20GB to the current directory (/kaggle/working/) that gets preserved as output when you create a version using \"Save & Run All\" \n",
    "# You can also write temporary files to /kaggle/temp/, but they won't be saved outside of the current session"
   ]
  },
  {
   "cell_type": "code",
   "execution_count": 2,
   "id": "4bbbde1a",
   "metadata": {
    "execution": {
     "iopub.execute_input": "2022-06-29T20:50:34.917507Z",
     "iopub.status.busy": "2022-06-29T20:50:34.916761Z",
     "iopub.status.idle": "2022-06-29T20:50:39.917667Z",
     "shell.execute_reply": "2022-06-29T20:50:39.916556Z"
    },
    "papermill": {
     "duration": 5.008736,
     "end_time": "2022-06-29T20:50:39.920287",
     "exception": false,
     "start_time": "2022-06-29T20:50:34.911551",
     "status": "completed"
    },
    "tags": []
   },
   "outputs": [],
   "source": [
    "import matplotlib.pyplot as plt\n",
    "import seaborn as sns\n",
    "from sklearn.model_selection import train_test_split\n",
    "import shap\n",
    "from sklearn.ensemble import RandomForestClassifier"
   ]
  },
  {
   "cell_type": "code",
   "execution_count": 3,
   "id": "a0b8dfba",
   "metadata": {
    "execution": {
     "iopub.execute_input": "2022-06-29T20:50:39.930178Z",
     "iopub.status.busy": "2022-06-29T20:50:39.929600Z",
     "iopub.status.idle": "2022-06-29T20:50:39.949809Z",
     "shell.execute_reply": "2022-06-29T20:50:39.948699Z"
    },
    "papermill": {
     "duration": 0.028035,
     "end_time": "2022-06-29T20:50:39.952404",
     "exception": false,
     "start_time": "2022-06-29T20:50:39.924369",
     "status": "completed"
    },
    "tags": []
   },
   "outputs": [],
   "source": [
    "data = pd.read_csv('../input/adl-classification/dataset.csv',names='1 2 3 4 5 6 target'.split())"
   ]
  },
  {
   "cell_type": "code",
   "execution_count": 4,
   "id": "023fa9be",
   "metadata": {
    "execution": {
     "iopub.execute_input": "2022-06-29T20:50:39.962075Z",
     "iopub.status.busy": "2022-06-29T20:50:39.961322Z",
     "iopub.status.idle": "2022-06-29T20:50:39.985073Z",
     "shell.execute_reply": "2022-06-29T20:50:39.983908Z"
    },
    "papermill": {
     "duration": 0.031093,
     "end_time": "2022-06-29T20:50:39.987420",
     "exception": false,
     "start_time": "2022-06-29T20:50:39.956327",
     "status": "completed"
    },
    "tags": []
   },
   "outputs": [
    {
     "data": {
      "text/html": [
       "<div>\n",
       "<style scoped>\n",
       "    .dataframe tbody tr th:only-of-type {\n",
       "        vertical-align: middle;\n",
       "    }\n",
       "\n",
       "    .dataframe tbody tr th {\n",
       "        vertical-align: top;\n",
       "    }\n",
       "\n",
       "    .dataframe thead th {\n",
       "        text-align: right;\n",
       "    }\n",
       "</style>\n",
       "<table border=\"1\" class=\"dataframe\">\n",
       "  <thead>\n",
       "    <tr style=\"text-align: right;\">\n",
       "      <th></th>\n",
       "      <th>1</th>\n",
       "      <th>2</th>\n",
       "      <th>3</th>\n",
       "      <th>4</th>\n",
       "      <th>5</th>\n",
       "      <th>6</th>\n",
       "      <th>target</th>\n",
       "    </tr>\n",
       "  </thead>\n",
       "  <tbody>\n",
       "    <tr>\n",
       "      <th>0</th>\n",
       "      <td>670</td>\n",
       "      <td>696</td>\n",
       "      <td>1252</td>\n",
       "      <td>1720</td>\n",
       "      <td>1321</td>\n",
       "      <td>2431</td>\n",
       "      <td>4</td>\n",
       "    </tr>\n",
       "    <tr>\n",
       "      <th>1</th>\n",
       "      <td>641</td>\n",
       "      <td>674</td>\n",
       "      <td>1156</td>\n",
       "      <td>1652</td>\n",
       "      <td>1410</td>\n",
       "      <td>2433</td>\n",
       "      <td>4</td>\n",
       "    </tr>\n",
       "    <tr>\n",
       "      <th>2</th>\n",
       "      <td>642</td>\n",
       "      <td>646</td>\n",
       "      <td>1159</td>\n",
       "      <td>1643</td>\n",
       "      <td>1455</td>\n",
       "      <td>2361</td>\n",
       "      <td>4</td>\n",
       "    </tr>\n",
       "    <tr>\n",
       "      <th>3</th>\n",
       "      <td>640</td>\n",
       "      <td>590</td>\n",
       "      <td>1105</td>\n",
       "      <td>1608</td>\n",
       "      <td>1459</td>\n",
       "      <td>2427</td>\n",
       "      <td>4</td>\n",
       "    </tr>\n",
       "    <tr>\n",
       "      <th>4</th>\n",
       "      <td>616</td>\n",
       "      <td>627</td>\n",
       "      <td>1192</td>\n",
       "      <td>1637</td>\n",
       "      <td>1466</td>\n",
       "      <td>2447</td>\n",
       "      <td>4</td>\n",
       "    </tr>\n",
       "    <tr>\n",
       "      <th>...</th>\n",
       "      <td>...</td>\n",
       "      <td>...</td>\n",
       "      <td>...</td>\n",
       "      <td>...</td>\n",
       "      <td>...</td>\n",
       "      <td>...</td>\n",
       "      <td>...</td>\n",
       "    </tr>\n",
       "    <tr>\n",
       "      <th>1840</th>\n",
       "      <td>862</td>\n",
       "      <td>826</td>\n",
       "      <td>1564</td>\n",
       "      <td>1768</td>\n",
       "      <td>1540</td>\n",
       "      <td>2037</td>\n",
       "      <td>4</td>\n",
       "    </tr>\n",
       "    <tr>\n",
       "      <th>1841</th>\n",
       "      <td>917</td>\n",
       "      <td>821</td>\n",
       "      <td>1571</td>\n",
       "      <td>1779</td>\n",
       "      <td>1543</td>\n",
       "      <td>2008</td>\n",
       "      <td>4</td>\n",
       "    </tr>\n",
       "    <tr>\n",
       "      <th>1842</th>\n",
       "      <td>925</td>\n",
       "      <td>832</td>\n",
       "      <td>1582</td>\n",
       "      <td>1776</td>\n",
       "      <td>1545</td>\n",
       "      <td>1989</td>\n",
       "      <td>4</td>\n",
       "    </tr>\n",
       "    <tr>\n",
       "      <th>1843</th>\n",
       "      <td>928</td>\n",
       "      <td>840</td>\n",
       "      <td>1587</td>\n",
       "      <td>1787</td>\n",
       "      <td>1538</td>\n",
       "      <td>1986</td>\n",
       "      <td>4</td>\n",
       "    </tr>\n",
       "    <tr>\n",
       "      <th>1844</th>\n",
       "      <td>926</td>\n",
       "      <td>840</td>\n",
       "      <td>1606</td>\n",
       "      <td>1785</td>\n",
       "      <td>1555</td>\n",
       "      <td>1996</td>\n",
       "      <td>4</td>\n",
       "    </tr>\n",
       "  </tbody>\n",
       "</table>\n",
       "<p>1845 rows × 7 columns</p>\n",
       "</div>"
      ],
      "text/plain": [
       "        1    2     3     4     5     6  target\n",
       "0     670  696  1252  1720  1321  2431       4\n",
       "1     641  674  1156  1652  1410  2433       4\n",
       "2     642  646  1159  1643  1455  2361       4\n",
       "3     640  590  1105  1608  1459  2427       4\n",
       "4     616  627  1192  1637  1466  2447       4\n",
       "...   ...  ...   ...   ...   ...   ...     ...\n",
       "1840  862  826  1564  1768  1540  2037       4\n",
       "1841  917  821  1571  1779  1543  2008       4\n",
       "1842  925  832  1582  1776  1545  1989       4\n",
       "1843  928  840  1587  1787  1538  1986       4\n",
       "1844  926  840  1606  1785  1555  1996       4\n",
       "\n",
       "[1845 rows x 7 columns]"
      ]
     },
     "execution_count": 4,
     "metadata": {},
     "output_type": "execute_result"
    }
   ],
   "source": [
    "data"
   ]
  },
  {
   "cell_type": "code",
   "execution_count": 5,
   "id": "a53087dd",
   "metadata": {
    "execution": {
     "iopub.execute_input": "2022-06-29T20:50:39.998422Z",
     "iopub.status.busy": "2022-06-29T20:50:39.997637Z",
     "iopub.status.idle": "2022-06-29T20:50:40.018410Z",
     "shell.execute_reply": "2022-06-29T20:50:40.016782Z"
    },
    "papermill": {
     "duration": 0.029152,
     "end_time": "2022-06-29T20:50:40.021215",
     "exception": false,
     "start_time": "2022-06-29T20:50:39.992063",
     "status": "completed"
    },
    "tags": []
   },
   "outputs": [
    {
     "name": "stdout",
     "output_type": "stream",
     "text": [
      "train size:  (1476, 6) (1476,)\n",
      "test size:  (369, 6) (369,)\n"
     ]
    }
   ],
   "source": [
    "def preprocessor(df):\n",
    "    df = df.copy()\n",
    "    X = df.drop(['target'],axis=1)\n",
    "    y = df['target']\n",
    "    X_train,X_test,y_train,y_test = train_test_split(X,y,train_size=0.8,shuffle=True,random_state=2)\n",
    "    return X_train,X_test,y_train,y_test\n",
    "X_train,X_test,y_train,y_test = preprocessor(data)\n",
    "print('train size: ',X_train.shape, y_train.shape)\n",
    "print('test size: ',X_test.shape, y_test.shape)"
   ]
  },
  {
   "cell_type": "code",
   "execution_count": 6,
   "id": "3f65b4d7",
   "metadata": {
    "execution": {
     "iopub.execute_input": "2022-06-29T20:50:40.031621Z",
     "iopub.status.busy": "2022-06-29T20:50:40.031220Z",
     "iopub.status.idle": "2022-06-29T20:50:40.375548Z",
     "shell.execute_reply": "2022-06-29T20:50:40.374055Z"
    },
    "papermill": {
     "duration": 0.352662,
     "end_time": "2022-06-29T20:50:40.378218",
     "exception": false,
     "start_time": "2022-06-29T20:50:40.025556",
     "status": "completed"
    },
    "tags": []
   },
   "outputs": [
    {
     "name": "stdout",
     "output_type": "stream",
     "text": [
      "acc:  0.9539\n"
     ]
    }
   ],
   "source": [
    "model = RandomForestClassifier()\n",
    "model.fit(X_train,y_train)\n",
    "print('acc: ',round(model.score(X_test,y_test),4))"
   ]
  },
  {
   "cell_type": "code",
   "execution_count": 7,
   "id": "cfd1a8d7",
   "metadata": {
    "execution": {
     "iopub.execute_input": "2022-06-29T20:50:40.388328Z",
     "iopub.status.busy": "2022-06-29T20:50:40.387909Z",
     "iopub.status.idle": "2022-06-29T20:50:40.406126Z",
     "shell.execute_reply": "2022-06-29T20:50:40.405087Z"
    },
    "papermill": {
     "duration": 0.026369,
     "end_time": "2022-06-29T20:50:40.408974",
     "exception": false,
     "start_time": "2022-06-29T20:50:40.382605",
     "status": "completed"
    },
    "tags": []
   },
   "outputs": [],
   "source": [
    "explainer = shap.TreeExplainer(model)"
   ]
  },
  {
   "cell_type": "code",
   "execution_count": 8,
   "id": "39a429d8",
   "metadata": {
    "execution": {
     "iopub.execute_input": "2022-06-29T20:50:40.419006Z",
     "iopub.status.busy": "2022-06-29T20:50:40.418601Z",
     "iopub.status.idle": "2022-06-29T20:50:41.281128Z",
     "shell.execute_reply": "2022-06-29T20:50:41.279765Z"
    },
    "papermill": {
     "duration": 0.870724,
     "end_time": "2022-06-29T20:50:41.283915",
     "exception": false,
     "start_time": "2022-06-29T20:50:40.413191",
     "status": "completed"
    },
    "tags": []
   },
   "outputs": [],
   "source": [
    "shap_values = explainer.shap_values(X_test)"
   ]
  },
  {
   "cell_type": "code",
   "execution_count": 9,
   "id": "902a28f2",
   "metadata": {
    "execution": {
     "iopub.execute_input": "2022-06-29T20:50:41.294124Z",
     "iopub.status.busy": "2022-06-29T20:50:41.293741Z",
     "iopub.status.idle": "2022-06-29T20:50:41.300803Z",
     "shell.execute_reply": "2022-06-29T20:50:41.299580Z"
    },
    "papermill": {
     "duration": 0.015348,
     "end_time": "2022-06-29T20:50:41.303553",
     "exception": false,
     "start_time": "2022-06-29T20:50:41.288205",
     "status": "completed"
    },
    "tags": []
   },
   "outputs": [
    {
     "data": {
      "text/plain": [
       "array([1, 2, 3, 4])"
      ]
     },
     "execution_count": 9,
     "metadata": {},
     "output_type": "execute_result"
    }
   ],
   "source": [
    "model.classes_"
   ]
  },
  {
   "cell_type": "code",
   "execution_count": 10,
   "id": "d739fd5d",
   "metadata": {
    "execution": {
     "iopub.execute_input": "2022-06-29T20:50:41.315426Z",
     "iopub.status.busy": "2022-06-29T20:50:41.314981Z",
     "iopub.status.idle": "2022-06-29T20:50:41.705379Z",
     "shell.execute_reply": "2022-06-29T20:50:41.704512Z"
    },
    "papermill": {
     "duration": 0.399954,
     "end_time": "2022-06-29T20:50:41.708071",
     "exception": false,
     "start_time": "2022-06-29T20:50:41.308117",
     "status": "completed"
    },
    "tags": []
   },
   "outputs": [
    {
     "data": {
      "image/png": "[encoded data removed]",
      "text/plain": [
       "<Figure size 576x280.8 with 1 Axes>"
      ]
     },
     "metadata": {
      "needs_background": "light"
     },
     "output_type": "display_data"
    }
   ],
   "source": [
    "shap.summary_plot(shap_values,X_test,class_names=model.classes_)"
   ]
  }
 ],
 "metadata": {
  "kernelspec": {
   "display_name": "Python 3",
   "language": "python",
   "name": "python3"
  },
  "language_info": {
   "codemirror_mode": {
    "name": "ipython",
    "version": 3
   },
   "file_extension": ".py",
   "mimetype": "text/x-python",
   "name": "python",
   "nbconvert_exporter": "python",
   "pygments_lexer": "ipython3",
   "version": "3.7.12"
  },
  "papermill": {
   "default_parameters": {},
   "duration": 18.320824,
   "end_time": "2022-06-29T20:50:42.736815",
   "environment_variables": {},
   "exception": null,
   "input_path": "__notebook__.ipynb",
   "output_path": "__notebook__.ipynb",
   "parameters": {},
   "start_time": "2022-06-29T20:50:24.415991",
   "version": "2.3.4"
  }
 },
 "nbformat": 4,
 "nbformat_minor": 5
}
